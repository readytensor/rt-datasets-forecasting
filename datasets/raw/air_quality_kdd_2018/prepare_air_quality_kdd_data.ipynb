{
 "cells": [
  {
   "cell_type": "code",
   "execution_count": 17,
   "id": "05e7eb9c",
   "metadata": {},
   "outputs": [],
   "source": [
    "import pandas as pd\n",
    "from typing import List, Tuple, Dict, Any\n",
    "import numpy as np\n",
    "from datetime import datetime, timedelta\n",
    "import os\n",
    "import sys\n",
    "import matplotlib.pyplot as plt"
   ]
  },
  {
   "cell_type": "code",
   "execution_count": 18,
   "id": "0e76a6c9",
   "metadata": {},
   "outputs": [],
   "source": [
    "dataset_name = \"air_quality_kdd_2018\""
   ]
  },
  {
   "cell_type": "code",
   "execution_count": 19,
   "id": "7f807a0c",
   "metadata": {},
   "outputs": [],
   "source": [
    "input_fname = \"kdd_cup_2018_dataset_without_missing_values.tsf\"\n",
    "output_dir = f'./../../processed/{dataset_name}/'\n",
    "outp_fname = os.path.join(output_dir, f'{dataset_name}.csv')\n",
    "outp_fig_fname = os.path.join(output_dir, f'{dataset_name}.png')"
   ]
  },
  {
   "cell_type": "code",
   "execution_count": 20,
   "id": "5d53bac3",
   "metadata": {},
   "outputs": [],
   "source": [
    "def data_line_generator(filepath: str):\n",
    "    \"\"\"\n",
    "    Generator function that yields each line of data after the '@data' marker in the file.\n",
    "\n",
    "    Args:\n",
    "    filepath (str): The path to the file from which to read the data.\n",
    "\n",
    "    Yields:\n",
    "    str: The next line of data from the file.\n",
    "    \"\"\"\n",
    "    with open(filepath, 'r') as file:\n",
    "        # Iterate over the file until the '@data' marker is found\n",
    "        for line in file:\n",
    "            if line.strip() == \"@data\":\n",
    "                break\n",
    "\n",
    "        # Yield each line of data after the '@data' marker\n",
    "        for line in file:\n",
    "            if not line.strip():  # Skip any empty lines that may be present\n",
    "                continue\n",
    "            yield line.strip()"
   ]
  },
  {
   "cell_type": "code",
   "execution_count": 27,
   "id": "f05ffa78",
   "metadata": {},
   "outputs": [
    {
     "data": {
      "text/plain": [
       "['2017-01-01 14:00:00',\n",
       " '2017-01-01 15:00:00',\n",
       " '2017-01-01 16:00:00',\n",
       " '2017-01-01 17:00:00',\n",
       " '2017-01-01 18:00:00']"
      ]
     },
     "execution_count": 27,
     "metadata": {},
     "output_type": "execute_result"
    }
   ],
   "source": [
    "def generate_timestamps(start_timestamp_str: str, time_steps: int) -> List[str]:\n",
    "    \"\"\"\n",
    "    Generates a list of hourly timestamps starting with the given timestamp and incrementing by 1 hour.\n",
    "\n",
    "    Args:\n",
    "        start_timestamp_str (str): The starting timestamp in string format 'YYYY-MM-DD HH-MM-SS'.\n",
    "        time_steps (int): The number of hourly time steps to generate.\n",
    "\n",
    "    Returns:\n",
    "        List[str]: A list of timestamps in string format incremented hourly.\n",
    "    \"\"\"\n",
    "    # Convert the start timestamp string to a datetime object\n",
    "    start_timestamp = datetime.strptime(start_timestamp_str, \"%Y-%m-%d %H-%M-%S\")\n",
    "    \n",
    "    # Generate a list of timestamps\n",
    "    timestamps = [start_timestamp + timedelta(hours=i) for i in range(time_steps)]\n",
    "    \n",
    "    # Convert the timestamps back to strings\n",
    "    timestamp_strs = [timestamp.strftime(\"%Y-%m-%d %H:%M:%S\") for timestamp in timestamps]\n",
    "    \n",
    "    return timestamp_strs\n",
    "\n",
    "# Test the function with a start timestamp and 5 time steps\n",
    "test_timestamps = generate_timestamps(\"2017-01-01 14-00-00\", 5)\n",
    "test_timestamps"
   ]
  },
  {
   "cell_type": "code",
   "execution_count": 28,
   "id": "bbfc09a2",
   "metadata": {},
   "outputs": [
    {
     "name": "stdout",
     "output_type": "stream",
     "text": [
      "0 ['T1', 'Beijing', 'aotizhongxin_aq', 'PM2.5', '2017-01-01 14-00-00'] ('2017-01-01 14-00-00', 10898) 10898\n"
     ]
    },
    {
     "ename": "SystemExit",
     "evalue": "",
     "output_type": "error",
     "traceback": [
      "An exception has occurred, use %tb to see the full traceback.\n",
      "\u001b[1;31mSystemExit\u001b[0m\n"
     ]
    },
    {
     "name": "stderr",
     "output_type": "stream",
     "text": [
      "C:\\Users\\abbus\\anaconda3\\Lib\\site-packages\\IPython\\core\\interactiveshell.py:3534: UserWarning: To exit: use 'exit', 'quit', or Ctrl-D.\n",
      "  warn(\"To exit: use 'exit', 'quit', or Ctrl-D.\", stacklevel=1)\n"
     ]
    }
   ],
   "source": [
    "data_gen = data_line_generator(input_fname)\n",
    "\n",
    "def process_data():\n",
    "    # Print the first few lines to ensure the generator is working as expected\n",
    "    df_list = []\n",
    "    timestamp_lookup_dict = {}\n",
    "    for i in range(500):\n",
    "        try:\n",
    "            line = next(data_gen)\n",
    "            fields = line.split(\":\")\n",
    "            # we will only use Beijing data. London data is of different length than Beijing\n",
    "            if fields[1] != 'Beijing': \n",
    "                continue\n",
    "            num_time_steps = len(fields[-1].split(\",\"))\n",
    "            timestamp_lookup = (fields[4], num_time_steps)\n",
    "            if timestamp_lookup not in timestamp_lookup_dict:\n",
    "                timestamp_lookup_dict[timestamp_lookup] = generate_timestamps(*timestamp_lookup)\n",
    "            timestamps_list = timestamp_lookup_dict[timestamp_lookup]\n",
    "            #print(i, fields[:5], timestamp_lookup, len(timestamps_list))\n",
    "            df = pd.DataFrame({'timestamp': timestamps_list})\n",
    "            df['station'] = fields[2]\n",
    "            df['air_quality_measurement'] = fields[3]\n",
    "            df['value'] = fields[-1].split(\",\")\n",
    "            df['value'] = df['value'].astype(float)\n",
    "            df_list.append(df)\n",
    "#             print(df.shape)\n",
    "#             sys.exit()\n",
    "        except StopIteration: \n",
    "            break\n",
    "        except Exception as e:\n",
    "            # If any other exception occurs, print the error and the problematic line\n",
    "            print(\"An error occurred:\", e)\n",
    "            print(\"Problematic line:\", line)\n",
    "    all_data = pd.concat(df_list)\n",
    "    return all_data\n",
    "        \n",
    "all_data = process_data()\n",
    "print(all_data.head())\n",
    "print(all_data.shape)"
   ]
  },
  {
   "cell_type": "code",
   "execution_count": null,
   "id": "f699c8e3",
   "metadata": {
    "scrolled": true
   },
   "outputs": [],
   "source": [
    "# Pivot metrics so we can use some as exogenous\n",
    "pivoted_data = all_data.pivot_table(\n",
    "    index=['timestamp', 'station'],\n",
    "    columns='air_quality_measurement',\n",
    "    values='value', aggfunc=sum).reset_index()\n",
    "print(pivoted_data.head())\n",
    "print(pivoted_data.shape)"
   ]
  },
  {
   "cell_type": "markdown",
   "id": "c24bedd9",
   "metadata": {},
   "source": [
    "# Remove Series with Constant Values\n",
    "Station **zhiwuyuan_aq** has constant values near the end of the series. This causes issue with metric calculations.\n",
    "We will remove this series. "
   ]
  },
  {
   "cell_type": "code",
   "execution_count": null,
   "id": "360d67ed",
   "metadata": {},
   "outputs": [],
   "source": [
    "pivoted_data = pivoted_data[pivoted_data['station'] != 'zhiwuyuan_aq']"
   ]
  },
  {
   "cell_type": "code",
   "execution_count": null,
   "id": "1a673b50",
   "metadata": {},
   "outputs": [],
   "source": [
    "series_col = \"station\"\n",
    "epoch_col = 'timestamp'\n",
    "epoch_label = \"timestamp\"\n",
    "time_col = 'timestamp'\n",
    "value_col = 'PM2.5'\n",
    "exog_cols = ['PM10', 'NO2', 'CO', 'O3', 'SO2']"
   ]
  },
  {
   "cell_type": "markdown",
   "id": "f2e91b9e",
   "metadata": {},
   "source": [
    "# Convert to Numeric"
   ]
  },
  {
   "cell_type": "code",
   "execution_count": null,
   "id": "a09b472d",
   "metadata": {},
   "outputs": [],
   "source": [
    "pivoted_data = pivoted_data.round({'PM2.5': 20, 'PM10': 2, 'NO2': 2, 'CO': 2, 'O3': 2, 'SO2': 2})"
   ]
  },
  {
   "cell_type": "code",
   "execution_count": null,
   "id": "e847f4c2",
   "metadata": {},
   "outputs": [],
   "source": [
    "pivoted_data.head()"
   ]
  },
  {
   "cell_type": "code",
   "execution_count": null,
   "id": "0e69b945",
   "metadata": {},
   "outputs": [],
   "source": [
    "pivoted_data.info()"
   ]
  },
  {
   "cell_type": "markdown",
   "id": "c496b192",
   "metadata": {},
   "source": [
    "# Convert datetime to correct format. "
   ]
  },
  {
   "cell_type": "code",
   "execution_count": null,
   "id": "97feac53",
   "metadata": {},
   "outputs": [],
   "source": [
    "# Convert the datetime column to the desired string format\n",
    "# pivoted_data[time_col] = pivoted_data[time_col].dt.strftime('%Y-%m-%d %H-%M-%S')\n",
    "# pivoted_data.head()"
   ]
  },
  {
   "cell_type": "markdown",
   "id": "8fd0739d",
   "metadata": {},
   "source": [
    "# Save Main Data File"
   ]
  },
  {
   "cell_type": "code",
   "execution_count": null,
   "id": "1c674bfd",
   "metadata": {},
   "outputs": [],
   "source": [
    "if time_col: \n",
    "    all_cols = [series_col, time_col, value_col] + exog_cols\n",
    "else: \n",
    "    all_cols = [series_col, value_col] + exog_cols\n",
    "    \n",
    "pivoted_data.sort_values(by=[series_col, epoch_col], inplace=True)\n",
    "pivoted_data[all_cols].to_csv(outp_fname, index=False, float_format=\"%.1f\")"
   ]
  },
  {
   "cell_type": "code",
   "execution_count": null,
   "id": "7aa77a00",
   "metadata": {},
   "outputs": [],
   "source": [
    "pivoted_data.tail()"
   ]
  },
  {
   "cell_type": "code",
   "execution_count": null,
   "id": "1a5f25a4",
   "metadata": {},
   "outputs": [],
   "source": []
  }
 ],
 "metadata": {
  "kernelspec": {
   "display_name": "Python 3 (ipykernel)",
   "language": "python",
   "name": "python3"
  },
  "language_info": {
   "codemirror_mode": {
    "name": "ipython",
    "version": 3
   },
   "file_extension": ".py",
   "mimetype": "text/x-python",
   "name": "python",
   "nbconvert_exporter": "python",
   "pygments_lexer": "ipython3",
   "version": "3.11.5"
  }
 },
 "nbformat": 4,
 "nbformat_minor": 5
}
