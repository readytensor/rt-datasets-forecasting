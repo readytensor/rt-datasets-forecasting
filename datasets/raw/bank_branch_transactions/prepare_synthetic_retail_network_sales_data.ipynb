{
 "cells": [
  {
   "cell_type": "code",
   "execution_count": 12,
   "id": "03e77323",
   "metadata": {},
   "outputs": [],
   "source": [
    "import pandas as pd\n",
    "import os"
   ]
  },
  {
   "cell_type": "code",
   "execution_count": 13,
   "id": "6fbdc77b",
   "metadata": {},
   "outputs": [],
   "source": [
    "dataset_name = \"bank_branch_transactions\""
   ]
  },
  {
   "cell_type": "code",
   "execution_count": 14,
   "id": "11bb6e53",
   "metadata": {},
   "outputs": [],
   "source": [
    "output_dir = f'./../../processed/{dataset_name}/'\n",
    "outp_fname = os.path.join(output_dir, f'{dataset_name}.csv')"
   ]
  },
  {
   "cell_type": "code",
   "execution_count": 15,
   "id": "9867b58d",
   "metadata": {},
   "outputs": [
    {
     "data": {
      "text/html": [
       "<div>\n",
       "<style scoped>\n",
       "    .dataframe tbody tr th:only-of-type {\n",
       "        vertical-align: middle;\n",
       "    }\n",
       "\n",
       "    .dataframe tbody tr th {\n",
       "        vertical-align: top;\n",
       "    }\n",
       "\n",
       "    .dataframe thead th {\n",
       "        text-align: right;\n",
       "    }\n",
       "</style>\n",
       "<table border=\"1\" class=\"dataframe\">\n",
       "  <thead>\n",
       "    <tr style=\"text-align: right;\">\n",
       "      <th></th>\n",
       "      <th>org_id</th>\n",
       "      <th>date_time</th>\n",
       "      <th>Act_5_0__40944</th>\n",
       "      <th>Act_5_0__45308</th>\n",
       "      <th>Act_5_0__82324</th>\n",
       "      <th>Act_5_0__89097</th>\n",
       "      <th>Act_5_0__94157</th>\n",
       "      <th>Act_5_0__96723</th>\n",
       "      <th>is_holiday</th>\n",
       "      <th>pre_holiday</th>\n",
       "      <th>post_holiday</th>\n",
       "    </tr>\n",
       "  </thead>\n",
       "  <tbody>\n",
       "    <tr>\n",
       "      <th>0</th>\n",
       "      <td>Org_5_0_97193107_86040</td>\n",
       "      <td>2013-02-01 07:30:00</td>\n",
       "      <td>0.00</td>\n",
       "      <td>0.00</td>\n",
       "      <td>0.00</td>\n",
       "      <td>0.00</td>\n",
       "      <td>0.00</td>\n",
       "      <td>0.00</td>\n",
       "      <td>0</td>\n",
       "      <td>0</td>\n",
       "      <td>0</td>\n",
       "    </tr>\n",
       "    <tr>\n",
       "      <th>1</th>\n",
       "      <td>Org_5_0_97193107_86040</td>\n",
       "      <td>2013-02-01 08:00:00</td>\n",
       "      <td>0.00</td>\n",
       "      <td>0.00</td>\n",
       "      <td>0.00</td>\n",
       "      <td>0.00</td>\n",
       "      <td>0.00</td>\n",
       "      <td>0.00</td>\n",
       "      <td>0</td>\n",
       "      <td>0</td>\n",
       "      <td>0</td>\n",
       "    </tr>\n",
       "    <tr>\n",
       "      <th>2</th>\n",
       "      <td>Org_5_0_97193107_86040</td>\n",
       "      <td>2013-02-01 08:30:00</td>\n",
       "      <td>0.00</td>\n",
       "      <td>0.00</td>\n",
       "      <td>0.00</td>\n",
       "      <td>0.00</td>\n",
       "      <td>0.00</td>\n",
       "      <td>0.00</td>\n",
       "      <td>0</td>\n",
       "      <td>0</td>\n",
       "      <td>0</td>\n",
       "    </tr>\n",
       "    <tr>\n",
       "      <th>3</th>\n",
       "      <td>Org_5_0_97193107_86040</td>\n",
       "      <td>2013-02-01 09:00:00</td>\n",
       "      <td>0.00</td>\n",
       "      <td>0.00</td>\n",
       "      <td>0.00</td>\n",
       "      <td>0.00</td>\n",
       "      <td>0.00</td>\n",
       "      <td>0.00</td>\n",
       "      <td>0</td>\n",
       "      <td>0</td>\n",
       "      <td>0</td>\n",
       "    </tr>\n",
       "    <tr>\n",
       "      <th>4</th>\n",
       "      <td>Org_5_0_97193107_86040</td>\n",
       "      <td>2013-02-01 09:30:00</td>\n",
       "      <td>177.95</td>\n",
       "      <td>148.21</td>\n",
       "      <td>77.67</td>\n",
       "      <td>51.54</td>\n",
       "      <td>93.63</td>\n",
       "      <td>82.09</td>\n",
       "      <td>0</td>\n",
       "      <td>0</td>\n",
       "      <td>0</td>\n",
       "    </tr>\n",
       "  </tbody>\n",
       "</table>\n",
       "</div>"
      ],
      "text/plain": [
       "                   org_id           date_time  Act_5_0__40944  Act_5_0__45308  \\\n",
       "0  Org_5_0_97193107_86040 2013-02-01 07:30:00            0.00            0.00   \n",
       "1  Org_5_0_97193107_86040 2013-02-01 08:00:00            0.00            0.00   \n",
       "2  Org_5_0_97193107_86040 2013-02-01 08:30:00            0.00            0.00   \n",
       "3  Org_5_0_97193107_86040 2013-02-01 09:00:00            0.00            0.00   \n",
       "4  Org_5_0_97193107_86040 2013-02-01 09:30:00          177.95          148.21   \n",
       "\n",
       "   Act_5_0__82324  Act_5_0__89097  Act_5_0__94157  Act_5_0__96723  is_holiday  \\\n",
       "0            0.00            0.00            0.00            0.00           0   \n",
       "1            0.00            0.00            0.00            0.00           0   \n",
       "2            0.00            0.00            0.00            0.00           0   \n",
       "3            0.00            0.00            0.00            0.00           0   \n",
       "4           77.67           51.54           93.63           82.09           0   \n",
       "\n",
       "   pre_holiday  post_holiday  \n",
       "0            0             0  \n",
       "1            0             0  \n",
       "2            0             0  \n",
       "3            0             0  \n",
       "4            0             0  "
      ]
     },
     "execution_count": 15,
     "metadata": {},
     "output_type": "execute_result"
    }
   ],
   "source": [
    "data = pd.read_csv(\"synthetic_retail_network_sales_full.csv\", parse_dates=['date_time'])\n",
    "data.head()"
   ]
  },
  {
   "cell_type": "code",
   "execution_count": 16,
   "id": "af5e2c95",
   "metadata": {},
   "outputs": [
    {
     "data": {
      "text/plain": [
       "Index(['org_id', 'date_time', 'Act_5_0__40944', 'Act_5_0__45308',\n",
       "       'Act_5_0__82324', 'Act_5_0__89097', 'Act_5_0__94157', 'Act_5_0__96723',\n",
       "       'is_holiday', 'pre_holiday', 'post_holiday'],\n",
       "      dtype='object')"
      ]
     },
     "execution_count": 16,
     "metadata": {},
     "output_type": "execute_result"
    }
   ],
   "source": [
    "data.columns"
   ]
  },
  {
   "cell_type": "code",
   "execution_count": 17,
   "id": "45ab4667",
   "metadata": {},
   "outputs": [],
   "source": [
    "series_col = \"org_id\"\n",
    "epoch_col = 'epoch'\n",
    "time_col = 'date_time'\n",
    "value_col = 'Act_5_0__40944'\n",
    "exog_cols = [\n",
    "    'Act_5_0__45308', 'Act_5_0__82324', 'Act_5_0__89097', 'Act_5_0__94157', 'Act_5_0__96723',\n",
    "       'is_holiday', 'pre_holiday', 'post_holiday'\n",
    "]"
   ]
  },
  {
   "cell_type": "code",
   "execution_count": 18,
   "id": "d5e9d0cf",
   "metadata": {},
   "outputs": [
    {
     "data": {
      "text/plain": [
       "8"
      ]
     },
     "execution_count": 18,
     "metadata": {},
     "output_type": "execute_result"
    }
   ],
   "source": [
    "len(exog_cols)"
   ]
  },
  {
   "cell_type": "markdown",
   "id": "0a59a319",
   "metadata": {},
   "source": [
    "# Add Epochs"
   ]
  },
  {
   "cell_type": "code",
   "execution_count": 19,
   "id": "b9d11218",
   "metadata": {},
   "outputs": [],
   "source": [
    "unique_times = sorted(data[time_col].drop_duplicates().tolist())\n",
    "times_to_epoch = {\n",
    "    t: i for i, t in enumerate(unique_times)\n",
    "}\n",
    "#print(yrmt_to_epoch)\n",
    "data[epoch_col] = data[time_col].map(times_to_epoch)"
   ]
  },
  {
   "cell_type": "code",
   "execution_count": 20,
   "id": "6001d21a",
   "metadata": {},
   "outputs": [
    {
     "data": {
      "text/html": [
       "<div>\n",
       "<style scoped>\n",
       "    .dataframe tbody tr th:only-of-type {\n",
       "        vertical-align: middle;\n",
       "    }\n",
       "\n",
       "    .dataframe tbody tr th {\n",
       "        vertical-align: top;\n",
       "    }\n",
       "\n",
       "    .dataframe thead th {\n",
       "        text-align: right;\n",
       "    }\n",
       "</style>\n",
       "<table border=\"1\" class=\"dataframe\">\n",
       "  <thead>\n",
       "    <tr style=\"text-align: right;\">\n",
       "      <th></th>\n",
       "      <th>org_id</th>\n",
       "      <th>date_time</th>\n",
       "      <th>Act_5_0__40944</th>\n",
       "      <th>Act_5_0__45308</th>\n",
       "      <th>Act_5_0__82324</th>\n",
       "      <th>Act_5_0__89097</th>\n",
       "      <th>Act_5_0__94157</th>\n",
       "      <th>Act_5_0__96723</th>\n",
       "      <th>is_holiday</th>\n",
       "      <th>pre_holiday</th>\n",
       "      <th>post_holiday</th>\n",
       "      <th>epoch</th>\n",
       "    </tr>\n",
       "  </thead>\n",
       "  <tbody>\n",
       "    <tr>\n",
       "      <th>0</th>\n",
       "      <td>Org_5_0_97193107_86040</td>\n",
       "      <td>2013-02-01 07:30:00</td>\n",
       "      <td>0.00</td>\n",
       "      <td>0.00</td>\n",
       "      <td>0.00</td>\n",
       "      <td>0.00</td>\n",
       "      <td>0.00</td>\n",
       "      <td>0.00</td>\n",
       "      <td>0</td>\n",
       "      <td>0</td>\n",
       "      <td>0</td>\n",
       "      <td>0</td>\n",
       "    </tr>\n",
       "    <tr>\n",
       "      <th>1</th>\n",
       "      <td>Org_5_0_97193107_86040</td>\n",
       "      <td>2013-02-01 08:00:00</td>\n",
       "      <td>0.00</td>\n",
       "      <td>0.00</td>\n",
       "      <td>0.00</td>\n",
       "      <td>0.00</td>\n",
       "      <td>0.00</td>\n",
       "      <td>0.00</td>\n",
       "      <td>0</td>\n",
       "      <td>0</td>\n",
       "      <td>0</td>\n",
       "      <td>1</td>\n",
       "    </tr>\n",
       "    <tr>\n",
       "      <th>2</th>\n",
       "      <td>Org_5_0_97193107_86040</td>\n",
       "      <td>2013-02-01 08:30:00</td>\n",
       "      <td>0.00</td>\n",
       "      <td>0.00</td>\n",
       "      <td>0.00</td>\n",
       "      <td>0.00</td>\n",
       "      <td>0.00</td>\n",
       "      <td>0.00</td>\n",
       "      <td>0</td>\n",
       "      <td>0</td>\n",
       "      <td>0</td>\n",
       "      <td>2</td>\n",
       "    </tr>\n",
       "    <tr>\n",
       "      <th>3</th>\n",
       "      <td>Org_5_0_97193107_86040</td>\n",
       "      <td>2013-02-01 09:00:00</td>\n",
       "      <td>0.00</td>\n",
       "      <td>0.00</td>\n",
       "      <td>0.00</td>\n",
       "      <td>0.00</td>\n",
       "      <td>0.00</td>\n",
       "      <td>0.00</td>\n",
       "      <td>0</td>\n",
       "      <td>0</td>\n",
       "      <td>0</td>\n",
       "      <td>3</td>\n",
       "    </tr>\n",
       "    <tr>\n",
       "      <th>4</th>\n",
       "      <td>Org_5_0_97193107_86040</td>\n",
       "      <td>2013-02-01 09:30:00</td>\n",
       "      <td>177.95</td>\n",
       "      <td>148.21</td>\n",
       "      <td>77.67</td>\n",
       "      <td>51.54</td>\n",
       "      <td>93.63</td>\n",
       "      <td>82.09</td>\n",
       "      <td>0</td>\n",
       "      <td>0</td>\n",
       "      <td>0</td>\n",
       "      <td>4</td>\n",
       "    </tr>\n",
       "  </tbody>\n",
       "</table>\n",
       "</div>"
      ],
      "text/plain": [
       "                   org_id           date_time  Act_5_0__40944  Act_5_0__45308  \\\n",
       "0  Org_5_0_97193107_86040 2013-02-01 07:30:00            0.00            0.00   \n",
       "1  Org_5_0_97193107_86040 2013-02-01 08:00:00            0.00            0.00   \n",
       "2  Org_5_0_97193107_86040 2013-02-01 08:30:00            0.00            0.00   \n",
       "3  Org_5_0_97193107_86040 2013-02-01 09:00:00            0.00            0.00   \n",
       "4  Org_5_0_97193107_86040 2013-02-01 09:30:00          177.95          148.21   \n",
       "\n",
       "   Act_5_0__82324  Act_5_0__89097  Act_5_0__94157  Act_5_0__96723  is_holiday  \\\n",
       "0            0.00            0.00            0.00            0.00           0   \n",
       "1            0.00            0.00            0.00            0.00           0   \n",
       "2            0.00            0.00            0.00            0.00           0   \n",
       "3            0.00            0.00            0.00            0.00           0   \n",
       "4           77.67           51.54           93.63           82.09           0   \n",
       "\n",
       "   pre_holiday  post_holiday  epoch  \n",
       "0            0             0      0  \n",
       "1            0             0      1  \n",
       "2            0             0      2  \n",
       "3            0             0      3  \n",
       "4            0             0      4  "
      ]
     },
     "execution_count": 20,
     "metadata": {},
     "output_type": "execute_result"
    }
   ],
   "source": [
    "data.head()"
   ]
  },
  {
   "cell_type": "markdown",
   "id": "7fd0ad0c",
   "metadata": {},
   "source": [
    "## Reorder columns"
   ]
  },
  {
   "cell_type": "code",
   "execution_count": 21,
   "id": "58d49b3b",
   "metadata": {},
   "outputs": [
    {
     "name": "stdout",
     "output_type": "stream",
     "text": [
      "['org_id', 'epoch', 'Act_5_0__40944', 'Act_5_0__45308', 'Act_5_0__82324', 'Act_5_0__89097', 'Act_5_0__94157', 'Act_5_0__96723', 'is_holiday', 'pre_holiday', 'post_holiday']\n"
     ]
    }
   ],
   "source": [
    "all_cols = [series_col, epoch_col, value_col] + exog_cols\n",
    "print(all_cols)"
   ]
  },
  {
   "cell_type": "markdown",
   "id": "f7cc8ad8",
   "metadata": {},
   "source": [
    "# Save Main Data File"
   ]
  },
  {
   "cell_type": "code",
   "execution_count": 22,
   "id": "d8fa67d5",
   "metadata": {},
   "outputs": [],
   "source": [
    "data[all_cols].to_csv(outp_fname, index=False, float_format=\"%.3f\")"
   ]
  },
  {
   "cell_type": "code",
   "execution_count": 26,
   "id": "9bddccfe",
   "metadata": {},
   "outputs": [
    {
     "data": {
      "text/html": [
       "<div>\n",
       "<style scoped>\n",
       "    .dataframe tbody tr th:only-of-type {\n",
       "        vertical-align: middle;\n",
       "    }\n",
       "\n",
       "    .dataframe tbody tr th {\n",
       "        vertical-align: top;\n",
       "    }\n",
       "\n",
       "    .dataframe thead th {\n",
       "        text-align: right;\n",
       "    }\n",
       "</style>\n",
       "<table border=\"1\" class=\"dataframe\">\n",
       "  <thead>\n",
       "    <tr style=\"text-align: right;\">\n",
       "      <th></th>\n",
       "      <th>org_id</th>\n",
       "      <th>date_time</th>\n",
       "      <th>Act_5_0__40944</th>\n",
       "      <th>Act_5_0__45308</th>\n",
       "      <th>Act_5_0__82324</th>\n",
       "      <th>Act_5_0__89097</th>\n",
       "      <th>Act_5_0__94157</th>\n",
       "      <th>Act_5_0__96723</th>\n",
       "      <th>is_holiday</th>\n",
       "      <th>pre_holiday</th>\n",
       "      <th>post_holiday</th>\n",
       "      <th>epoch</th>\n",
       "    </tr>\n",
       "  </thead>\n",
       "  <tbody>\n",
       "    <tr>\n",
       "      <th>113563</th>\n",
       "      <td>Org_5_1_61795447_90363</td>\n",
       "      <td>2013-08-28 15:30:00</td>\n",
       "      <td>6.36</td>\n",
       "      <td>43.59</td>\n",
       "      <td>13.27</td>\n",
       "      <td>27.6</td>\n",
       "      <td>47.26</td>\n",
       "      <td>11.05</td>\n",
       "      <td>0</td>\n",
       "      <td>0</td>\n",
       "      <td>0</td>\n",
       "      <td>3544</td>\n",
       "    </tr>\n",
       "    <tr>\n",
       "      <th>113564</th>\n",
       "      <td>Org_5_1_61795447_90363</td>\n",
       "      <td>2013-08-28 16:00:00</td>\n",
       "      <td>0.00</td>\n",
       "      <td>0.00</td>\n",
       "      <td>0.00</td>\n",
       "      <td>0.0</td>\n",
       "      <td>0.00</td>\n",
       "      <td>0.00</td>\n",
       "      <td>0</td>\n",
       "      <td>0</td>\n",
       "      <td>0</td>\n",
       "      <td>3545</td>\n",
       "    </tr>\n",
       "    <tr>\n",
       "      <th>113565</th>\n",
       "      <td>Org_5_1_61795447_90363</td>\n",
       "      <td>2013-08-28 16:30:00</td>\n",
       "      <td>0.00</td>\n",
       "      <td>0.00</td>\n",
       "      <td>0.00</td>\n",
       "      <td>0.0</td>\n",
       "      <td>0.00</td>\n",
       "      <td>0.00</td>\n",
       "      <td>0</td>\n",
       "      <td>0</td>\n",
       "      <td>0</td>\n",
       "      <td>3546</td>\n",
       "    </tr>\n",
       "    <tr>\n",
       "      <th>113566</th>\n",
       "      <td>Org_5_1_61795447_90363</td>\n",
       "      <td>2013-08-28 17:00:00</td>\n",
       "      <td>0.00</td>\n",
       "      <td>0.00</td>\n",
       "      <td>0.00</td>\n",
       "      <td>0.0</td>\n",
       "      <td>0.00</td>\n",
       "      <td>0.00</td>\n",
       "      <td>0</td>\n",
       "      <td>0</td>\n",
       "      <td>0</td>\n",
       "      <td>3547</td>\n",
       "    </tr>\n",
       "    <tr>\n",
       "      <th>113567</th>\n",
       "      <td>Org_5_1_61795447_90363</td>\n",
       "      <td>2013-08-28 17:30:00</td>\n",
       "      <td>0.00</td>\n",
       "      <td>0.00</td>\n",
       "      <td>0.00</td>\n",
       "      <td>0.0</td>\n",
       "      <td>0.00</td>\n",
       "      <td>0.00</td>\n",
       "      <td>0</td>\n",
       "      <td>0</td>\n",
       "      <td>0</td>\n",
       "      <td>3548</td>\n",
       "    </tr>\n",
       "  </tbody>\n",
       "</table>\n",
       "</div>"
      ],
      "text/plain": [
       "                        org_id           date_time  Act_5_0__40944  \\\n",
       "113563  Org_5_1_61795447_90363 2013-08-28 15:30:00            6.36   \n",
       "113564  Org_5_1_61795447_90363 2013-08-28 16:00:00            0.00   \n",
       "113565  Org_5_1_61795447_90363 2013-08-28 16:30:00            0.00   \n",
       "113566  Org_5_1_61795447_90363 2013-08-28 17:00:00            0.00   \n",
       "113567  Org_5_1_61795447_90363 2013-08-28 17:30:00            0.00   \n",
       "\n",
       "        Act_5_0__45308  Act_5_0__82324  Act_5_0__89097  Act_5_0__94157  \\\n",
       "113563           43.59           13.27            27.6           47.26   \n",
       "113564            0.00            0.00             0.0            0.00   \n",
       "113565            0.00            0.00             0.0            0.00   \n",
       "113566            0.00            0.00             0.0            0.00   \n",
       "113567            0.00            0.00             0.0            0.00   \n",
       "\n",
       "        Act_5_0__96723  is_holiday  pre_holiday  post_holiday  epoch  \n",
       "113563           11.05           0            0             0   3544  \n",
       "113564            0.00           0            0             0   3545  \n",
       "113565            0.00           0            0             0   3546  \n",
       "113566            0.00           0            0             0   3547  \n",
       "113567            0.00           0            0             0   3548  "
      ]
     },
     "execution_count": 26,
     "metadata": {},
     "output_type": "execute_result"
    }
   ],
   "source": [
    "data.tail()"
   ]
  },
  {
   "cell_type": "code",
   "execution_count": 28,
   "id": "85393ec5",
   "metadata": {},
   "outputs": [
    {
     "data": {
      "text/plain": [
       "3549"
      ]
     },
     "execution_count": 28,
     "metadata": {},
     "output_type": "execute_result"
    }
   ],
   "source": [
    "24*"
   ]
  },
  {
   "cell_type": "code",
   "execution_count": null,
   "id": "dcea2ab1",
   "metadata": {},
   "outputs": [],
   "source": []
  }
 ],
 "metadata": {
  "kernelspec": {
   "display_name": "Python 3 (ipykernel)",
   "language": "python",
   "name": "python3"
  },
  "language_info": {
   "codemirror_mode": {
    "name": "ipython",
    "version": 3
   },
   "file_extension": ".py",
   "mimetype": "text/x-python",
   "name": "python",
   "nbconvert_exporter": "python",
   "pygments_lexer": "ipython3",
   "version": "3.11.5"
  }
 },
 "nbformat": 4,
 "nbformat_minor": 5
}
