{
 "cells": [
  {
   "cell_type": "markdown",
   "metadata": {},
   "source": [
    "\n",
    "# Daily Stock Prices Dataset\n",
    "\n",
    "This dataset provides a diverse representation of historical stock prices from selected S&P 500 companies over the last three decades. It has been curated with the aim to capture the underlying trends, patterns, and fluctuations of individual stock prices, independent of broader market influences. The dataset offers a rich blend of leading companies from the S&P 500 list of 1990 combined with a random selection from the remainder of the list. The dataset contains daily stock data spanning 1000 days (roughly equivalent to 4 years) for each of the 52 selected stocks. In a step towards ensuring strict technical analysis, the stock tickers have been replaced with randomly generated unique strings to mask the original tickers and remove any potential analyst bias.\n",
    "\n",
    "### Dataset Composition:\n",
    "\n",
    "1. **Historical Reference:** The dataset includes the top 10 companies from the 1990 S&P 500 list that are still in existence, supplemented by a random selection from the remaining companies, ensuring all companies included are currently operational.\n",
    "\n",
    "2. **Random Time Window:** A random start date for each company's data was selected from between the beginning of 1990 to the beginning of 2016. From these start dates, 1000 consecutive trading days of data were gathered, amounting to roughly four years of trading data for each stock.\n",
    "\n",
    "3. **De-correlation Objective:** The choice of random start dates for each stock dataset prevents the ensemble from reflecting a uniform market period, avoiding highly correlated stock movements. This method aims to offer a more decorrelated and realistic picture of each stock's performance, irrespective of market trends.\n",
    "\n",
    "4. **Anonymization of Identifiers:** To focus the analysis purely on price movements and technical indicators, company identifiers have been replaced with anonymized strings, creating a level playing field for technical analysis without preconceived biases.\n",
    "\n",
    "5. **Dataset Structure:** The final saved dataset is structured as a CSV file, with columns for the anonymized ticker, the epoch (day number from 1 to 1000), and various stock price fields such as 'Adj Close', 'Close', 'High', 'Low', 'Open', and 'Volume'.\n",
    "\n",
    "### Advantages of the Dataset:\n",
    "\n",
    "- **Diverse Temporal Insights:** The dataset spans various market conditions, offering insights into stock behavior during different economic cycles, including bull markets and recessions.\n",
    "\n",
    "- **Time Series Forecasting:** With its temporal spread and de-correlation strategy, the dataset serves as an ideal benchmark for time series forecasting models that aim to predict stock price movements.\n",
    "\n",
    "- **Technical Analysis Focus:** The anonymization of stock tickers shifts the focus entirely to the technical aspects of the stock data, making it a robust resource for analysts practicing technical analysis without influence from the companies' fundamental data.\n",
    "\n",
    "The **S&P 500 Historical Sampler Dataset** is carefully balanced to mimic the complexities of real-world stock market dynamics and provides a comprehensive resource for advanced time series analysis and forecasting techniques. \n"
   ]
  },
  {
   "cell_type": "markdown",
   "metadata": {},
   "source": [
    "## Imports"
   ]
  },
  {
   "cell_type": "code",
   "execution_count": 57,
   "metadata": {},
   "outputs": [],
   "source": [
    "# !pip install yfinance\n",
    "import yfinance as yf\n",
    "import pandas as pd\n",
    "import random\n",
    "import string"
   ]
  },
  {
   "cell_type": "markdown",
   "metadata": {},
   "source": [
    "## Read selected stocks"
   ]
  },
  {
   "cell_type": "code",
   "execution_count": 58,
   "metadata": {},
   "outputs": [
    {
     "data": {
      "text/html": [
       "<div>\n",
       "<style scoped>\n",
       "    .dataframe tbody tr th:only-of-type {\n",
       "        vertical-align: middle;\n",
       "    }\n",
       "\n",
       "    .dataframe tbody tr th {\n",
       "        vertical-align: top;\n",
       "    }\n",
       "\n",
       "    .dataframe thead th {\n",
       "        text-align: right;\n",
       "    }\n",
       "</style>\n",
       "<table border=\"1\" class=\"dataframe\">\n",
       "  <thead>\n",
       "    <tr style=\"text-align: right;\">\n",
       "      <th></th>\n",
       "      <th>Company</th>\n",
       "      <th>Ticker</th>\n",
       "    </tr>\n",
       "  </thead>\n",
       "  <tbody>\n",
       "    <tr>\n",
       "      <th>0</th>\n",
       "      <td>Apple Inc.</td>\n",
       "      <td>AAPL</td>\n",
       "    </tr>\n",
       "    <tr>\n",
       "      <th>1</th>\n",
       "      <td>Archer Daniels Midland</td>\n",
       "      <td>ADM</td>\n",
       "    </tr>\n",
       "    <tr>\n",
       "      <th>2</th>\n",
       "      <td>Ametek</td>\n",
       "      <td>AME</td>\n",
       "    </tr>\n",
       "    <tr>\n",
       "      <th>3</th>\n",
       "      <td>A.O. Smith</td>\n",
       "      <td>AOS</td>\n",
       "    </tr>\n",
       "    <tr>\n",
       "      <th>4</th>\n",
       "      <td>Dennison Manufacturing</td>\n",
       "      <td>AVY</td>\n",
       "    </tr>\n",
       "  </tbody>\n",
       "</table>\n",
       "</div>"
      ],
      "text/plain": [
       "                  Company Ticker\n",
       "0              Apple Inc.   AAPL\n",
       "1  Archer Daniels Midland    ADM\n",
       "2                  Ametek    AME\n",
       "3              A.O. Smith    AOS\n",
       "4  Dennison Manufacturing    AVY"
      ]
     },
     "execution_count": 58,
     "metadata": {},
     "output_type": "execute_result"
    }
   ],
   "source": [
    "stocks = pd.read_csv('selected stocks.csv')\n",
    "stocks.head()"
   ]
  },
  {
   "cell_type": "code",
   "execution_count": 59,
   "metadata": {},
   "outputs": [],
   "source": [
    "tickers = stocks['Ticker'].tolist()"
   ]
  },
  {
   "cell_type": "markdown",
   "metadata": {},
   "source": [
    "## Download data"
   ]
  },
  {
   "cell_type": "code",
   "execution_count": 60,
   "metadata": {},
   "outputs": [
    {
     "name": "stdout",
     "output_type": "stream",
     "text": [
      "[*********************100%%**********************]  81 of 81 completed"
     ]
    },
    {
     "name": "stderr",
     "output_type": "stream",
     "text": [
      "\n",
      "10 Failed downloads:\n",
      "['JOY', 'GMIL', 'FCS', 'BS', 'TSO', 'GKIS']: Exception('%ticker%: No price data found, symbol may be delisted (1d 1990-01-01 -> 2023-11-05)')\n",
      "['NAV', 'DFODQ', 'REV', 'BGG']: Exception('%ticker%: No timezone found, symbol may be delisted')\n"
     ]
    },
    {
     "name": "stdout",
     "output_type": "stream",
     "text": [
      "\n"
     ]
    }
   ],
   "source": [
    "data = yf.download(tickers, interval=\"1d\", start=\"1990-01-01\")"
   ]
  },
  {
   "cell_type": "code",
   "execution_count": 61,
   "metadata": {},
   "outputs": [
    {
     "data": {
      "text/html": [
       "<div>\n",
       "<style scoped>\n",
       "    .dataframe tbody tr th:only-of-type {\n",
       "        vertical-align: middle;\n",
       "    }\n",
       "\n",
       "    .dataframe tbody tr th {\n",
       "        vertical-align: top;\n",
       "    }\n",
       "\n",
       "    .dataframe thead tr th {\n",
       "        text-align: left;\n",
       "    }\n",
       "\n",
       "    .dataframe thead tr:last-of-type th {\n",
       "        text-align: right;\n",
       "    }\n",
       "</style>\n",
       "<table border=\"1\" class=\"dataframe\">\n",
       "  <thead>\n",
       "    <tr>\n",
       "      <th></th>\n",
       "      <th colspan=\"10\" halign=\"left\">Adj Close</th>\n",
       "      <th>...</th>\n",
       "      <th colspan=\"10\" halign=\"left\">Volume</th>\n",
       "    </tr>\n",
       "    <tr>\n",
       "      <th></th>\n",
       "      <th>AAPL</th>\n",
       "      <th>ADM</th>\n",
       "      <th>AME</th>\n",
       "      <th>AOS</th>\n",
       "      <th>AVY</th>\n",
       "      <th>BA</th>\n",
       "      <th>BC</th>\n",
       "      <th>BDX</th>\n",
       "      <th>BGG</th>\n",
       "      <th>BKR</th>\n",
       "      <th>...</th>\n",
       "      <th>TSO</th>\n",
       "      <th>TTC</th>\n",
       "      <th>TXN</th>\n",
       "      <th>VFC</th>\n",
       "      <th>VMC</th>\n",
       "      <th>VMI</th>\n",
       "      <th>VYX</th>\n",
       "      <th>WDC</th>\n",
       "      <th>WRC</th>\n",
       "      <th>XOM</th>\n",
       "    </tr>\n",
       "    <tr>\n",
       "      <th>Date</th>\n",
       "      <th></th>\n",
       "      <th></th>\n",
       "      <th></th>\n",
       "      <th></th>\n",
       "      <th></th>\n",
       "      <th></th>\n",
       "      <th></th>\n",
       "      <th></th>\n",
       "      <th></th>\n",
       "      <th></th>\n",
       "      <th></th>\n",
       "      <th></th>\n",
       "      <th></th>\n",
       "      <th></th>\n",
       "      <th></th>\n",
       "      <th></th>\n",
       "      <th></th>\n",
       "      <th></th>\n",
       "      <th></th>\n",
       "      <th></th>\n",
       "      <th></th>\n",
       "    </tr>\n",
       "  </thead>\n",
       "  <tbody>\n",
       "    <tr>\n",
       "      <th>1990-01-02 00:00:00</th>\n",
       "      <td>0.263761</td>\n",
       "      <td>4.656211</td>\n",
       "      <td>1.292103</td>\n",
       "      <td>0.353147</td>\n",
       "      <td>7.014167</td>\n",
       "      <td>11.043622</td>\n",
       "      <td>7.969812</td>\n",
       "      <td>4.594038</td>\n",
       "      <td>NaN</td>\n",
       "      <td>10.116333</td>\n",
       "      <td>...</td>\n",
       "      <td>NaN</td>\n",
       "      <td>622400</td>\n",
       "      <td>3766400</td>\n",
       "      <td>654192</td>\n",
       "      <td>69300</td>\n",
       "      <td>30400</td>\n",
       "      <td>NaN</td>\n",
       "      <td>523200</td>\n",
       "      <td>NaN</td>\n",
       "      <td>5326000</td>\n",
       "    </tr>\n",
       "    <tr>\n",
       "      <th>1990-01-03 00:00:00</th>\n",
       "      <td>0.265531</td>\n",
       "      <td>4.656211</td>\n",
       "      <td>1.304179</td>\n",
       "      <td>0.349752</td>\n",
       "      <td>7.014167</td>\n",
       "      <td>11.312984</td>\n",
       "      <td>7.901110</td>\n",
       "      <td>4.548193</td>\n",
       "      <td>NaN</td>\n",
       "      <td>9.969727</td>\n",
       "      <td>...</td>\n",
       "      <td>NaN</td>\n",
       "      <td>318400</td>\n",
       "      <td>8323200</td>\n",
       "      <td>744250</td>\n",
       "      <td>19500</td>\n",
       "      <td>815200</td>\n",
       "      <td>NaN</td>\n",
       "      <td>506600</td>\n",
       "      <td>NaN</td>\n",
       "      <td>4980400</td>\n",
       "    </tr>\n",
       "    <tr>\n",
       "      <th>1990-01-04 00:00:00</th>\n",
       "      <td>0.266417</td>\n",
       "      <td>4.630907</td>\n",
       "      <td>1.292103</td>\n",
       "      <td>0.353147</td>\n",
       "      <td>7.094788</td>\n",
       "      <td>11.268091</td>\n",
       "      <td>7.901110</td>\n",
       "      <td>4.511510</td>\n",
       "      <td>NaN</td>\n",
       "      <td>9.725364</td>\n",
       "      <td>...</td>\n",
       "      <td>NaN</td>\n",
       "      <td>648000</td>\n",
       "      <td>10654400</td>\n",
       "      <td>493618</td>\n",
       "      <td>23400</td>\n",
       "      <td>96000</td>\n",
       "      <td>NaN</td>\n",
       "      <td>618400</td>\n",
       "      <td>NaN</td>\n",
       "      <td>6013200</td>\n",
       "    </tr>\n",
       "    <tr>\n",
       "      <th>1990-01-05 00:00:00</th>\n",
       "      <td>0.267302</td>\n",
       "      <td>4.428461</td>\n",
       "      <td>1.280028</td>\n",
       "      <td>0.349752</td>\n",
       "      <td>6.879794</td>\n",
       "      <td>11.110965</td>\n",
       "      <td>7.901110</td>\n",
       "      <td>4.502343</td>\n",
       "      <td>NaN</td>\n",
       "      <td>9.676494</td>\n",
       "      <td>...</td>\n",
       "      <td>NaN</td>\n",
       "      <td>544000</td>\n",
       "      <td>6528000</td>\n",
       "      <td>720461</td>\n",
       "      <td>51000</td>\n",
       "      <td>263800</td>\n",
       "      <td>NaN</td>\n",
       "      <td>345200</td>\n",
       "      <td>NaN</td>\n",
       "      <td>3854800</td>\n",
       "    </tr>\n",
       "    <tr>\n",
       "      <th>1990-01-08 00:00:00</th>\n",
       "      <td>0.269072</td>\n",
       "      <td>4.479073</td>\n",
       "      <td>1.267951</td>\n",
       "      <td>0.353147</td>\n",
       "      <td>6.879794</td>\n",
       "      <td>11.245657</td>\n",
       "      <td>7.832399</td>\n",
       "      <td>4.529851</td>\n",
       "      <td>NaN</td>\n",
       "      <td>9.774240</td>\n",
       "      <td>...</td>\n",
       "      <td>NaN</td>\n",
       "      <td>320000</td>\n",
       "      <td>2875200</td>\n",
       "      <td>186062</td>\n",
       "      <td>495300</td>\n",
       "      <td>5200</td>\n",
       "      <td>NaN</td>\n",
       "      <td>178800</td>\n",
       "      <td>NaN</td>\n",
       "      <td>4302000</td>\n",
       "    </tr>\n",
       "  </tbody>\n",
       "</table>\n",
       "<p>5 rows × 486 columns</p>\n",
       "</div>"
      ],
      "text/plain": [
       "                    Adj Close                                          \\\n",
       "                         AAPL       ADM       AME       AOS       AVY   \n",
       "Date                                                                    \n",
       "1990-01-02 00:00:00  0.263761  4.656211  1.292103  0.353147  7.014167   \n",
       "1990-01-03 00:00:00  0.265531  4.656211  1.304179  0.349752  7.014167   \n",
       "1990-01-04 00:00:00  0.266417  4.630907  1.292103  0.353147  7.094788   \n",
       "1990-01-05 00:00:00  0.267302  4.428461  1.280028  0.349752  6.879794   \n",
       "1990-01-08 00:00:00  0.269072  4.479073  1.267951  0.353147  6.879794   \n",
       "\n",
       "                                                                   ... Volume  \\\n",
       "                            BA        BC       BDX BGG        BKR  ...    TSO   \n",
       "Date                                                               ...          \n",
       "1990-01-02 00:00:00  11.043622  7.969812  4.594038 NaN  10.116333  ...    NaN   \n",
       "1990-01-03 00:00:00  11.312984  7.901110  4.548193 NaN   9.969727  ...    NaN   \n",
       "1990-01-04 00:00:00  11.268091  7.901110  4.511510 NaN   9.725364  ...    NaN   \n",
       "1990-01-05 00:00:00  11.110965  7.901110  4.502343 NaN   9.676494  ...    NaN   \n",
       "1990-01-08 00:00:00  11.245657  7.832399  4.529851 NaN   9.774240  ...    NaN   \n",
       "\n",
       "                                                                               \\\n",
       "                        TTC       TXN     VFC     VMC     VMI VYX     WDC WRC   \n",
       "Date                                                                            \n",
       "1990-01-02 00:00:00  622400   3766400  654192   69300   30400 NaN  523200 NaN   \n",
       "1990-01-03 00:00:00  318400   8323200  744250   19500  815200 NaN  506600 NaN   \n",
       "1990-01-04 00:00:00  648000  10654400  493618   23400   96000 NaN  618400 NaN   \n",
       "1990-01-05 00:00:00  544000   6528000  720461   51000  263800 NaN  345200 NaN   \n",
       "1990-01-08 00:00:00  320000   2875200  186062  495300    5200 NaN  178800 NaN   \n",
       "\n",
       "                              \n",
       "                         XOM  \n",
       "Date                          \n",
       "1990-01-02 00:00:00  5326000  \n",
       "1990-01-03 00:00:00  4980400  \n",
       "1990-01-04 00:00:00  6013200  \n",
       "1990-01-05 00:00:00  3854800  \n",
       "1990-01-08 00:00:00  4302000  \n",
       "\n",
       "[5 rows x 486 columns]"
      ]
     },
     "execution_count": 61,
     "metadata": {},
     "output_type": "execute_result"
    }
   ],
   "source": [
    "data.head()"
   ]
  },
  {
   "cell_type": "code",
   "execution_count": 62,
   "metadata": {},
   "outputs": [],
   "source": [
    "# Save the original downloaded data\n",
    "data.to_csv(\"original_downloaded_stocks_data.csv\")"
   ]
  },
  {
   "cell_type": "markdown",
   "metadata": {},
   "source": [
    "## Drop missing data"
   ]
  },
  {
   "cell_type": "code",
   "execution_count": 63,
   "metadata": {},
   "outputs": [],
   "source": [
    "data = data.dropna(axis=1)"
   ]
  },
  {
   "cell_type": "markdown",
   "metadata": {},
   "source": [
    "## Round floating point numbers"
   ]
  },
  {
   "cell_type": "code",
   "execution_count": 64,
   "metadata": {},
   "outputs": [],
   "source": [
    "df_rounded = data.round(3)"
   ]
  },
  {
   "cell_type": "code",
   "execution_count": 65,
   "metadata": {},
   "outputs": [
    {
     "data": {
      "text/html": [
       "<div>\n",
       "<style scoped>\n",
       "    .dataframe tbody tr th:only-of-type {\n",
       "        vertical-align: middle;\n",
       "    }\n",
       "\n",
       "    .dataframe tbody tr th {\n",
       "        vertical-align: top;\n",
       "    }\n",
       "\n",
       "    .dataframe thead tr th {\n",
       "        text-align: left;\n",
       "    }\n",
       "\n",
       "    .dataframe thead tr:last-of-type th {\n",
       "        text-align: right;\n",
       "    }\n",
       "</style>\n",
       "<table border=\"1\" class=\"dataframe\">\n",
       "  <thead>\n",
       "    <tr>\n",
       "      <th></th>\n",
       "      <th colspan=\"10\" halign=\"left\">Adj Close</th>\n",
       "      <th>...</th>\n",
       "      <th colspan=\"10\" halign=\"left\">Volume</th>\n",
       "    </tr>\n",
       "    <tr>\n",
       "      <th></th>\n",
       "      <th>AAPL</th>\n",
       "      <th>ADM</th>\n",
       "      <th>AME</th>\n",
       "      <th>AOS</th>\n",
       "      <th>AVY</th>\n",
       "      <th>BA</th>\n",
       "      <th>BC</th>\n",
       "      <th>BDX</th>\n",
       "      <th>BKR</th>\n",
       "      <th>CAG</th>\n",
       "      <th>...</th>\n",
       "      <th>ROK</th>\n",
       "      <th>SPXC</th>\n",
       "      <th>SR</th>\n",
       "      <th>TTC</th>\n",
       "      <th>TXN</th>\n",
       "      <th>VFC</th>\n",
       "      <th>VMC</th>\n",
       "      <th>VMI</th>\n",
       "      <th>WDC</th>\n",
       "      <th>XOM</th>\n",
       "    </tr>\n",
       "    <tr>\n",
       "      <th>Date</th>\n",
       "      <th></th>\n",
       "      <th></th>\n",
       "      <th></th>\n",
       "      <th></th>\n",
       "      <th></th>\n",
       "      <th></th>\n",
       "      <th></th>\n",
       "      <th></th>\n",
       "      <th></th>\n",
       "      <th></th>\n",
       "      <th></th>\n",
       "      <th></th>\n",
       "      <th></th>\n",
       "      <th></th>\n",
       "      <th></th>\n",
       "      <th></th>\n",
       "      <th></th>\n",
       "      <th></th>\n",
       "      <th></th>\n",
       "      <th></th>\n",
       "      <th></th>\n",
       "    </tr>\n",
       "  </thead>\n",
       "  <tbody>\n",
       "    <tr>\n",
       "      <th>1990-01-02 00:00:00</th>\n",
       "      <td>0.264</td>\n",
       "      <td>4.656</td>\n",
       "      <td>1.292</td>\n",
       "      <td>0.353</td>\n",
       "      <td>7.014</td>\n",
       "      <td>11.044</td>\n",
       "      <td>7.970</td>\n",
       "      <td>4.594</td>\n",
       "      <td>10.116</td>\n",
       "      <td>2.612</td>\n",
       "      <td>...</td>\n",
       "      <td>375800</td>\n",
       "      <td>125484</td>\n",
       "      <td>16600</td>\n",
       "      <td>622400</td>\n",
       "      <td>3766400</td>\n",
       "      <td>654192</td>\n",
       "      <td>69300</td>\n",
       "      <td>30400</td>\n",
       "      <td>523200</td>\n",
       "      <td>5326000</td>\n",
       "    </tr>\n",
       "    <tr>\n",
       "      <th>1990-01-03 00:00:00</th>\n",
       "      <td>0.266</td>\n",
       "      <td>4.656</td>\n",
       "      <td>1.304</td>\n",
       "      <td>0.350</td>\n",
       "      <td>7.014</td>\n",
       "      <td>11.313</td>\n",
       "      <td>7.901</td>\n",
       "      <td>4.548</td>\n",
       "      <td>9.970</td>\n",
       "      <td>2.624</td>\n",
       "      <td>...</td>\n",
       "      <td>207300</td>\n",
       "      <td>267645</td>\n",
       "      <td>32800</td>\n",
       "      <td>318400</td>\n",
       "      <td>8323200</td>\n",
       "      <td>744250</td>\n",
       "      <td>19500</td>\n",
       "      <td>815200</td>\n",
       "      <td>506600</td>\n",
       "      <td>4980400</td>\n",
       "    </tr>\n",
       "    <tr>\n",
       "      <th>1990-01-04 00:00:00</th>\n",
       "      <td>0.266</td>\n",
       "      <td>4.631</td>\n",
       "      <td>1.292</td>\n",
       "      <td>0.353</td>\n",
       "      <td>7.095</td>\n",
       "      <td>11.268</td>\n",
       "      <td>7.901</td>\n",
       "      <td>4.512</td>\n",
       "      <td>9.725</td>\n",
       "      <td>2.544</td>\n",
       "      <td>...</td>\n",
       "      <td>150700</td>\n",
       "      <td>156457</td>\n",
       "      <td>16000</td>\n",
       "      <td>648000</td>\n",
       "      <td>10654400</td>\n",
       "      <td>493618</td>\n",
       "      <td>23400</td>\n",
       "      <td>96000</td>\n",
       "      <td>618400</td>\n",
       "      <td>6013200</td>\n",
       "    </tr>\n",
       "    <tr>\n",
       "      <th>1990-01-05 00:00:00</th>\n",
       "      <td>0.267</td>\n",
       "      <td>4.428</td>\n",
       "      <td>1.280</td>\n",
       "      <td>0.350</td>\n",
       "      <td>6.880</td>\n",
       "      <td>11.111</td>\n",
       "      <td>7.901</td>\n",
       "      <td>4.502</td>\n",
       "      <td>9.676</td>\n",
       "      <td>2.510</td>\n",
       "      <td>...</td>\n",
       "      <td>127500</td>\n",
       "      <td>122307</td>\n",
       "      <td>9000</td>\n",
       "      <td>544000</td>\n",
       "      <td>6528000</td>\n",
       "      <td>720461</td>\n",
       "      <td>51000</td>\n",
       "      <td>263800</td>\n",
       "      <td>345200</td>\n",
       "      <td>3854800</td>\n",
       "    </tr>\n",
       "    <tr>\n",
       "      <th>1990-01-08 00:00:00</th>\n",
       "      <td>0.269</td>\n",
       "      <td>4.479</td>\n",
       "      <td>1.268</td>\n",
       "      <td>0.353</td>\n",
       "      <td>6.880</td>\n",
       "      <td>11.246</td>\n",
       "      <td>7.832</td>\n",
       "      <td>4.530</td>\n",
       "      <td>9.774</td>\n",
       "      <td>2.522</td>\n",
       "      <td>...</td>\n",
       "      <td>177300</td>\n",
       "      <td>339918</td>\n",
       "      <td>20800</td>\n",
       "      <td>320000</td>\n",
       "      <td>2875200</td>\n",
       "      <td>186062</td>\n",
       "      <td>495300</td>\n",
       "      <td>5200</td>\n",
       "      <td>178800</td>\n",
       "      <td>4302000</td>\n",
       "    </tr>\n",
       "  </tbody>\n",
       "</table>\n",
       "<p>5 rows × 312 columns</p>\n",
       "</div>"
      ],
      "text/plain": [
       "                    Adj Close                                             \\\n",
       "                         AAPL    ADM    AME    AOS    AVY      BA     BC   \n",
       "Date                                                                       \n",
       "1990-01-02 00:00:00     0.264  4.656  1.292  0.353  7.014  11.044  7.970   \n",
       "1990-01-03 00:00:00     0.266  4.656  1.304  0.350  7.014  11.313  7.901   \n",
       "1990-01-04 00:00:00     0.266  4.631  1.292  0.353  7.095  11.268  7.901   \n",
       "1990-01-05 00:00:00     0.267  4.428  1.280  0.350  6.880  11.111  7.901   \n",
       "1990-01-08 00:00:00     0.269  4.479  1.268  0.353  6.880  11.246  7.832   \n",
       "\n",
       "                                           ...  Volume                         \\\n",
       "                       BDX     BKR    CAG  ...     ROK    SPXC     SR     TTC   \n",
       "Date                                       ...                                  \n",
       "1990-01-02 00:00:00  4.594  10.116  2.612  ...  375800  125484  16600  622400   \n",
       "1990-01-03 00:00:00  4.548   9.970  2.624  ...  207300  267645  32800  318400   \n",
       "1990-01-04 00:00:00  4.512   9.725  2.544  ...  150700  156457  16000  648000   \n",
       "1990-01-05 00:00:00  4.502   9.676  2.510  ...  127500  122307   9000  544000   \n",
       "1990-01-08 00:00:00  4.530   9.774  2.522  ...  177300  339918  20800  320000   \n",
       "\n",
       "                                                                        \n",
       "                          TXN     VFC     VMC     VMI     WDC      XOM  \n",
       "Date                                                                    \n",
       "1990-01-02 00:00:00   3766400  654192   69300   30400  523200  5326000  \n",
       "1990-01-03 00:00:00   8323200  744250   19500  815200  506600  4980400  \n",
       "1990-01-04 00:00:00  10654400  493618   23400   96000  618400  6013200  \n",
       "1990-01-05 00:00:00   6528000  720461   51000  263800  345200  3854800  \n",
       "1990-01-08 00:00:00   2875200  186062  495300    5200  178800  4302000  \n",
       "\n",
       "[5 rows x 312 columns]"
      ]
     },
     "execution_count": 65,
     "metadata": {},
     "output_type": "execute_result"
    }
   ],
   "source": [
    "df_rounded.head()"
   ]
  },
  {
   "cell_type": "markdown",
   "metadata": {},
   "source": [
    "## Unpivot the data"
   ]
  },
  {
   "cell_type": "code",
   "execution_count": 66,
   "metadata": {},
   "outputs": [],
   "source": [
    "frames = []\n",
    "for c in df_rounded.columns.get_level_values(0).unique():\n",
    "    d = df_rounded[c].reset_index()\n",
    "    d = d.melt(id_vars=['Date'], var_name='Ticker', value_name=c)\n",
    "    frames.append(d)"
   ]
  },
  {
   "cell_type": "code",
   "execution_count": 67,
   "metadata": {},
   "outputs": [
    {
     "name": "stdout",
     "output_type": "stream",
     "text": [
      "        Date Ticker  Adj Close  Close   High    Low   Open     Volume\n",
      "0 1990-01-02   AAPL      0.264  0.333  0.335  0.312  0.315  183198400\n",
      "1 1990-01-03   AAPL      0.266  0.335  0.339  0.335  0.339  207995200\n",
      "2 1990-01-04   AAPL      0.266  0.336  0.346  0.333  0.342  221513600\n",
      "3 1990-01-05   AAPL      0.267  0.337  0.342  0.330  0.337  123312000\n",
      "4 1990-01-08   AAPL      0.269  0.339  0.339  0.330  0.335  101572800\n"
     ]
    }
   ],
   "source": [
    "base = frames[0]\n",
    "for f in frames[1:]:\n",
    "    base = base.merge(f, on=['Date', 'Ticker'], how='inner')\n",
    "print(base.head())"
   ]
  },
  {
   "cell_type": "markdown",
   "metadata": {},
   "source": [
    "## Pick random date for each ticker"
   ]
  },
  {
   "cell_type": "code",
   "execution_count": 68,
   "metadata": {},
   "outputs": [
    {
     "name": "stdout",
     "output_type": "stream",
     "text": [
      "['AAPL', 'ADM', 'AME', 'AOS', 'AVY', 'BA', 'BC', 'BDX', 'BKR', 'CAG', 'CAT', 'CCK', 'CL', 'CMI', 'COP', 'CVX', 'DD', 'DOV', 'F', 'GD', 'GE', 'GLW', 'HON', 'HPQ', 'IBM', 'IP', 'JNJ', 'KO', 'MAT', 'MDT', 'MMM', 'MO', 'MRK', 'MSFT', 'NC', 'NEM', 'NUE', 'NWL', 'OXY', 'PEP', 'PG', 'PPG', 'ROK', 'SPXC', 'SR', 'TTC', 'TXN', 'VFC', 'VMC', 'VMI', 'WDC', 'XOM']\n"
     ]
    }
   ],
   "source": [
    "tickers = base['Ticker'].unique().tolist()\n",
    "print(tickers)"
   ]
  },
  {
   "cell_type": "code",
   "execution_count": 69,
   "metadata": {},
   "outputs": [
    {
     "data": {
      "text/plain": [
       "52"
      ]
     },
     "execution_count": 69,
     "metadata": {},
     "output_type": "execute_result"
    }
   ],
   "source": [
    "len(tickers)"
   ]
  },
  {
   "cell_type": "code",
   "execution_count": 70,
   "metadata": {},
   "outputs": [],
   "source": [
    "mask = (base['Date'] >= '1990-01-01') & (base['Date'] <= '2016-01-01')\n",
    "unique_valid_dates = base[mask]['Date'].unique()\n",
    "random_dates = pd.Series(unique_valid_dates).sample(len(tickers), replace=True, random_state=42).tolist()\n",
    "# print(random_dates)"
   ]
  },
  {
   "cell_type": "markdown",
   "metadata": {},
   "source": [
    "### Get 4 years of daily data for each ticker starting from it's corresponding random date "
   ]
  },
  {
   "cell_type": "code",
   "execution_count": 71,
   "metadata": {},
   "outputs": [
    {
     "data": {
      "text/plain": [
       "(pandas._libs.tslibs.timestamps.Timestamp, Timestamp('1993-05-26 00:00:00'))"
      ]
     },
     "execution_count": 71,
     "metadata": {},
     "output_type": "execute_result"
    }
   ],
   "source": [
    "type(random_dates[0]), random_dates[0]"
   ]
  },
  {
   "cell_type": "code",
   "execution_count": 72,
   "metadata": {},
   "outputs": [
    {
     "data": {
      "text/html": [
       "<div>\n",
       "<style scoped>\n",
       "    .dataframe tbody tr th:only-of-type {\n",
       "        vertical-align: middle;\n",
       "    }\n",
       "\n",
       "    .dataframe tbody tr th {\n",
       "        vertical-align: top;\n",
       "    }\n",
       "\n",
       "    .dataframe thead th {\n",
       "        text-align: right;\n",
       "    }\n",
       "</style>\n",
       "<table border=\"1\" class=\"dataframe\">\n",
       "  <thead>\n",
       "    <tr style=\"text-align: right;\">\n",
       "      <th></th>\n",
       "      <th>Date</th>\n",
       "      <th>Ticker</th>\n",
       "      <th>Adj Close</th>\n",
       "      <th>Close</th>\n",
       "      <th>High</th>\n",
       "      <th>Low</th>\n",
       "      <th>Open</th>\n",
       "      <th>Volume</th>\n",
       "    </tr>\n",
       "  </thead>\n",
       "  <tbody>\n",
       "    <tr>\n",
       "      <th>860</th>\n",
       "      <td>1993-05-26</td>\n",
       "      <td>AAPL</td>\n",
       "      <td>0.422</td>\n",
       "      <td>0.516</td>\n",
       "      <td>0.516</td>\n",
       "      <td>0.494</td>\n",
       "      <td>0.500</td>\n",
       "      <td>121564800</td>\n",
       "    </tr>\n",
       "    <tr>\n",
       "      <th>861</th>\n",
       "      <td>1993-05-27</td>\n",
       "      <td>AAPL</td>\n",
       "      <td>0.421</td>\n",
       "      <td>0.513</td>\n",
       "      <td>0.522</td>\n",
       "      <td>0.511</td>\n",
       "      <td>0.516</td>\n",
       "      <td>197288000</td>\n",
       "    </tr>\n",
       "    <tr>\n",
       "      <th>862</th>\n",
       "      <td>1993-05-28</td>\n",
       "      <td>AAPL</td>\n",
       "      <td>0.415</td>\n",
       "      <td>0.506</td>\n",
       "      <td>0.513</td>\n",
       "      <td>0.502</td>\n",
       "      <td>0.509</td>\n",
       "      <td>183948800</td>\n",
       "    </tr>\n",
       "    <tr>\n",
       "      <th>863</th>\n",
       "      <td>1993-06-01</td>\n",
       "      <td>AAPL</td>\n",
       "      <td>0.418</td>\n",
       "      <td>0.509</td>\n",
       "      <td>0.516</td>\n",
       "      <td>0.504</td>\n",
       "      <td>0.504</td>\n",
       "      <td>135072000</td>\n",
       "    </tr>\n",
       "    <tr>\n",
       "      <th>864</th>\n",
       "      <td>1993-06-02</td>\n",
       "      <td>AAPL</td>\n",
       "      <td>0.418</td>\n",
       "      <td>0.509</td>\n",
       "      <td>0.520</td>\n",
       "      <td>0.500</td>\n",
       "      <td>0.507</td>\n",
       "      <td>200480000</td>\n",
       "    </tr>\n",
       "    <tr>\n",
       "      <th>...</th>\n",
       "      <td>...</td>\n",
       "      <td>...</td>\n",
       "      <td>...</td>\n",
       "      <td>...</td>\n",
       "      <td>...</td>\n",
       "      <td>...</td>\n",
       "      <td>...</td>\n",
       "      <td>...</td>\n",
       "    </tr>\n",
       "    <tr>\n",
       "      <th>438760</th>\n",
       "      <td>2005-05-25</td>\n",
       "      <td>XOM</td>\n",
       "      <td>30.216</td>\n",
       "      <td>55.680</td>\n",
       "      <td>55.980</td>\n",
       "      <td>54.810</td>\n",
       "      <td>55.060</td>\n",
       "      <td>17737900</td>\n",
       "    </tr>\n",
       "    <tr>\n",
       "      <th>438761</th>\n",
       "      <td>2005-05-26</td>\n",
       "      <td>XOM</td>\n",
       "      <td>30.509</td>\n",
       "      <td>56.220</td>\n",
       "      <td>56.410</td>\n",
       "      <td>55.710</td>\n",
       "      <td>56.050</td>\n",
       "      <td>12250500</td>\n",
       "    </tr>\n",
       "    <tr>\n",
       "      <th>438762</th>\n",
       "      <td>2005-05-27</td>\n",
       "      <td>XOM</td>\n",
       "      <td>30.823</td>\n",
       "      <td>56.800</td>\n",
       "      <td>56.900</td>\n",
       "      <td>56.290</td>\n",
       "      <td>56.400</td>\n",
       "      <td>10305500</td>\n",
       "    </tr>\n",
       "    <tr>\n",
       "      <th>438763</th>\n",
       "      <td>2005-05-31</td>\n",
       "      <td>XOM</td>\n",
       "      <td>30.498</td>\n",
       "      <td>56.200</td>\n",
       "      <td>57.100</td>\n",
       "      <td>56.100</td>\n",
       "      <td>57.000</td>\n",
       "      <td>21371100</td>\n",
       "    </tr>\n",
       "    <tr>\n",
       "      <th>438764</th>\n",
       "      <td>2005-06-01</td>\n",
       "      <td>XOM</td>\n",
       "      <td>31.013</td>\n",
       "      <td>57.150</td>\n",
       "      <td>57.410</td>\n",
       "      <td>56.330</td>\n",
       "      <td>56.450</td>\n",
       "      <td>14608600</td>\n",
       "    </tr>\n",
       "  </tbody>\n",
       "</table>\n",
       "<p>52000 rows × 8 columns</p>\n",
       "</div>"
      ],
      "text/plain": [
       "             Date Ticker  Adj Close   Close    High     Low    Open     Volume\n",
       "860    1993-05-26   AAPL      0.422   0.516   0.516   0.494   0.500  121564800\n",
       "861    1993-05-27   AAPL      0.421   0.513   0.522   0.511   0.516  197288000\n",
       "862    1993-05-28   AAPL      0.415   0.506   0.513   0.502   0.509  183948800\n",
       "863    1993-06-01   AAPL      0.418   0.509   0.516   0.504   0.504  135072000\n",
       "864    1993-06-02   AAPL      0.418   0.509   0.520   0.500   0.507  200480000\n",
       "...           ...    ...        ...     ...     ...     ...     ...        ...\n",
       "438760 2005-05-25    XOM     30.216  55.680  55.980  54.810  55.060   17737900\n",
       "438761 2005-05-26    XOM     30.509  56.220  56.410  55.710  56.050   12250500\n",
       "438762 2005-05-27    XOM     30.823  56.800  56.900  56.290  56.400   10305500\n",
       "438763 2005-05-31    XOM     30.498  56.200  57.100  56.100  57.000   21371100\n",
       "438764 2005-06-01    XOM     31.013  57.150  57.410  56.330  56.450   14608600\n",
       "\n",
       "[52000 rows x 8 columns]"
      ]
     },
     "execution_count": 72,
     "metadata": {},
     "output_type": "execute_result"
    }
   ],
   "source": [
    "stock_df = []\n",
    "for t, start_date in zip(tickers, random_dates):\n",
    "    subset = base[base['Ticker'] == t]\n",
    "    subset = subset[subset['Date'] >= start_date]\n",
    "#     end_date = start_date + pd.DateOffset(years=4)\n",
    "#     subset = subset[subset['Date'] < end_date]\n",
    "    subset = subset.iloc[:1000]\n",
    "    stock_df.append(subset)\n",
    "\n",
    "final_data = pd.concat(stock_df)\n",
    "final_data"
   ]
  },
  {
   "cell_type": "markdown",
   "metadata": {},
   "source": [
    "## Replace date column with epoch"
   ]
  },
  {
   "cell_type": "code",
   "execution_count": 73,
   "metadata": {},
   "outputs": [
    {
     "name": "stdout",
     "output_type": "stream",
     "text": [
      "          Date Ticker  Epoch  Adj Close  Close   High    Low   Open     Volume\n",
      "860 1993-05-26   AAPL      1      0.422  0.516  0.516  0.494  0.500  121564800\n",
      "861 1993-05-27   AAPL      2      0.421  0.513  0.522  0.511  0.516  197288000\n",
      "862 1993-05-28   AAPL      3      0.415  0.506  0.513  0.502  0.509  183948800\n",
      "863 1993-06-01   AAPL      4      0.418  0.509  0.516  0.504  0.504  135072000\n",
      "864 1993-06-02   AAPL      5      0.418  0.509  0.520  0.500  0.507  200480000\n"
     ]
    }
   ],
   "source": [
    "epochs = []\n",
    "lengths = []\n",
    "for t in final_data['Ticker'].unique():\n",
    "    length = final_data[final_data['Ticker'] == t].shape[0]\n",
    "    epochs += list(range(1, length+1))\n",
    "    lengths.append(length)\n",
    "final_data.insert(2, 'Epoch', epochs)\n",
    "print(final_data.head())"
   ]
  },
  {
   "cell_type": "markdown",
   "metadata": {},
   "source": [
    "## Making sure all stocks have the same number of rows"
   ]
  },
  {
   "cell_type": "code",
   "execution_count": 74,
   "metadata": {},
   "outputs": [
    {
     "data": {
      "text/plain": [
       "array([1000], dtype=int64)"
      ]
     },
     "execution_count": 74,
     "metadata": {},
     "output_type": "execute_result"
    }
   ],
   "source": [
    "pd.Series(lengths).unique()"
   ]
  },
  {
   "cell_type": "code",
   "execution_count": 75,
   "metadata": {},
   "outputs": [
    {
     "data": {
      "text/plain": [
       "1"
      ]
     },
     "execution_count": 75,
     "metadata": {},
     "output_type": "execute_result"
    }
   ],
   "source": [
    "final_data['Ticker'].value_counts().nunique()"
   ]
  },
  {
   "cell_type": "markdown",
   "metadata": {},
   "source": [
    "## Anonymize Stock Tickers"
   ]
  },
  {
   "cell_type": "code",
   "execution_count": 76,
   "metadata": {},
   "outputs": [
    {
     "name": "stdout",
     "output_type": "stream",
     "text": [
      "          Date Masked_Ticker  Epoch  Adj Close  Close   High    Low   Open  \\\n",
      "860 1993-05-26      IUKUVMDR      1      0.422  0.516  0.516  0.494  0.500   \n",
      "861 1993-05-27      IUKUVMDR      2      0.421  0.513  0.522  0.511  0.516   \n",
      "862 1993-05-28      IUKUVMDR      3      0.415  0.506  0.513  0.502  0.509   \n",
      "863 1993-06-01      IUKUVMDR      4      0.418  0.509  0.516  0.504  0.504   \n",
      "864 1993-06-02      IUKUVMDR      5      0.418  0.509  0.520  0.500  0.507   \n",
      "\n",
      "        Volume  \n",
      "860  121564800  \n",
      "861  197288000  \n",
      "862  183948800  \n",
      "863  135072000  \n",
      "864  200480000  \n"
     ]
    }
   ],
   "source": [
    "unique_tickers = final_data['Ticker'].unique()\n",
    "\n",
    "# Generate a random string of fixed length, say 5 characters\n",
    "def generate_random_string(length=8):\n",
    "    return ''.join(random.choices(string.ascii_uppercase, k=length))\n",
    "\n",
    "# Create a mapping dictionary from original tickers to random strings\n",
    "ticker_mapping = {ticker: generate_random_string() for ticker in unique_tickers}\n",
    "\n",
    "# Ensure uniqueness of the random strings, if not regenerate\n",
    "while len(set(ticker_mapping.values())) < len(ticker_mapping):\n",
    "    for ticker in ticker_mapping:\n",
    "        ticker_mapping[ticker] = generate_random_string()\n",
    "\n",
    "# Replace the tickers in the DataFrame\n",
    "final_data['Ticker'] = final_data['Ticker'].map(ticker_mapping)\n",
    "\n",
    "final_data.rename(columns={'Ticker': 'Masked_Ticker'}, inplace=True)\n",
    "print(final_data.head())"
   ]
  },
  {
   "cell_type": "markdown",
   "metadata": {},
   "source": [
    "## Saving processed data"
   ]
  },
  {
   "cell_type": "code",
   "execution_count": 77,
   "metadata": {},
   "outputs": [],
   "source": [
    "del final_data['Date']"
   ]
  },
  {
   "cell_type": "code",
   "execution_count": 78,
   "metadata": {},
   "outputs": [],
   "source": [
    "final_data.to_csv('../../processed/daily_stock_prices/daily_stock_prices.csv', index=False)"
   ]
  },
  {
   "cell_type": "code",
   "execution_count": null,
   "metadata": {},
   "outputs": [],
   "source": []
  }
 ],
 "metadata": {
  "kernelspec": {
   "display_name": "Python 3 (ipykernel)",
   "language": "python",
   "name": "python3"
  },
  "language_info": {
   "codemirror_mode": {
    "name": "ipython",
    "version": 3
   },
   "file_extension": ".py",
   "mimetype": "text/x-python",
   "name": "python",
   "nbconvert_exporter": "python",
   "pygments_lexer": "ipython3",
   "version": "3.11.5"
  }
 },
 "nbformat": 4,
 "nbformat_minor": 2
}
