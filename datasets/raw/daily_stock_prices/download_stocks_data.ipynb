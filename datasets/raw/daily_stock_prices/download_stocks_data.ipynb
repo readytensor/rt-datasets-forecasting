{
 "cells": [
  {
   "cell_type": "code",
   "execution_count": 1,
   "id": "a64643ed",
   "metadata": {},
   "outputs": [],
   "source": [
    "# !pip install yfinance"
   ]
  },
  {
   "cell_type": "code",
   "execution_count": 3,
   "id": "caa8f2c7",
   "metadata": {},
   "outputs": [],
   "source": [
    "import yfinance as yf\n",
    "import pandas as pd"
   ]
  },
  {
   "cell_type": "code",
   "execution_count": 4,
   "id": "4d2f01a2",
   "metadata": {},
   "outputs": [
    {
     "data": {
      "text/html": [
       "<div>\n",
       "<style scoped>\n",
       "    .dataframe tbody tr th:only-of-type {\n",
       "        vertical-align: middle;\n",
       "    }\n",
       "\n",
       "    .dataframe tbody tr th {\n",
       "        vertical-align: top;\n",
       "    }\n",
       "\n",
       "    .dataframe thead th {\n",
       "        text-align: right;\n",
       "    }\n",
       "</style>\n",
       "<table border=\"1\" class=\"dataframe\">\n",
       "  <thead>\n",
       "    <tr style=\"text-align: right;\">\n",
       "      <th></th>\n",
       "      <th>Company</th>\n",
       "      <th>Ticker</th>\n",
       "    </tr>\n",
       "  </thead>\n",
       "  <tbody>\n",
       "    <tr>\n",
       "      <th>0</th>\n",
       "      <td>Apple Inc.</td>\n",
       "      <td>AAPL</td>\n",
       "    </tr>\n",
       "    <tr>\n",
       "      <th>1</th>\n",
       "      <td>Archer Daniels Midland</td>\n",
       "      <td>ADM</td>\n",
       "    </tr>\n",
       "    <tr>\n",
       "      <th>2</th>\n",
       "      <td>Ametek</td>\n",
       "      <td>AME</td>\n",
       "    </tr>\n",
       "    <tr>\n",
       "      <th>3</th>\n",
       "      <td>A.O. Smith</td>\n",
       "      <td>AOS</td>\n",
       "    </tr>\n",
       "    <tr>\n",
       "      <th>4</th>\n",
       "      <td>Dennison Manufacturing</td>\n",
       "      <td>AVY</td>\n",
       "    </tr>\n",
       "  </tbody>\n",
       "</table>\n",
       "</div>"
      ],
      "text/plain": [
       "                  Company Ticker\n",
       "0              Apple Inc.   AAPL\n",
       "1  Archer Daniels Midland    ADM\n",
       "2                  Ametek    AME\n",
       "3              A.O. Smith    AOS\n",
       "4  Dennison Manufacturing    AVY"
      ]
     },
     "execution_count": 4,
     "metadata": {},
     "output_type": "execute_result"
    }
   ],
   "source": [
    "stocks = pd.read_csv('selected stocks.csv') # list of stock tickers to download\n",
    "stocks.head()"
   ]
  },
  {
   "cell_type": "code",
   "execution_count": 5,
   "id": "ac12b3a3",
   "metadata": {},
   "outputs": [],
   "source": [
    "tickers = stocks['Ticker'].tolist()"
   ]
  },
  {
   "cell_type": "markdown",
   "id": "15e3d9c2",
   "metadata": {},
   "source": [
    "# Download data"
   ]
  },
  {
   "cell_type": "code",
   "execution_count": 6,
   "id": "fd844f28",
   "metadata": {},
   "outputs": [
    {
     "name": "stdout",
     "output_type": "stream",
     "text": [
      "[*********************100%%**********************]  81 of 81 completed"
     ]
    },
    {
     "name": "stderr",
     "output_type": "stream",
     "text": [
      "\n",
      "10 Failed downloads:\n",
      "['NAV', 'REV', 'DFODQ', 'BGG']: Exception('%ticker%: No timezone found, symbol may be delisted')\n",
      "['TSO', 'FCS', 'JOY', 'GKIS', 'BS', 'GMIL']: Exception('%ticker%: No price data found, symbol may be delisted (1d 1990-01-01 -> 2023-11-12)')\n"
     ]
    },
    {
     "name": "stdout",
     "output_type": "stream",
     "text": [
      "\n"
     ]
    }
   ],
   "source": [
    "data = yf.download(tickers, interval=\"1d\", start=\"1990-01-01\")"
   ]
  },
  {
   "cell_type": "code",
   "execution_count": 8,
   "id": "cbf7e76d",
   "metadata": {},
   "outputs": [
    {
     "data": {
      "text/html": [
       "<div>\n",
       "<style scoped>\n",
       "    .dataframe tbody tr th:only-of-type {\n",
       "        vertical-align: middle;\n",
       "    }\n",
       "\n",
       "    .dataframe tbody tr th {\n",
       "        vertical-align: top;\n",
       "    }\n",
       "\n",
       "    .dataframe thead tr th {\n",
       "        text-align: left;\n",
       "    }\n",
       "\n",
       "    .dataframe thead tr:last-of-type th {\n",
       "        text-align: right;\n",
       "    }\n",
       "</style>\n",
       "<table border=\"1\" class=\"dataframe\">\n",
       "  <thead>\n",
       "    <tr>\n",
       "      <th></th>\n",
       "      <th colspan=\"10\" halign=\"left\">Adj Close</th>\n",
       "      <th>...</th>\n",
       "      <th colspan=\"10\" halign=\"left\">Volume</th>\n",
       "    </tr>\n",
       "    <tr>\n",
       "      <th></th>\n",
       "      <th>AAPL</th>\n",
       "      <th>ADM</th>\n",
       "      <th>AME</th>\n",
       "      <th>AOS</th>\n",
       "      <th>AVY</th>\n",
       "      <th>BA</th>\n",
       "      <th>BC</th>\n",
       "      <th>BDX</th>\n",
       "      <th>BGG</th>\n",
       "      <th>BKR</th>\n",
       "      <th>...</th>\n",
       "      <th>TSO</th>\n",
       "      <th>TTC</th>\n",
       "      <th>TXN</th>\n",
       "      <th>VFC</th>\n",
       "      <th>VMC</th>\n",
       "      <th>VMI</th>\n",
       "      <th>VYX</th>\n",
       "      <th>WDC</th>\n",
       "      <th>WRC</th>\n",
       "      <th>XOM</th>\n",
       "    </tr>\n",
       "    <tr>\n",
       "      <th>Date</th>\n",
       "      <th></th>\n",
       "      <th></th>\n",
       "      <th></th>\n",
       "      <th></th>\n",
       "      <th></th>\n",
       "      <th></th>\n",
       "      <th></th>\n",
       "      <th></th>\n",
       "      <th></th>\n",
       "      <th></th>\n",
       "      <th></th>\n",
       "      <th></th>\n",
       "      <th></th>\n",
       "      <th></th>\n",
       "      <th></th>\n",
       "      <th></th>\n",
       "      <th></th>\n",
       "      <th></th>\n",
       "      <th></th>\n",
       "      <th></th>\n",
       "      <th></th>\n",
       "    </tr>\n",
       "  </thead>\n",
       "  <tbody>\n",
       "    <tr>\n",
       "      <th>1990-01-02 00:00:00</th>\n",
       "      <td>0.263414</td>\n",
       "      <td>4.656210</td>\n",
       "      <td>1.292103</td>\n",
       "      <td>0.353147</td>\n",
       "      <td>7.014159</td>\n",
       "      <td>11.043631</td>\n",
       "      <td>7.969816</td>\n",
       "      <td>4.594040</td>\n",
       "      <td>NaN</td>\n",
       "      <td>10.116336</td>\n",
       "      <td>...</td>\n",
       "      <td>NaN</td>\n",
       "      <td>622400</td>\n",
       "      <td>3766400</td>\n",
       "      <td>654192</td>\n",
       "      <td>69300</td>\n",
       "      <td>30400</td>\n",
       "      <td>NaN</td>\n",
       "      <td>523200</td>\n",
       "      <td>NaN</td>\n",
       "      <td>5326000</td>\n",
       "    </tr>\n",
       "    <tr>\n",
       "      <th>1990-01-03 00:00:00</th>\n",
       "      <td>0.265181</td>\n",
       "      <td>4.656210</td>\n",
       "      <td>1.304178</td>\n",
       "      <td>0.349752</td>\n",
       "      <td>7.014159</td>\n",
       "      <td>11.312985</td>\n",
       "      <td>7.901111</td>\n",
       "      <td>4.548192</td>\n",
       "      <td>NaN</td>\n",
       "      <td>9.969729</td>\n",
       "      <td>...</td>\n",
       "      <td>NaN</td>\n",
       "      <td>318400</td>\n",
       "      <td>8323200</td>\n",
       "      <td>744250</td>\n",
       "      <td>19500</td>\n",
       "      <td>815200</td>\n",
       "      <td>NaN</td>\n",
       "      <td>506600</td>\n",
       "      <td>NaN</td>\n",
       "      <td>4980400</td>\n",
       "    </tr>\n",
       "    <tr>\n",
       "      <th>1990-01-04 00:00:00</th>\n",
       "      <td>0.266066</td>\n",
       "      <td>4.630906</td>\n",
       "      <td>1.292103</td>\n",
       "      <td>0.353147</td>\n",
       "      <td>7.094787</td>\n",
       "      <td>11.268093</td>\n",
       "      <td>7.901111</td>\n",
       "      <td>4.511514</td>\n",
       "      <td>NaN</td>\n",
       "      <td>9.725367</td>\n",
       "      <td>...</td>\n",
       "      <td>NaN</td>\n",
       "      <td>648000</td>\n",
       "      <td>10654400</td>\n",
       "      <td>493618</td>\n",
       "      <td>23400</td>\n",
       "      <td>96000</td>\n",
       "      <td>NaN</td>\n",
       "      <td>618400</td>\n",
       "      <td>NaN</td>\n",
       "      <td>6013200</td>\n",
       "    </tr>\n",
       "    <tr>\n",
       "      <th>1990-01-05 00:00:00</th>\n",
       "      <td>0.266950</td>\n",
       "      <td>4.428463</td>\n",
       "      <td>1.280027</td>\n",
       "      <td>0.349752</td>\n",
       "      <td>6.879792</td>\n",
       "      <td>11.110964</td>\n",
       "      <td>7.901111</td>\n",
       "      <td>4.502344</td>\n",
       "      <td>NaN</td>\n",
       "      <td>9.676490</td>\n",
       "      <td>...</td>\n",
       "      <td>NaN</td>\n",
       "      <td>544000</td>\n",
       "      <td>6528000</td>\n",
       "      <td>720461</td>\n",
       "      <td>51000</td>\n",
       "      <td>263800</td>\n",
       "      <td>NaN</td>\n",
       "      <td>345200</td>\n",
       "      <td>NaN</td>\n",
       "      <td>3854800</td>\n",
       "    </tr>\n",
       "    <tr>\n",
       "      <th>1990-01-08 00:00:00</th>\n",
       "      <td>0.268718</td>\n",
       "      <td>4.479074</td>\n",
       "      <td>1.267951</td>\n",
       "      <td>0.353147</td>\n",
       "      <td>6.879792</td>\n",
       "      <td>11.245651</td>\n",
       "      <td>7.832400</td>\n",
       "      <td>4.529851</td>\n",
       "      <td>NaN</td>\n",
       "      <td>9.774240</td>\n",
       "      <td>...</td>\n",
       "      <td>NaN</td>\n",
       "      <td>320000</td>\n",
       "      <td>2875200</td>\n",
       "      <td>186062</td>\n",
       "      <td>495300</td>\n",
       "      <td>5200</td>\n",
       "      <td>NaN</td>\n",
       "      <td>178800</td>\n",
       "      <td>NaN</td>\n",
       "      <td>4302000</td>\n",
       "    </tr>\n",
       "  </tbody>\n",
       "</table>\n",
       "<p>5 rows × 486 columns</p>\n",
       "</div>"
      ],
      "text/plain": [
       "                    Adj Close                                          \\\n",
       "                         AAPL       ADM       AME       AOS       AVY   \n",
       "Date                                                                    \n",
       "1990-01-02 00:00:00  0.263414  4.656210  1.292103  0.353147  7.014159   \n",
       "1990-01-03 00:00:00  0.265181  4.656210  1.304178  0.349752  7.014159   \n",
       "1990-01-04 00:00:00  0.266066  4.630906  1.292103  0.353147  7.094787   \n",
       "1990-01-05 00:00:00  0.266950  4.428463  1.280027  0.349752  6.879792   \n",
       "1990-01-08 00:00:00  0.268718  4.479074  1.267951  0.353147  6.879792   \n",
       "\n",
       "                                                                   ... Volume  \\\n",
       "                            BA        BC       BDX BGG        BKR  ...    TSO   \n",
       "Date                                                               ...          \n",
       "1990-01-02 00:00:00  11.043631  7.969816  4.594040 NaN  10.116336  ...    NaN   \n",
       "1990-01-03 00:00:00  11.312985  7.901111  4.548192 NaN   9.969729  ...    NaN   \n",
       "1990-01-04 00:00:00  11.268093  7.901111  4.511514 NaN   9.725367  ...    NaN   \n",
       "1990-01-05 00:00:00  11.110964  7.901111  4.502344 NaN   9.676490  ...    NaN   \n",
       "1990-01-08 00:00:00  11.245651  7.832400  4.529851 NaN   9.774240  ...    NaN   \n",
       "\n",
       "                                                                               \\\n",
       "                        TTC       TXN     VFC     VMC     VMI VYX     WDC WRC   \n",
       "Date                                                                            \n",
       "1990-01-02 00:00:00  622400   3766400  654192   69300   30400 NaN  523200 NaN   \n",
       "1990-01-03 00:00:00  318400   8323200  744250   19500  815200 NaN  506600 NaN   \n",
       "1990-01-04 00:00:00  648000  10654400  493618   23400   96000 NaN  618400 NaN   \n",
       "1990-01-05 00:00:00  544000   6528000  720461   51000  263800 NaN  345200 NaN   \n",
       "1990-01-08 00:00:00  320000   2875200  186062  495300    5200 NaN  178800 NaN   \n",
       "\n",
       "                              \n",
       "                         XOM  \n",
       "Date                          \n",
       "1990-01-02 00:00:00  5326000  \n",
       "1990-01-03 00:00:00  4980400  \n",
       "1990-01-04 00:00:00  6013200  \n",
       "1990-01-05 00:00:00  3854800  \n",
       "1990-01-08 00:00:00  4302000  \n",
       "\n",
       "[5 rows x 486 columns]"
      ]
     },
     "execution_count": 8,
     "metadata": {},
     "output_type": "execute_result"
    }
   ],
   "source": [
    "data.head()"
   ]
  },
  {
   "cell_type": "markdown",
   "id": "81af7b6b",
   "metadata": {},
   "source": [
    "# Drop missing data"
   ]
  },
  {
   "cell_type": "code",
   "execution_count": 9,
   "id": "03ae2825",
   "metadata": {},
   "outputs": [],
   "source": [
    "data = data.dropna(axis=1)"
   ]
  },
  {
   "cell_type": "markdown",
   "id": "c056a656",
   "metadata": {},
   "source": [
    "# Round floating point numbers"
   ]
  },
  {
   "cell_type": "code",
   "execution_count": 10,
   "id": "70cf9733",
   "metadata": {},
   "outputs": [],
   "source": [
    "df_rounded = data.round(3)"
   ]
  },
  {
   "cell_type": "markdown",
   "id": "be51da9c",
   "metadata": {},
   "source": [
    "# Unpivot the data"
   ]
  },
  {
   "cell_type": "code",
   "execution_count": 11,
   "id": "be83b40e",
   "metadata": {},
   "outputs": [
    {
     "name": "stdout",
     "output_type": "stream",
     "text": [
      "        Date Ticker  Adj Close  Close   High    Low   Open     Volume\n",
      "0 1990-01-02   AAPL      0.263  0.333  0.335  0.312  0.315  183198400\n",
      "1 1990-01-03   AAPL      0.265  0.335  0.339  0.335  0.339  207995200\n",
      "2 1990-01-04   AAPL      0.266  0.336  0.346  0.333  0.342  221513600\n",
      "3 1990-01-05   AAPL      0.267  0.337  0.342  0.330  0.337  123312000\n",
      "4 1990-01-08   AAPL      0.269  0.339  0.339  0.330  0.335  101572800\n"
     ]
    }
   ],
   "source": [
    "frames = []\n",
    "for c in df_rounded.columns.get_level_values(0).unique():\n",
    "    d = df_rounded[c].reset_index()\n",
    "    d = d.melt(id_vars=['Date'], var_name='Ticker', value_name=c)\n",
    "    frames.append(d)\n",
    "\n",
    "base = frames[0]\n",
    "for f in frames[1:]:\n",
    "    base = base.merge(f, on=['Date', 'Ticker'], how='inner')\n",
    "print(base.head())"
   ]
  },
  {
   "cell_type": "markdown",
   "id": "a8d41b9a",
   "metadata": {},
   "source": [
    "# Save the file"
   ]
  },
  {
   "cell_type": "code",
   "execution_count": 14,
   "id": "0fd2b760",
   "metadata": {},
   "outputs": [],
   "source": [
    "# Save the original downloaded data\n",
    "base.to_csv(\"original_downloaded_stocks_data.csv\", index=False)"
   ]
  },
  {
   "cell_type": "code",
   "execution_count": null,
   "id": "5a4f99ce",
   "metadata": {},
   "outputs": [],
   "source": []
  }
 ],
 "metadata": {
  "kernelspec": {
   "display_name": "Python 3 (ipykernel)",
   "language": "python",
   "name": "python3"
  },
  "language_info": {
   "codemirror_mode": {
    "name": "ipython",
    "version": 3
   },
   "file_extension": ".py",
   "mimetype": "text/x-python",
   "name": "python",
   "nbconvert_exporter": "python",
   "pygments_lexer": "ipython3",
   "version": "3.11.5"
  }
 },
 "nbformat": 4,
 "nbformat_minor": 5
}
