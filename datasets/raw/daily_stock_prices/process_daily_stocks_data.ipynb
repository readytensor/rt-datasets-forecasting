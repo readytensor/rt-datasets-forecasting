{
 "cells": [
  {
   "cell_type": "markdown",
   "metadata": {},
   "source": [
    "\n",
    "# Daily Stock Prices Dataset\n",
    "\n",
    "This dataset provides a diverse representation of historical stock prices from selected S&P 500 companies over the last three decades. It has been curated with the aim to capture the underlying trends, patterns, and fluctuations of individual stock prices, independent of broader market influences. The dataset offers a rich blend of leading companies from the S&P 500 list of 1990 combined with a random selection from the remainder of the list. The dataset contains daily stock data spanning 1000 days (roughly equivalent to 4 years) for each of the 52 selected stocks. In a step towards ensuring strict technical analysis, the stock tickers have been replaced with randomly generated unique strings to mask the original tickers and remove any potential analyst bias.\n",
    "\n",
    "### Dataset Composition:\n",
    "\n",
    "1. **Historical Reference:** The dataset includes the top 10 companies from the 1990 S&P 500 list that are still in existence, supplemented by a random selection from the remaining companies, ensuring all companies included are currently operational.\n",
    "\n",
    "2. **Random Time Window:** A random start date for each company's data was selected from between the beginning of 1990 to the beginning of 2016. From these start dates, 1000 consecutive trading days of data were gathered, amounting to roughly four years of trading data for each stock.\n",
    "\n",
    "3. **De-correlation Objective:** The choice of random start dates for each stock dataset prevents the ensemble from reflecting a uniform market period, avoiding highly correlated stock movements. This method aims to offer a more decorrelated and realistic picture of each stock's performance, irrespective of market trends.\n",
    "\n",
    "4. **Anonymization of Identifiers:** To focus the analysis purely on price movements and technical indicators, company identifiers have been replaced with anonymized strings, creating a level playing field for technical analysis without preconceived biases.\n",
    "\n",
    "5. **Dataset Structure:** The final saved dataset is structured as a CSV file, with columns for the anonymized ticker, the epoch (day number from 1 to 1000), and various stock price fields such as 'Adj Close', 'Close', 'High', 'Low', 'Open', and 'Volume'.\n",
    "\n",
    "### Advantages of the Dataset:\n",
    "\n",
    "- **Diverse Temporal Insights:** The dataset spans various market conditions, offering insights into stock behavior during different economic cycles, including bull markets and recessions.\n",
    "\n",
    "- **Time Series Forecasting:** With its temporal spread and de-correlation strategy, the dataset serves as an ideal benchmark for time series forecasting models that aim to predict stock price movements.\n",
    "\n",
    "- **Technical Analysis Focus:** The anonymization of stock tickers shifts the focus entirely to the technical aspects of the stock data, making it a robust resource for analysts practicing technical analysis without influence from the companies' fundamental data.\n",
    "\n",
    "The **S&P 500 Historical Sampler Dataset** is carefully balanced to mimic the complexities of real-world stock market dynamics and provides a comprehensive resource for advanced time series analysis and forecasting techniques. \n"
   ]
  },
  {
   "cell_type": "markdown",
   "metadata": {},
   "source": [
    "## Imports"
   ]
  },
  {
   "cell_type": "code",
   "execution_count": 88,
   "metadata": {},
   "outputs": [],
   "source": [
    "import os\n",
    "import numpy as np\n",
    "import pandas as pd\n",
    "import random\n",
    "import string"
   ]
  },
  {
   "cell_type": "code",
   "execution_count": 89,
   "metadata": {},
   "outputs": [],
   "source": [
    "dataset_name = \"daily_stock_prices\""
   ]
  },
  {
   "cell_type": "code",
   "execution_count": 90,
   "metadata": {},
   "outputs": [],
   "source": [
    "# Run the jupyter notebook \"download_stocks_data.ipynb\" in this present directory\n",
    "# to create the following file\n",
    "input_fname = \"original_downloaded_stocks_data.csv\" "
   ]
  },
  {
   "cell_type": "code",
   "execution_count": 91,
   "metadata": {},
   "outputs": [],
   "source": [
    "output_dir = f'./../../processed/{dataset_name}/'\n",
    "outp_fname = os.path.join(output_dir, f'{dataset_name}.csv')\n",
    "outp_fig_fname = os.path.join(output_dir, f'{dataset_name}.png')"
   ]
  },
  {
   "cell_type": "markdown",
   "metadata": {},
   "source": [
    "## Read selected stocks"
   ]
  },
  {
   "cell_type": "code",
   "execution_count": 92,
   "metadata": {},
   "outputs": [
    {
     "data": {
      "text/html": [
       "<div>\n",
       "<style scoped>\n",
       "    .dataframe tbody tr th:only-of-type {\n",
       "        vertical-align: middle;\n",
       "    }\n",
       "\n",
       "    .dataframe tbody tr th {\n",
       "        vertical-align: top;\n",
       "    }\n",
       "\n",
       "    .dataframe thead th {\n",
       "        text-align: right;\n",
       "    }\n",
       "</style>\n",
       "<table border=\"1\" class=\"dataframe\">\n",
       "  <thead>\n",
       "    <tr style=\"text-align: right;\">\n",
       "      <th></th>\n",
       "      <th>Date</th>\n",
       "      <th>Ticker</th>\n",
       "      <th>Adj Close</th>\n",
       "      <th>Close</th>\n",
       "      <th>High</th>\n",
       "      <th>Low</th>\n",
       "      <th>Open</th>\n",
       "      <th>Volume</th>\n",
       "    </tr>\n",
       "  </thead>\n",
       "  <tbody>\n",
       "    <tr>\n",
       "      <th>0</th>\n",
       "      <td>1990-01-02</td>\n",
       "      <td>AAPL</td>\n",
       "      <td>0.263</td>\n",
       "      <td>0.333</td>\n",
       "      <td>0.335</td>\n",
       "      <td>0.312</td>\n",
       "      <td>0.315</td>\n",
       "      <td>183198400</td>\n",
       "    </tr>\n",
       "    <tr>\n",
       "      <th>1</th>\n",
       "      <td>1990-01-03</td>\n",
       "      <td>AAPL</td>\n",
       "      <td>0.265</td>\n",
       "      <td>0.335</td>\n",
       "      <td>0.339</td>\n",
       "      <td>0.335</td>\n",
       "      <td>0.339</td>\n",
       "      <td>207995200</td>\n",
       "    </tr>\n",
       "    <tr>\n",
       "      <th>2</th>\n",
       "      <td>1990-01-04</td>\n",
       "      <td>AAPL</td>\n",
       "      <td>0.266</td>\n",
       "      <td>0.336</td>\n",
       "      <td>0.346</td>\n",
       "      <td>0.333</td>\n",
       "      <td>0.342</td>\n",
       "      <td>221513600</td>\n",
       "    </tr>\n",
       "    <tr>\n",
       "      <th>3</th>\n",
       "      <td>1990-01-05</td>\n",
       "      <td>AAPL</td>\n",
       "      <td>0.267</td>\n",
       "      <td>0.337</td>\n",
       "      <td>0.342</td>\n",
       "      <td>0.330</td>\n",
       "      <td>0.337</td>\n",
       "      <td>123312000</td>\n",
       "    </tr>\n",
       "    <tr>\n",
       "      <th>4</th>\n",
       "      <td>1990-01-08</td>\n",
       "      <td>AAPL</td>\n",
       "      <td>0.269</td>\n",
       "      <td>0.339</td>\n",
       "      <td>0.339</td>\n",
       "      <td>0.330</td>\n",
       "      <td>0.335</td>\n",
       "      <td>101572800</td>\n",
       "    </tr>\n",
       "  </tbody>\n",
       "</table>\n",
       "</div>"
      ],
      "text/plain": [
       "         Date Ticker  Adj Close  Close   High    Low   Open     Volume\n",
       "0  1990-01-02   AAPL      0.263  0.333  0.335  0.312  0.315  183198400\n",
       "1  1990-01-03   AAPL      0.265  0.335  0.339  0.335  0.339  207995200\n",
       "2  1990-01-04   AAPL      0.266  0.336  0.346  0.333  0.342  221513600\n",
       "3  1990-01-05   AAPL      0.267  0.337  0.342  0.330  0.337  123312000\n",
       "4  1990-01-08   AAPL      0.269  0.339  0.339  0.330  0.335  101572800"
      ]
     },
     "execution_count": 92,
     "metadata": {},
     "output_type": "execute_result"
    }
   ],
   "source": [
    "stocks = pd.read_csv(input_fname)\n",
    "stocks.head()"
   ]
  },
  {
   "cell_type": "markdown",
   "metadata": {},
   "source": [
    "## Pick random date for each ticker"
   ]
  },
  {
   "cell_type": "code",
   "execution_count": 93,
   "metadata": {},
   "outputs": [],
   "source": [
    "tickers = stocks['Ticker'].unique().tolist()"
   ]
  },
  {
   "cell_type": "code",
   "execution_count": 94,
   "metadata": {},
   "outputs": [
    {
     "data": {
      "text/plain": [
       "52"
      ]
     },
     "execution_count": 94,
     "metadata": {},
     "output_type": "execute_result"
    }
   ],
   "source": [
    "len(tickers)"
   ]
  },
  {
   "cell_type": "code",
   "execution_count": 95,
   "metadata": {},
   "outputs": [],
   "source": [
    "mask = (stocks['Date'] >= '1990-01-01') & (stocks['Date'] <= '2016-01-01')\n",
    "unique_valid_dates = stocks[mask]['Date'].unique()\n",
    "random_dates = pd.Series(unique_valid_dates).sample(len(tickers), replace=True, random_state=42).tolist()\n",
    "# print(random_dates)"
   ]
  },
  {
   "cell_type": "markdown",
   "metadata": {},
   "source": [
    "### Get 4 years of daily data for each ticker starting from it's corresponding random date "
   ]
  },
  {
   "cell_type": "code",
   "execution_count": 96,
   "metadata": {},
   "outputs": [
    {
     "data": {
      "text/html": [
       "<div>\n",
       "<style scoped>\n",
       "    .dataframe tbody tr th:only-of-type {\n",
       "        vertical-align: middle;\n",
       "    }\n",
       "\n",
       "    .dataframe tbody tr th {\n",
       "        vertical-align: top;\n",
       "    }\n",
       "\n",
       "    .dataframe thead th {\n",
       "        text-align: right;\n",
       "    }\n",
       "</style>\n",
       "<table border=\"1\" class=\"dataframe\">\n",
       "  <thead>\n",
       "    <tr style=\"text-align: right;\">\n",
       "      <th></th>\n",
       "      <th>Date</th>\n",
       "      <th>Ticker</th>\n",
       "      <th>Adj Close</th>\n",
       "      <th>Close</th>\n",
       "      <th>High</th>\n",
       "      <th>Low</th>\n",
       "      <th>Open</th>\n",
       "      <th>Volume</th>\n",
       "    </tr>\n",
       "  </thead>\n",
       "  <tbody>\n",
       "    <tr>\n",
       "      <th>860</th>\n",
       "      <td>1993-05-26</td>\n",
       "      <td>AAPL</td>\n",
       "      <td>0.422</td>\n",
       "      <td>0.516</td>\n",
       "      <td>0.516</td>\n",
       "      <td>0.494</td>\n",
       "      <td>0.500</td>\n",
       "      <td>121564800</td>\n",
       "    </tr>\n",
       "    <tr>\n",
       "      <th>861</th>\n",
       "      <td>1993-05-27</td>\n",
       "      <td>AAPL</td>\n",
       "      <td>0.420</td>\n",
       "      <td>0.513</td>\n",
       "      <td>0.522</td>\n",
       "      <td>0.511</td>\n",
       "      <td>0.516</td>\n",
       "      <td>197288000</td>\n",
       "    </tr>\n",
       "    <tr>\n",
       "      <th>862</th>\n",
       "      <td>1993-05-28</td>\n",
       "      <td>AAPL</td>\n",
       "      <td>0.415</td>\n",
       "      <td>0.506</td>\n",
       "      <td>0.513</td>\n",
       "      <td>0.502</td>\n",
       "      <td>0.509</td>\n",
       "      <td>183948800</td>\n",
       "    </tr>\n",
       "    <tr>\n",
       "      <th>863</th>\n",
       "      <td>1993-06-01</td>\n",
       "      <td>AAPL</td>\n",
       "      <td>0.417</td>\n",
       "      <td>0.509</td>\n",
       "      <td>0.516</td>\n",
       "      <td>0.504</td>\n",
       "      <td>0.504</td>\n",
       "      <td>135072000</td>\n",
       "    </tr>\n",
       "    <tr>\n",
       "      <th>864</th>\n",
       "      <td>1993-06-02</td>\n",
       "      <td>AAPL</td>\n",
       "      <td>0.417</td>\n",
       "      <td>0.509</td>\n",
       "      <td>0.520</td>\n",
       "      <td>0.500</td>\n",
       "      <td>0.507</td>\n",
       "      <td>200480000</td>\n",
       "    </tr>\n",
       "  </tbody>\n",
       "</table>\n",
       "</div>"
      ],
      "text/plain": [
       "           Date Ticker  Adj Close  Close   High    Low   Open     Volume\n",
       "860  1993-05-26   AAPL      0.422  0.516  0.516  0.494  0.500  121564800\n",
       "861  1993-05-27   AAPL      0.420  0.513  0.522  0.511  0.516  197288000\n",
       "862  1993-05-28   AAPL      0.415  0.506  0.513  0.502  0.509  183948800\n",
       "863  1993-06-01   AAPL      0.417  0.509  0.516  0.504  0.504  135072000\n",
       "864  1993-06-02   AAPL      0.417  0.509  0.520  0.500  0.507  200480000"
      ]
     },
     "execution_count": 96,
     "metadata": {},
     "output_type": "execute_result"
    }
   ],
   "source": [
    "stock_df = []\n",
    "for t, start_date in zip(tickers, random_dates):\n",
    "    subset = stocks[base['Ticker'] == t]\n",
    "    subset = subset[subset['Date'] >= start_date]\n",
    "    subset = subset.iloc[:1000]\n",
    "    stock_df.append(subset)\n",
    "\n",
    "final_data = pd.concat(stock_df)\n",
    "final_data.head()"
   ]
  },
  {
   "cell_type": "code",
   "execution_count": 97,
   "metadata": {},
   "outputs": [
    {
     "data": {
      "text/plain": [
       "1"
      ]
     },
     "execution_count": 97,
     "metadata": {},
     "output_type": "execute_result"
    }
   ],
   "source": [
    "# verify all tickers have same number of rows\n",
    "final_data['Ticker'].value_counts().nunique()"
   ]
  },
  {
   "cell_type": "markdown",
   "metadata": {},
   "source": [
    "## Anonymize Stock Tickers"
   ]
  },
  {
   "cell_type": "code",
   "execution_count": 98,
   "metadata": {},
   "outputs": [
    {
     "name": "stdout",
     "output_type": "stream",
     "text": [
      "           Date Ticker  Adj Close  Close   High    Low   Open     Volume  \\\n",
      "860  1993-05-26   AAPL      0.422  0.516  0.516  0.494  0.500  121564800   \n",
      "861  1993-05-27   AAPL      0.420  0.513  0.522  0.511  0.516  197288000   \n",
      "862  1993-05-28   AAPL      0.415  0.506  0.513  0.502  0.509  183948800   \n",
      "863  1993-06-01   AAPL      0.417  0.509  0.516  0.504  0.504  135072000   \n",
      "864  1993-06-02   AAPL      0.417  0.509  0.520  0.500  0.507  200480000   \n",
      "\n",
      "    Masked_Ticker  \n",
      "860      VTKGNKUH  \n",
      "861      VTKGNKUH  \n",
      "862      VTKGNKUH  \n",
      "863      VTKGNKUH  \n",
      "864      VTKGNKUH  \n"
     ]
    }
   ],
   "source": [
    "random.seed(0)\n",
    "\n",
    "unique_tickers = final_data['Ticker'].unique()\n",
    "\n",
    "# Generate a random string of fixed length, say 5 characters\n",
    "def generate_random_string(length=8):\n",
    "    return ''.join(random.choices(string.ascii_uppercase, k=length))\n",
    "\n",
    "# Create a mapping dictionary from original tickers to random strings\n",
    "ticker_mapping = {ticker: generate_random_string() for ticker in unique_tickers}\n",
    "\n",
    "# Ensure uniqueness of the random strings, if not regenerate\n",
    "while len(set(ticker_mapping.values())) < len(ticker_mapping):\n",
    "    for ticker in ticker_mapping:\n",
    "        ticker_mapping[ticker] = generate_random_string()\n",
    "\n",
    "# Create a column with masked tickers \n",
    "final_data['Masked_Ticker'] = final_data['Ticker'].map(ticker_mapping)\n",
    "\n",
    "print(final_data.head())"
   ]
  },
  {
   "cell_type": "markdown",
   "metadata": {},
   "source": [
    "## Define Fields in Data"
   ]
  },
  {
   "cell_type": "code",
   "execution_count": 99,
   "metadata": {},
   "outputs": [],
   "source": [
    "series_col = \"Masked_Ticker\"\n",
    "epoch_col = 'Day_Num'\n",
    "time_col='Date'\n",
    "value_col = 'Adj Close'\n",
    "exog_cols=['Close', 'High', 'Low', 'Open', 'Volume']"
   ]
  },
  {
   "cell_type": "markdown",
   "metadata": {},
   "source": [
    "## Add the Time Field (if Missing)"
   ]
  },
  {
   "cell_type": "code",
   "execution_count": 100,
   "metadata": {},
   "outputs": [
    {
     "data": {
      "text/html": [
       "<div>\n",
       "<style scoped>\n",
       "    .dataframe tbody tr th:only-of-type {\n",
       "        vertical-align: middle;\n",
       "    }\n",
       "\n",
       "    .dataframe tbody tr th {\n",
       "        vertical-align: top;\n",
       "    }\n",
       "\n",
       "    .dataframe thead th {\n",
       "        text-align: right;\n",
       "    }\n",
       "</style>\n",
       "<table border=\"1\" class=\"dataframe\">\n",
       "  <thead>\n",
       "    <tr style=\"text-align: right;\">\n",
       "      <th></th>\n",
       "      <th>Date</th>\n",
       "      <th>Ticker</th>\n",
       "      <th>Adj Close</th>\n",
       "      <th>Close</th>\n",
       "      <th>High</th>\n",
       "      <th>Low</th>\n",
       "      <th>Open</th>\n",
       "      <th>Volume</th>\n",
       "      <th>Masked_Ticker</th>\n",
       "      <th>Day_Num</th>\n",
       "    </tr>\n",
       "  </thead>\n",
       "  <tbody>\n",
       "    <tr>\n",
       "      <th>860</th>\n",
       "      <td>1993-05-26</td>\n",
       "      <td>AAPL</td>\n",
       "      <td>0.422</td>\n",
       "      <td>0.516</td>\n",
       "      <td>0.516</td>\n",
       "      <td>0.494</td>\n",
       "      <td>0.500</td>\n",
       "      <td>121564800</td>\n",
       "      <td>VTKGNKUH</td>\n",
       "      <td>1</td>\n",
       "    </tr>\n",
       "    <tr>\n",
       "      <th>861</th>\n",
       "      <td>1993-05-27</td>\n",
       "      <td>AAPL</td>\n",
       "      <td>0.420</td>\n",
       "      <td>0.513</td>\n",
       "      <td>0.522</td>\n",
       "      <td>0.511</td>\n",
       "      <td>0.516</td>\n",
       "      <td>197288000</td>\n",
       "      <td>VTKGNKUH</td>\n",
       "      <td>2</td>\n",
       "    </tr>\n",
       "    <tr>\n",
       "      <th>862</th>\n",
       "      <td>1993-05-28</td>\n",
       "      <td>AAPL</td>\n",
       "      <td>0.415</td>\n",
       "      <td>0.506</td>\n",
       "      <td>0.513</td>\n",
       "      <td>0.502</td>\n",
       "      <td>0.509</td>\n",
       "      <td>183948800</td>\n",
       "      <td>VTKGNKUH</td>\n",
       "      <td>3</td>\n",
       "    </tr>\n",
       "    <tr>\n",
       "      <th>863</th>\n",
       "      <td>1993-06-01</td>\n",
       "      <td>AAPL</td>\n",
       "      <td>0.417</td>\n",
       "      <td>0.509</td>\n",
       "      <td>0.516</td>\n",
       "      <td>0.504</td>\n",
       "      <td>0.504</td>\n",
       "      <td>135072000</td>\n",
       "      <td>VTKGNKUH</td>\n",
       "      <td>4</td>\n",
       "    </tr>\n",
       "    <tr>\n",
       "      <th>864</th>\n",
       "      <td>1993-06-02</td>\n",
       "      <td>AAPL</td>\n",
       "      <td>0.417</td>\n",
       "      <td>0.509</td>\n",
       "      <td>0.520</td>\n",
       "      <td>0.500</td>\n",
       "      <td>0.507</td>\n",
       "      <td>200480000</td>\n",
       "      <td>VTKGNKUH</td>\n",
       "      <td>5</td>\n",
       "    </tr>\n",
       "  </tbody>\n",
       "</table>\n",
       "</div>"
      ],
      "text/plain": [
       "           Date Ticker  Adj Close  Close   High    Low   Open     Volume  \\\n",
       "860  1993-05-26   AAPL      0.422  0.516  0.516  0.494  0.500  121564800   \n",
       "861  1993-05-27   AAPL      0.420  0.513  0.522  0.511  0.516  197288000   \n",
       "862  1993-05-28   AAPL      0.415  0.506  0.513  0.502  0.509  183948800   \n",
       "863  1993-06-01   AAPL      0.417  0.509  0.516  0.504  0.504  135072000   \n",
       "864  1993-06-02   AAPL      0.417  0.509  0.520  0.500  0.507  200480000   \n",
       "\n",
       "    Masked_Ticker  Day_Num  \n",
       "860      VTKGNKUH        1  \n",
       "861      VTKGNKUH        2  \n",
       "862      VTKGNKUH        3  \n",
       "863      VTKGNKUH        4  \n",
       "864      VTKGNKUH        5  "
      ]
     },
     "execution_count": 100,
     "metadata": {},
     "output_type": "execute_result"
    }
   ],
   "source": [
    "# While we do have the 'Date' field, note that we chose different dates per stock\n",
    "# They are not the same dates. We want to treat the time as being the same. \n",
    "# So we will create a new field called 'Day_Num' and make it integer type. \n",
    "# It will start at 1 and increment per day of data. So all stock tickers will\n",
    "# go 1 to 1000 under this field. \n",
    "if epoch_col not in final_data.columns:\n",
    "    final_data[epoch_col]=-1\n",
    "    unique_series = final_data[series_col].unique().tolist()\n",
    "    for s in unique_series:\n",
    "        idx = final_data[series_col] == s\n",
    "        final_data.loc[idx, epoch_col] = np.arange(sum(idx)) + 1\n",
    "final_data.head()"
   ]
  },
  {
   "cell_type": "markdown",
   "metadata": {},
   "source": [
    "## Save processed data"
   ]
  },
  {
   "cell_type": "code",
   "execution_count": 101,
   "metadata": {},
   "outputs": [],
   "source": [
    "all_cols = [series_col, epoch_col, value_col] + exog_cols    \n",
    "final_data.sort_values(by=[series_col, epoch_col], inplace=True)\n",
    "final_data[all_cols].to_csv(outp_fname, index=False)"
   ]
  },
  {
   "cell_type": "code",
   "execution_count": 102,
   "metadata": {},
   "outputs": [
    {
     "data": {
      "text/html": [
       "<div>\n",
       "<style scoped>\n",
       "    .dataframe tbody tr th:only-of-type {\n",
       "        vertical-align: middle;\n",
       "    }\n",
       "\n",
       "    .dataframe tbody tr th {\n",
       "        vertical-align: top;\n",
       "    }\n",
       "\n",
       "    .dataframe thead th {\n",
       "        text-align: right;\n",
       "    }\n",
       "</style>\n",
       "<table border=\"1\" class=\"dataframe\">\n",
       "  <thead>\n",
       "    <tr style=\"text-align: right;\">\n",
       "      <th></th>\n",
       "      <th>Masked_Ticker</th>\n",
       "      <th>Day_Num</th>\n",
       "      <th>Adj Close</th>\n",
       "      <th>Close</th>\n",
       "      <th>High</th>\n",
       "      <th>Low</th>\n",
       "      <th>Open</th>\n",
       "      <th>Volume</th>\n",
       "    </tr>\n",
       "  </thead>\n",
       "  <tbody>\n",
       "    <tr>\n",
       "      <th>267396</th>\n",
       "      <td>ABROYYXB</td>\n",
       "      <td>1</td>\n",
       "      <td>3.245</td>\n",
       "      <td>49.50</td>\n",
       "      <td>50.75</td>\n",
       "      <td>47.78</td>\n",
       "      <td>48.45</td>\n",
       "      <td>11210300</td>\n",
       "    </tr>\n",
       "    <tr>\n",
       "      <th>267397</th>\n",
       "      <td>ABROYYXB</td>\n",
       "      <td>2</td>\n",
       "      <td>3.199</td>\n",
       "      <td>48.80</td>\n",
       "      <td>49.76</td>\n",
       "      <td>48.60</td>\n",
       "      <td>49.76</td>\n",
       "      <td>6797600</td>\n",
       "    </tr>\n",
       "    <tr>\n",
       "      <th>267398</th>\n",
       "      <td>ABROYYXB</td>\n",
       "      <td>3</td>\n",
       "      <td>3.133</td>\n",
       "      <td>47.80</td>\n",
       "      <td>48.79</td>\n",
       "      <td>47.74</td>\n",
       "      <td>48.50</td>\n",
       "      <td>5175300</td>\n",
       "    </tr>\n",
       "    <tr>\n",
       "      <th>267399</th>\n",
       "      <td>ABROYYXB</td>\n",
       "      <td>4</td>\n",
       "      <td>3.067</td>\n",
       "      <td>46.78</td>\n",
       "      <td>47.20</td>\n",
       "      <td>46.11</td>\n",
       "      <td>47.00</td>\n",
       "      <td>7583200</td>\n",
       "    </tr>\n",
       "    <tr>\n",
       "      <th>267400</th>\n",
       "      <td>ABROYYXB</td>\n",
       "      <td>5</td>\n",
       "      <td>2.996</td>\n",
       "      <td>45.71</td>\n",
       "      <td>46.78</td>\n",
       "      <td>45.28</td>\n",
       "      <td>46.78</td>\n",
       "      <td>5891000</td>\n",
       "    </tr>\n",
       "  </tbody>\n",
       "</table>\n",
       "</div>"
      ],
      "text/plain": [
       "       Masked_Ticker  Day_Num  Adj Close  Close   High    Low   Open    Volume\n",
       "267396      ABROYYXB        1      3.245  49.50  50.75  47.78  48.45  11210300\n",
       "267397      ABROYYXB        2      3.199  48.80  49.76  48.60  49.76   6797600\n",
       "267398      ABROYYXB        3      3.133  47.80  48.79  47.74  48.50   5175300\n",
       "267399      ABROYYXB        4      3.067  46.78  47.20  46.11  47.00   7583200\n",
       "267400      ABROYYXB        5      2.996  45.71  46.78  45.28  46.78   5891000"
      ]
     },
     "execution_count": 102,
     "metadata": {},
     "output_type": "execute_result"
    }
   ],
   "source": [
    "final_data[all_cols].head()"
   ]
  },
  {
   "cell_type": "code",
   "execution_count": null,
   "metadata": {},
   "outputs": [],
   "source": []
  }
 ],
 "metadata": {
  "kernelspec": {
   "display_name": "Python 3 (ipykernel)",
   "language": "python",
   "name": "python3"
  },
  "language_info": {
   "codemirror_mode": {
    "name": "ipython",
    "version": 3
   },
   "file_extension": ".py",
   "mimetype": "text/x-python",
   "name": "python",
   "nbconvert_exporter": "python",
   "pygments_lexer": "ipython3",
   "version": "3.11.5"
  }
 },
 "nbformat": 4,
 "nbformat_minor": 2
}
