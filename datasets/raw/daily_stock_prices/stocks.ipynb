{
 "cells": [
  {
   "cell_type": "markdown",
   "metadata": {},
   "source": [
    "## Imports"
   ]
  },
  {
   "cell_type": "code",
   "execution_count": 21,
   "metadata": {},
   "outputs": [],
   "source": [
    "import yfinance as yf\n",
    "import pandas as pd"
   ]
  },
  {
   "cell_type": "markdown",
   "metadata": {},
   "source": [
    "## Read selected stocks"
   ]
  },
  {
   "cell_type": "code",
   "execution_count": 22,
   "metadata": {},
   "outputs": [
    {
     "data": {
      "text/html": [
       "<div>\n",
       "<style scoped>\n",
       "    .dataframe tbody tr th:only-of-type {\n",
       "        vertical-align: middle;\n",
       "    }\n",
       "\n",
       "    .dataframe tbody tr th {\n",
       "        vertical-align: top;\n",
       "    }\n",
       "\n",
       "    .dataframe thead th {\n",
       "        text-align: right;\n",
       "    }\n",
       "</style>\n",
       "<table border=\"1\" class=\"dataframe\">\n",
       "  <thead>\n",
       "    <tr style=\"text-align: right;\">\n",
       "      <th></th>\n",
       "      <th>Company</th>\n",
       "      <th>Stock</th>\n",
       "    </tr>\n",
       "  </thead>\n",
       "  <tbody>\n",
       "    <tr>\n",
       "      <th>0</th>\n",
       "      <td>Brunswick</td>\n",
       "      <td>BC</td>\n",
       "    </tr>\n",
       "    <tr>\n",
       "      <th>1</th>\n",
       "      <td>NCH</td>\n",
       "      <td>THB</td>\n",
       "    </tr>\n",
       "    <tr>\n",
       "      <th>2</th>\n",
       "      <td>Revlon</td>\n",
       "      <td>REV</td>\n",
       "    </tr>\n",
       "    <tr>\n",
       "      <th>3</th>\n",
       "      <td>Control Data</td>\n",
       "      <td>CDC</td>\n",
       "    </tr>\n",
       "    <tr>\n",
       "      <th>4</th>\n",
       "      <td>Colgate-Palmolive</td>\n",
       "      <td>CL</td>\n",
       "    </tr>\n",
       "  </tbody>\n",
       "</table>\n",
       "</div>"
      ],
      "text/plain": [
       "             Company Stock\n",
       "0          Brunswick    BC\n",
       "1                NCH   THB\n",
       "2             Revlon   REV\n",
       "3       Control Data   CDC\n",
       "4  Colgate-Palmolive    CL"
      ]
     },
     "execution_count": 22,
     "metadata": {},
     "output_type": "execute_result"
    }
   ],
   "source": [
    "stocks = pd.read_csv('./selected stocks.csv')\n",
    "stocks.head()"
   ]
  },
  {
   "cell_type": "code",
   "execution_count": 23,
   "metadata": {},
   "outputs": [],
   "source": [
    "tickers = stocks['Stock'].tolist()"
   ]
  },
  {
   "cell_type": "markdown",
   "metadata": {},
   "source": [
    "## Download data"
   ]
  },
  {
   "cell_type": "code",
   "execution_count": 24,
   "metadata": {},
   "outputs": [
    {
     "name": "stdout",
     "output_type": "stream",
     "text": [
      "[*********************100%%**********************]  81 of 81 completed"
     ]
    },
    {
     "name": "stderr",
     "output_type": "stream",
     "text": [
      "\n",
      "10 Failed downloads:\n",
      "['NAV', 'DFODQ', 'BGG', 'REV']: Exception('%ticker%: No timezone found, symbol may be delisted')\n",
      "['JOY', 'GMIL', 'GKIS', 'TSO', 'FCS', 'BS']: Exception('%ticker%: No price data found, symbol may be delisted (1d 1990-01-01 -> 2023-10-26)')\n"
     ]
    },
    {
     "name": "stdout",
     "output_type": "stream",
     "text": [
      "\n"
     ]
    }
   ],
   "source": [
    "data = yf.download(tickers, interval=\"1d\", start=\"1990-01-01\")"
   ]
  },
  {
   "cell_type": "markdown",
   "metadata": {},
   "source": [
    "## Drop missing data"
   ]
  },
  {
   "cell_type": "code",
   "execution_count": 25,
   "metadata": {},
   "outputs": [],
   "source": [
    "data = data.dropna(axis=1)"
   ]
  },
  {
   "cell_type": "markdown",
   "metadata": {},
   "source": [
    "## Round floating point numbers"
   ]
  },
  {
   "cell_type": "code",
   "execution_count": 26,
   "metadata": {},
   "outputs": [
    {
     "name": "stderr",
     "output_type": "stream",
     "text": [
      "/var/folders/9w/n2qss88d6gvcbnpm21nhr75w0000gp/T/ipykernel_24332/3882795063.py:1: FutureWarning: DataFrame.applymap has been deprecated. Use DataFrame.map instead.\n",
      "  df_rounded = data.applymap(lambda x: round(x, 3) if isinstance(x, float) else x)\n"
     ]
    }
   ],
   "source": [
    "df_rounded = data.applymap(lambda x: round(x, 3) if isinstance(x, float) else x)"
   ]
  },
  {
   "cell_type": "markdown",
   "metadata": {},
   "source": [
    "## Reshape the data"
   ]
  },
  {
   "cell_type": "code",
   "execution_count": 27,
   "metadata": {},
   "outputs": [],
   "source": [
    "frames = []\n",
    "for c in df_rounded.columns.get_level_values(0).unique():\n",
    "    d = df_rounded[c].reset_index()\n",
    "    d = d.melt(id_vars=['Date'], var_name='stock_ticker', value_name=c)\n",
    "    frames.append(d)"
   ]
  },
  {
   "cell_type": "code",
   "execution_count": 28,
   "metadata": {},
   "outputs": [
    {
     "name": "stdout",
     "output_type": "stream",
     "text": [
      "Index(['Date', 'stock_ticker', 'Close'], dtype='object')\n",
      "Index(['Date', 'stock_ticker', 'High'], dtype='object')\n",
      "Index(['Date', 'stock_ticker', 'Low'], dtype='object')\n",
      "Index(['Date', 'stock_ticker', 'Open'], dtype='object')\n",
      "Index(['Date', 'stock_ticker', 'Volume'], dtype='object')\n"
     ]
    }
   ],
   "source": [
    "base = frames[0]\n",
    "\n",
    "for f in frames[1:]:\n",
    "    print(f.columns)\n",
    "    base = base.merge(f, on=['Date', 'stock_ticker'], how='inner')"
   ]
  },
  {
   "cell_type": "code",
   "execution_count": 29,
   "metadata": {},
   "outputs": [
    {
     "data": {
      "text/plain": [
       "['AAPL',\n",
       " 'ADM',\n",
       " 'AME',\n",
       " 'AOS',\n",
       " 'AVY',\n",
       " 'BA',\n",
       " 'BC',\n",
       " 'BDX',\n",
       " 'BKR',\n",
       " 'CAG',\n",
       " 'CAT',\n",
       " 'CCK',\n",
       " 'CL',\n",
       " 'CMI',\n",
       " 'COP',\n",
       " 'CVX',\n",
       " 'DD',\n",
       " 'DOV',\n",
       " 'F',\n",
       " 'GD',\n",
       " 'GE',\n",
       " 'GLW',\n",
       " 'HON',\n",
       " 'HPQ',\n",
       " 'IBM',\n",
       " 'IP',\n",
       " 'KO',\n",
       " 'MAT',\n",
       " 'MDT',\n",
       " 'MMM',\n",
       " 'MO',\n",
       " 'MRK',\n",
       " 'MSFT',\n",
       " 'NC',\n",
       " 'NEM',\n",
       " 'NUE',\n",
       " 'NWL',\n",
       " 'OXY',\n",
       " 'PEP',\n",
       " 'PG',\n",
       " 'PPG',\n",
       " 'ROK',\n",
       " 'SPXC',\n",
       " 'SR',\n",
       " 'TTC',\n",
       " 'TXN',\n",
       " 'VFC',\n",
       " 'VMC',\n",
       " 'VMI',\n",
       " 'WDC',\n",
       " 'XOM']"
      ]
     },
     "execution_count": 29,
     "metadata": {},
     "output_type": "execute_result"
    }
   ],
   "source": [
    "tickers = base['stock_ticker'].unique().tolist()\n",
    "tickers"
   ]
  },
  {
   "cell_type": "markdown",
   "metadata": {},
   "source": [
    "## Pick random date for each ticker"
   ]
  },
  {
   "cell_type": "code",
   "execution_count": 30,
   "metadata": {},
   "outputs": [
    {
     "data": {
      "text/plain": [
       "860    1993-05-26\n",
       "5390   2011-05-19\n",
       "5226   2010-09-24\n",
       "5191   2010-08-05\n",
       "3772   2004-12-15\n",
       "3092   2002-04-05\n",
       "5734   2012-09-28\n",
       "6265   2014-11-10\n",
       "466    1991-11-04\n",
       "5334   2011-03-01\n",
       "4426   2007-07-24\n",
       "5578   2012-02-16\n",
       "6231   2014-09-23\n",
       "3444   2003-08-27\n",
       "3171   2002-07-29\n",
       "2919   2001-07-23\n",
       "130    1990-07-09\n",
       "1685   1996-08-29\n",
       "769    1993-01-15\n",
       "2391   1999-06-18\n",
       "5611   2012-04-04\n",
       "2433   1999-08-18\n",
       "5311   2011-01-26\n",
       "5051   2010-01-14\n",
       "6420   2015-06-24\n",
       "1184   1994-09-07\n",
       "4555   2008-01-28\n",
       "3385   2003-06-04\n",
       "4117   2006-05-01\n",
       "6396   2015-05-20\n",
       "4843   2009-03-19\n",
       "2904   2001-06-29\n",
       "474    1991-11-14\n",
       "1082   1994-04-12\n",
       "2558   2000-02-15\n",
       "2047   1998-02-05\n",
       "2747   2000-11-13\n",
       "975    1993-11-08\n",
       "1806   1997-02-21\n",
       "189    1990-10-01\n",
       "2734   2000-10-25\n",
       "3005   2001-11-28\n",
       "4658   2008-06-24\n",
       "1899   1997-07-07\n",
       "1267   1995-01-05\n",
       "1528   1996-01-17\n",
       "3202   2002-09-11\n",
       "3556   2004-02-06\n",
       "3890   2005-06-06\n",
       "646    1992-07-22\n",
       "6164   2014-06-18\n",
       "dtype: datetime64[ns]"
      ]
     },
     "execution_count": 30,
     "metadata": {},
     "output_type": "execute_result"
    }
   ],
   "source": [
    "mask = (base['Date'] >= '1990-01-01') & (base['Date'] <= '2016-01-01')\n",
    "unique_valid_dates = base[mask]['Date'].unique()\n",
    "random_dates = pd.Series(unique_valid_dates).sample(len(tickers), replace=True, random_state=42)\n",
    "random_dates"
   ]
  },
  {
   "cell_type": "markdown",
   "metadata": {},
   "source": [
    "### Get 4 years of daily data for each ticker starting from it's corresponding random date "
   ]
  },
  {
   "cell_type": "code",
   "execution_count": 31,
   "metadata": {},
   "outputs": [],
   "source": [
    "stock_df = []\n",
    "for t, d in zip(tickers, random_dates):\n",
    "    subset = base[base['stock_ticker'] == t]\n",
    "    subset = subset[subset['Date'] >= d]\n",
    "    subset = subset.iloc[:4*365]\n",
    "    stock_df.append(subset)"
   ]
  },
  {
   "cell_type": "code",
   "execution_count": 32,
   "metadata": {},
   "outputs": [
    {
     "data": {
      "text/html": [
       "<div>\n",
       "<style scoped>\n",
       "    .dataframe tbody tr th:only-of-type {\n",
       "        vertical-align: middle;\n",
       "    }\n",
       "\n",
       "    .dataframe tbody tr th {\n",
       "        vertical-align: top;\n",
       "    }\n",
       "\n",
       "    .dataframe thead th {\n",
       "        text-align: right;\n",
       "    }\n",
       "</style>\n",
       "<table border=\"1\" class=\"dataframe\">\n",
       "  <thead>\n",
       "    <tr style=\"text-align: right;\">\n",
       "      <th></th>\n",
       "      <th>Date</th>\n",
       "      <th>stock_ticker</th>\n",
       "      <th>Adj Close</th>\n",
       "      <th>Close</th>\n",
       "      <th>High</th>\n",
       "      <th>Low</th>\n",
       "      <th>Open</th>\n",
       "      <th>Volume</th>\n",
       "    </tr>\n",
       "  </thead>\n",
       "  <tbody>\n",
       "    <tr>\n",
       "      <th>860</th>\n",
       "      <td>1993-05-26</td>\n",
       "      <td>AAPL</td>\n",
       "      <td>0.422</td>\n",
       "      <td>0.516</td>\n",
       "      <td>0.516</td>\n",
       "      <td>0.494</td>\n",
       "      <td>0.500</td>\n",
       "      <td>121564800</td>\n",
       "    </tr>\n",
       "    <tr>\n",
       "      <th>861</th>\n",
       "      <td>1993-05-27</td>\n",
       "      <td>AAPL</td>\n",
       "      <td>0.421</td>\n",
       "      <td>0.513</td>\n",
       "      <td>0.522</td>\n",
       "      <td>0.511</td>\n",
       "      <td>0.516</td>\n",
       "      <td>197288000</td>\n",
       "    </tr>\n",
       "    <tr>\n",
       "      <th>862</th>\n",
       "      <td>1993-05-28</td>\n",
       "      <td>AAPL</td>\n",
       "      <td>0.415</td>\n",
       "      <td>0.506</td>\n",
       "      <td>0.513</td>\n",
       "      <td>0.502</td>\n",
       "      <td>0.509</td>\n",
       "      <td>183948800</td>\n",
       "    </tr>\n",
       "    <tr>\n",
       "      <th>863</th>\n",
       "      <td>1993-06-01</td>\n",
       "      <td>AAPL</td>\n",
       "      <td>0.418</td>\n",
       "      <td>0.509</td>\n",
       "      <td>0.516</td>\n",
       "      <td>0.504</td>\n",
       "      <td>0.504</td>\n",
       "      <td>135072000</td>\n",
       "    </tr>\n",
       "    <tr>\n",
       "      <th>864</th>\n",
       "      <td>1993-06-02</td>\n",
       "      <td>AAPL</td>\n",
       "      <td>0.418</td>\n",
       "      <td>0.509</td>\n",
       "      <td>0.520</td>\n",
       "      <td>0.500</td>\n",
       "      <td>0.507</td>\n",
       "      <td>200480000</td>\n",
       "    </tr>\n",
       "    <tr>\n",
       "      <th>...</th>\n",
       "      <td>...</td>\n",
       "      <td>...</td>\n",
       "      <td>...</td>\n",
       "      <td>...</td>\n",
       "      <td>...</td>\n",
       "      <td>...</td>\n",
       "      <td>...</td>\n",
       "      <td>...</td>\n",
       "    </tr>\n",
       "    <tr>\n",
       "      <th>433669</th>\n",
       "      <td>2020-03-30</td>\n",
       "      <td>XOM</td>\n",
       "      <td>31.147</td>\n",
       "      <td>37.500</td>\n",
       "      <td>38.150</td>\n",
       "      <td>35.860</td>\n",
       "      <td>36.230</td>\n",
       "      <td>45835000</td>\n",
       "    </tr>\n",
       "    <tr>\n",
       "      <th>433670</th>\n",
       "      <td>2020-03-31</td>\n",
       "      <td>XOM</td>\n",
       "      <td>31.537</td>\n",
       "      <td>37.970</td>\n",
       "      <td>39.450</td>\n",
       "      <td>37.370</td>\n",
       "      <td>38.340</td>\n",
       "      <td>41491600</td>\n",
       "    </tr>\n",
       "    <tr>\n",
       "      <th>433671</th>\n",
       "      <td>2020-04-01</td>\n",
       "      <td>XOM</td>\n",
       "      <td>31.172</td>\n",
       "      <td>37.530</td>\n",
       "      <td>38.700</td>\n",
       "      <td>36.340</td>\n",
       "      <td>36.860</td>\n",
       "      <td>36045900</td>\n",
       "    </tr>\n",
       "    <tr>\n",
       "      <th>433672</th>\n",
       "      <td>2020-04-02</td>\n",
       "      <td>XOM</td>\n",
       "      <td>33.556</td>\n",
       "      <td>40.400</td>\n",
       "      <td>41.960</td>\n",
       "      <td>37.900</td>\n",
       "      <td>38.740</td>\n",
       "      <td>62000200</td>\n",
       "    </tr>\n",
       "    <tr>\n",
       "      <th>433673</th>\n",
       "      <td>2020-04-03</td>\n",
       "      <td>XOM</td>\n",
       "      <td>32.567</td>\n",
       "      <td>39.210</td>\n",
       "      <td>42.180</td>\n",
       "      <td>38.520</td>\n",
       "      <td>41.450</td>\n",
       "      <td>48425700</td>\n",
       "    </tr>\n",
       "  </tbody>\n",
       "</table>\n",
       "<p>74460 rows × 8 columns</p>\n",
       "</div>"
      ],
      "text/plain": [
       "             Date stock_ticker  Adj Close   Close    High     Low    Open  \\\n",
       "860    1993-05-26         AAPL      0.422   0.516   0.516   0.494   0.500   \n",
       "861    1993-05-27         AAPL      0.421   0.513   0.522   0.511   0.516   \n",
       "862    1993-05-28         AAPL      0.415   0.506   0.513   0.502   0.509   \n",
       "863    1993-06-01         AAPL      0.418   0.509   0.516   0.504   0.504   \n",
       "864    1993-06-02         AAPL      0.418   0.509   0.520   0.500   0.507   \n",
       "...           ...          ...        ...     ...     ...     ...     ...   \n",
       "433669 2020-03-30          XOM     31.147  37.500  38.150  35.860  36.230   \n",
       "433670 2020-03-31          XOM     31.537  37.970  39.450  37.370  38.340   \n",
       "433671 2020-04-01          XOM     31.172  37.530  38.700  36.340  36.860   \n",
       "433672 2020-04-02          XOM     33.556  40.400  41.960  37.900  38.740   \n",
       "433673 2020-04-03          XOM     32.567  39.210  42.180  38.520  41.450   \n",
       "\n",
       "           Volume  \n",
       "860     121564800  \n",
       "861     197288000  \n",
       "862     183948800  \n",
       "863     135072000  \n",
       "864     200480000  \n",
       "...           ...  \n",
       "433669   45835000  \n",
       "433670   41491600  \n",
       "433671   36045900  \n",
       "433672   62000200  \n",
       "433673   48425700  \n",
       "\n",
       "[74460 rows x 8 columns]"
      ]
     },
     "execution_count": 32,
     "metadata": {},
     "output_type": "execute_result"
    }
   ],
   "source": [
    "all_ = pd.concat(stock_df)\n",
    "all_"
   ]
  },
  {
   "cell_type": "code",
   "execution_count": 33,
   "metadata": {},
   "outputs": [],
   "source": [
    "all_.to_csv('./daily_stock_prices.csv', index=False)"
   ]
  },
  {
   "cell_type": "markdown",
   "metadata": {},
   "source": [
    "## Replace date column with epoch"
   ]
  },
  {
   "cell_type": "code",
   "execution_count": 34,
   "metadata": {},
   "outputs": [
    {
     "data": {
      "text/html": [
       "<div>\n",
       "<style scoped>\n",
       "    .dataframe tbody tr th:only-of-type {\n",
       "        vertical-align: middle;\n",
       "    }\n",
       "\n",
       "    .dataframe tbody tr th {\n",
       "        vertical-align: top;\n",
       "    }\n",
       "\n",
       "    .dataframe thead th {\n",
       "        text-align: right;\n",
       "    }\n",
       "</style>\n",
       "<table border=\"1\" class=\"dataframe\">\n",
       "  <thead>\n",
       "    <tr style=\"text-align: right;\">\n",
       "      <th></th>\n",
       "      <th>Date</th>\n",
       "      <th>stock_ticker</th>\n",
       "      <th>Adj Close</th>\n",
       "      <th>Close</th>\n",
       "      <th>High</th>\n",
       "      <th>Low</th>\n",
       "      <th>Open</th>\n",
       "      <th>Volume</th>\n",
       "      <th>epoch</th>\n",
       "    </tr>\n",
       "  </thead>\n",
       "  <tbody>\n",
       "    <tr>\n",
       "      <th>860</th>\n",
       "      <td>1993-05-26</td>\n",
       "      <td>AAPL</td>\n",
       "      <td>0.422</td>\n",
       "      <td>0.516</td>\n",
       "      <td>0.516</td>\n",
       "      <td>0.494</td>\n",
       "      <td>0.500</td>\n",
       "      <td>121564800</td>\n",
       "      <td>0</td>\n",
       "    </tr>\n",
       "    <tr>\n",
       "      <th>861</th>\n",
       "      <td>1993-05-27</td>\n",
       "      <td>AAPL</td>\n",
       "      <td>0.421</td>\n",
       "      <td>0.513</td>\n",
       "      <td>0.522</td>\n",
       "      <td>0.511</td>\n",
       "      <td>0.516</td>\n",
       "      <td>197288000</td>\n",
       "      <td>0</td>\n",
       "    </tr>\n",
       "    <tr>\n",
       "      <th>862</th>\n",
       "      <td>1993-05-28</td>\n",
       "      <td>AAPL</td>\n",
       "      <td>0.415</td>\n",
       "      <td>0.506</td>\n",
       "      <td>0.513</td>\n",
       "      <td>0.502</td>\n",
       "      <td>0.509</td>\n",
       "      <td>183948800</td>\n",
       "      <td>0</td>\n",
       "    </tr>\n",
       "    <tr>\n",
       "      <th>863</th>\n",
       "      <td>1993-06-01</td>\n",
       "      <td>AAPL</td>\n",
       "      <td>0.418</td>\n",
       "      <td>0.509</td>\n",
       "      <td>0.516</td>\n",
       "      <td>0.504</td>\n",
       "      <td>0.504</td>\n",
       "      <td>135072000</td>\n",
       "      <td>0</td>\n",
       "    </tr>\n",
       "    <tr>\n",
       "      <th>864</th>\n",
       "      <td>1993-06-02</td>\n",
       "      <td>AAPL</td>\n",
       "      <td>0.418</td>\n",
       "      <td>0.509</td>\n",
       "      <td>0.520</td>\n",
       "      <td>0.500</td>\n",
       "      <td>0.507</td>\n",
       "      <td>200480000</td>\n",
       "      <td>0</td>\n",
       "    </tr>\n",
       "  </tbody>\n",
       "</table>\n",
       "</div>"
      ],
      "text/plain": [
       "          Date stock_ticker  Adj Close  Close   High    Low   Open     Volume  \\\n",
       "860 1993-05-26         AAPL      0.422  0.516  0.516  0.494  0.500  121564800   \n",
       "861 1993-05-27         AAPL      0.421  0.513  0.522  0.511  0.516  197288000   \n",
       "862 1993-05-28         AAPL      0.415  0.506  0.513  0.502  0.509  183948800   \n",
       "863 1993-06-01         AAPL      0.418  0.509  0.516  0.504  0.504  135072000   \n",
       "864 1993-06-02         AAPL      0.418  0.509  0.520  0.500  0.507  200480000   \n",
       "\n",
       "     epoch  \n",
       "860      0  \n",
       "861      0  \n",
       "862      0  \n",
       "863      0  \n",
       "864      0  "
      ]
     },
     "execution_count": 34,
     "metadata": {},
     "output_type": "execute_result"
    }
   ],
   "source": [
    "all_['epoch'] = 0\n",
    "all_.head()"
   ]
  },
  {
   "cell_type": "code",
   "execution_count": 35,
   "metadata": {},
   "outputs": [],
   "source": [
    "epochs = []\n",
    "lengths = []\n",
    "for t in all_['stock_ticker'].unique():\n",
    "    length = all_[all_['stock_ticker'] == t].shape[0]\n",
    "    epochs += list(range(1, length+1))\n",
    "    lengths.append(length)\n",
    "all_['epoch'] = epochs"
   ]
  },
  {
   "cell_type": "code",
   "execution_count": 36,
   "metadata": {},
   "outputs": [
    {
     "data": {
      "text/html": [
       "<div>\n",
       "<style scoped>\n",
       "    .dataframe tbody tr th:only-of-type {\n",
       "        vertical-align: middle;\n",
       "    }\n",
       "\n",
       "    .dataframe tbody tr th {\n",
       "        vertical-align: top;\n",
       "    }\n",
       "\n",
       "    .dataframe thead th {\n",
       "        text-align: right;\n",
       "    }\n",
       "</style>\n",
       "<table border=\"1\" class=\"dataframe\">\n",
       "  <thead>\n",
       "    <tr style=\"text-align: right;\">\n",
       "      <th></th>\n",
       "      <th>Date</th>\n",
       "      <th>stock_ticker</th>\n",
       "      <th>Adj Close</th>\n",
       "      <th>Close</th>\n",
       "      <th>High</th>\n",
       "      <th>Low</th>\n",
       "      <th>Open</th>\n",
       "      <th>Volume</th>\n",
       "      <th>epoch</th>\n",
       "    </tr>\n",
       "  </thead>\n",
       "  <tbody>\n",
       "    <tr>\n",
       "      <th>860</th>\n",
       "      <td>1993-05-26</td>\n",
       "      <td>AAPL</td>\n",
       "      <td>0.422</td>\n",
       "      <td>0.516</td>\n",
       "      <td>0.516</td>\n",
       "      <td>0.494</td>\n",
       "      <td>0.500</td>\n",
       "      <td>121564800</td>\n",
       "      <td>1</td>\n",
       "    </tr>\n",
       "    <tr>\n",
       "      <th>861</th>\n",
       "      <td>1993-05-27</td>\n",
       "      <td>AAPL</td>\n",
       "      <td>0.421</td>\n",
       "      <td>0.513</td>\n",
       "      <td>0.522</td>\n",
       "      <td>0.511</td>\n",
       "      <td>0.516</td>\n",
       "      <td>197288000</td>\n",
       "      <td>2</td>\n",
       "    </tr>\n",
       "    <tr>\n",
       "      <th>862</th>\n",
       "      <td>1993-05-28</td>\n",
       "      <td>AAPL</td>\n",
       "      <td>0.415</td>\n",
       "      <td>0.506</td>\n",
       "      <td>0.513</td>\n",
       "      <td>0.502</td>\n",
       "      <td>0.509</td>\n",
       "      <td>183948800</td>\n",
       "      <td>3</td>\n",
       "    </tr>\n",
       "    <tr>\n",
       "      <th>863</th>\n",
       "      <td>1993-06-01</td>\n",
       "      <td>AAPL</td>\n",
       "      <td>0.418</td>\n",
       "      <td>0.509</td>\n",
       "      <td>0.516</td>\n",
       "      <td>0.504</td>\n",
       "      <td>0.504</td>\n",
       "      <td>135072000</td>\n",
       "      <td>4</td>\n",
       "    </tr>\n",
       "    <tr>\n",
       "      <th>864</th>\n",
       "      <td>1993-06-02</td>\n",
       "      <td>AAPL</td>\n",
       "      <td>0.418</td>\n",
       "      <td>0.509</td>\n",
       "      <td>0.520</td>\n",
       "      <td>0.500</td>\n",
       "      <td>0.507</td>\n",
       "      <td>200480000</td>\n",
       "      <td>5</td>\n",
       "    </tr>\n",
       "    <tr>\n",
       "      <th>...</th>\n",
       "      <td>...</td>\n",
       "      <td>...</td>\n",
       "      <td>...</td>\n",
       "      <td>...</td>\n",
       "      <td>...</td>\n",
       "      <td>...</td>\n",
       "      <td>...</td>\n",
       "      <td>...</td>\n",
       "      <td>...</td>\n",
       "    </tr>\n",
       "    <tr>\n",
       "      <th>433669</th>\n",
       "      <td>2020-03-30</td>\n",
       "      <td>XOM</td>\n",
       "      <td>31.147</td>\n",
       "      <td>37.500</td>\n",
       "      <td>38.150</td>\n",
       "      <td>35.860</td>\n",
       "      <td>36.230</td>\n",
       "      <td>45835000</td>\n",
       "      <td>1456</td>\n",
       "    </tr>\n",
       "    <tr>\n",
       "      <th>433670</th>\n",
       "      <td>2020-03-31</td>\n",
       "      <td>XOM</td>\n",
       "      <td>31.537</td>\n",
       "      <td>37.970</td>\n",
       "      <td>39.450</td>\n",
       "      <td>37.370</td>\n",
       "      <td>38.340</td>\n",
       "      <td>41491600</td>\n",
       "      <td>1457</td>\n",
       "    </tr>\n",
       "    <tr>\n",
       "      <th>433671</th>\n",
       "      <td>2020-04-01</td>\n",
       "      <td>XOM</td>\n",
       "      <td>31.172</td>\n",
       "      <td>37.530</td>\n",
       "      <td>38.700</td>\n",
       "      <td>36.340</td>\n",
       "      <td>36.860</td>\n",
       "      <td>36045900</td>\n",
       "      <td>1458</td>\n",
       "    </tr>\n",
       "    <tr>\n",
       "      <th>433672</th>\n",
       "      <td>2020-04-02</td>\n",
       "      <td>XOM</td>\n",
       "      <td>33.556</td>\n",
       "      <td>40.400</td>\n",
       "      <td>41.960</td>\n",
       "      <td>37.900</td>\n",
       "      <td>38.740</td>\n",
       "      <td>62000200</td>\n",
       "      <td>1459</td>\n",
       "    </tr>\n",
       "    <tr>\n",
       "      <th>433673</th>\n",
       "      <td>2020-04-03</td>\n",
       "      <td>XOM</td>\n",
       "      <td>32.567</td>\n",
       "      <td>39.210</td>\n",
       "      <td>42.180</td>\n",
       "      <td>38.520</td>\n",
       "      <td>41.450</td>\n",
       "      <td>48425700</td>\n",
       "      <td>1460</td>\n",
       "    </tr>\n",
       "  </tbody>\n",
       "</table>\n",
       "<p>74460 rows × 9 columns</p>\n",
       "</div>"
      ],
      "text/plain": [
       "             Date stock_ticker  Adj Close   Close    High     Low    Open  \\\n",
       "860    1993-05-26         AAPL      0.422   0.516   0.516   0.494   0.500   \n",
       "861    1993-05-27         AAPL      0.421   0.513   0.522   0.511   0.516   \n",
       "862    1993-05-28         AAPL      0.415   0.506   0.513   0.502   0.509   \n",
       "863    1993-06-01         AAPL      0.418   0.509   0.516   0.504   0.504   \n",
       "864    1993-06-02         AAPL      0.418   0.509   0.520   0.500   0.507   \n",
       "...           ...          ...        ...     ...     ...     ...     ...   \n",
       "433669 2020-03-30          XOM     31.147  37.500  38.150  35.860  36.230   \n",
       "433670 2020-03-31          XOM     31.537  37.970  39.450  37.370  38.340   \n",
       "433671 2020-04-01          XOM     31.172  37.530  38.700  36.340  36.860   \n",
       "433672 2020-04-02          XOM     33.556  40.400  41.960  37.900  38.740   \n",
       "433673 2020-04-03          XOM     32.567  39.210  42.180  38.520  41.450   \n",
       "\n",
       "           Volume  epoch  \n",
       "860     121564800      1  \n",
       "861     197288000      2  \n",
       "862     183948800      3  \n",
       "863     135072000      4  \n",
       "864     200480000      5  \n",
       "...           ...    ...  \n",
       "433669   45835000   1456  \n",
       "433670   41491600   1457  \n",
       "433671   36045900   1458  \n",
       "433672   62000200   1459  \n",
       "433673   48425700   1460  \n",
       "\n",
       "[74460 rows x 9 columns]"
      ]
     },
     "execution_count": 36,
     "metadata": {},
     "output_type": "execute_result"
    }
   ],
   "source": [
    "all_"
   ]
  },
  {
   "cell_type": "markdown",
   "metadata": {},
   "source": [
    "## Making sure all stocks have the same number of rows"
   ]
  },
  {
   "cell_type": "code",
   "execution_count": 37,
   "metadata": {},
   "outputs": [
    {
     "data": {
      "text/plain": [
       "array([1460])"
      ]
     },
     "execution_count": 37,
     "metadata": {},
     "output_type": "execute_result"
    }
   ],
   "source": [
    "pd.Series(lengths).unique()"
   ]
  },
  {
   "cell_type": "code",
   "execution_count": 38,
   "metadata": {},
   "outputs": [
    {
     "data": {
      "text/plain": [
       "1"
      ]
     },
     "execution_count": 38,
     "metadata": {},
     "output_type": "execute_result"
    }
   ],
   "source": [
    "all_['stock_ticker'].value_counts().nunique()"
   ]
  },
  {
   "cell_type": "markdown",
   "metadata": {},
   "source": [
    "## Saving processed data"
   ]
  },
  {
   "cell_type": "code",
   "execution_count": 39,
   "metadata": {},
   "outputs": [],
   "source": [
    "all_.set_index('epoch').drop(columns='Date').to_csv('../../processed/daily_stock_prices/daily_stock_prices.csv')"
   ]
  },
  {
   "cell_type": "code",
   "execution_count": null,
   "metadata": {},
   "outputs": [],
   "source": []
  }
 ],
 "metadata": {
  "kernelspec": {
   "display_name": "venv",
   "language": "python",
   "name": "python3"
  },
  "language_info": {
   "codemirror_mode": {
    "name": "ipython",
    "version": 3
   },
   "file_extension": ".py",
   "mimetype": "text/x-python",
   "name": "python",
   "nbconvert_exporter": "python",
   "pygments_lexer": "ipython3",
   "version": "3.10.8"
  }
 },
 "nbformat": 4,
 "nbformat_minor": 2
}
