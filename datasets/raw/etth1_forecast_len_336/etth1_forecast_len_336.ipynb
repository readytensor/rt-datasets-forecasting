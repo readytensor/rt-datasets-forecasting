{
 "cells": [
  {
   "cell_type": "markdown",
   "id": "2c5b1c4d",
   "metadata": {},
   "source": [
    "# ETT (Electricity Transformer Temperature) Dataset - ETTh1\n",
    "\n",
    "## Overview\n",
    "\n",
    "The Electricity Transformer Temperature (ETT) dataset is designed for time series forecasting tasks, specifically focusing on the prediction of electricity transformer temperatures. This dataset is widely used in the research and development of forecasting models, particularly for applications in energy management and smart grid systems.\n",
    "\n",
    "## ETTh1 Subset\n",
    "\n",
    "The `ETTh1` subset of the ETT dataset contains hourly data collected from the first transformer. This subset is particularly useful for studying the temperature variations and trends on an hourly basis, enabling the development of models that can predict short-term temperature changes.\n",
    "\n",
    "## Features\n",
    "\n",
    "The dataset consists of several features, each representing a different aspect of the transformer's operational parameters and environmental conditions. The main features are:\n",
    "\n",
    "- **date**: The timestamp of the recorded data.\n",
    "- **HUFL**: High Useful Load Forecast, representing the forecasted load at a high level.\n",
    "- **HULL**: High Useful Load Low, representing the forecasted load at a low level.\n",
    "- **MUFL**: Medium Useful Load Forecast, representing the forecasted load at a medium level.\n",
    "- **MULL**: Medium Useful Load Low, representing the forecasted load at a low level.\n",
    "- **LUFL**: Low Useful Load Forecast, representing the forecasted load at a low level.\n",
    "- **LULL**: Low Useful Load Low, representing the forecasted load at a low level.\n",
    "- **OT**: Oil Temperature, representing the temperature of the transformer's oil, which is the target variable for forecasting.\n",
    "\n",
    "> Forecast length : 336\n",
    "\n",
    "\n",
    "## Data Format\n",
    "\n",
    "The dataset is stored in a CSV file format with each row corresponding to a single hour of data. The columns in the file represent the different features described above. Here is a sample of the data format:\n",
    "\n",
    "| date                | HUFL | HULL | MUFL | MULL | LUFL | LULL | OT   |\n",
    "|---------------------|------|------|------|------|------|------|------|\n",
    "| 2016-07-01 00:00:00 | 21.0 | 20.5 | 19.8 | 19.3 | 18.7 | 18.2 | 29.0 |\n",
    "| 2016-07-01 01:00:00 | 20.8 | 20.3 | 19.6 | 19.1 | 18.5 | 18.0 | 28.8 |\n",
    "| ...                 | ...  | ...  | ...  | ...  | ...  | ...  | ...  |\n",
    "\n",
    "## Usage\n",
    "\n",
    "The `ETTh1` subset is ideal for developing and testing time series forecasting models. Researchers and practitioners can use this dataset to:\n",
    "\n",
    "- Develop predictive models for transformer temperature forecasting.\n",
    "- Study the impact of load variations on transformer temperature.\n",
    "- Test the performance of different time series forecasting algorithms.\n",
    "\n",
    "## References\n",
    "\n",
    "For more details on the dataset, you can refer to the official documentation and publications related to the ETT dataset. The dataset is publicly available and can be accessed from the following sources:\n",
    "\n",
    "- [Official Repository](https://github.com/zhouhaoyi/ETDataset)\n",
    "- [Research Paper](https://arxiv.org/abs/2012.07436)\n"
   ]
  },
  {
   "cell_type": "code",
   "execution_count": 1,
   "id": "c907d6cd",
   "metadata": {},
   "outputs": [],
   "source": [
    "import numpy as np\n",
    "import pandas as pd\n",
    "import os\n",
    "import matplotlib.pyplot as plt\n",
    "from pathlib import Path\n",
    "%matplotlib inline"
   ]
  },
  {
   "cell_type": "code",
   "execution_count": 2,
   "id": "ba1611c0",
   "metadata": {},
   "outputs": [
    {
     "name": "stdout",
     "output_type": "stream",
     "text": [
      "Requirement already satisfied: gluonts in e:\\readytensor\\rt-datasets-forecasting\\.venv\\lib\\site-packages (0.15.1)\n",
      "Requirement already satisfied: numpy~=1.16 in e:\\readytensor\\rt-datasets-forecasting\\.venv\\lib\\site-packages (from gluonts) (1.26.4)\n",
      "Requirement already satisfied: pandas<3,>=1.0 in e:\\readytensor\\rt-datasets-forecasting\\.venv\\lib\\site-packages (from gluonts) (1.5.3)\n",
      "Requirement already satisfied: pydantic<3,>=1.7 in e:\\readytensor\\rt-datasets-forecasting\\.venv\\lib\\site-packages (from gluonts) (2.7.3)\n",
      "Requirement already satisfied: tqdm~=4.23 in e:\\readytensor\\rt-datasets-forecasting\\.venv\\lib\\site-packages (from gluonts) (4.66.4)\n",
      "Requirement already satisfied: toolz~=0.10 in e:\\readytensor\\rt-datasets-forecasting\\.venv\\lib\\site-packages (from gluonts) (0.12.1)\n",
      "Requirement already satisfied: typing-extensions~=4.0 in e:\\readytensor\\rt-datasets-forecasting\\.venv\\lib\\site-packages (from gluonts) (4.12.2)\n",
      "Requirement already satisfied: python-dateutil>=2.8.1 in e:\\readytensor\\rt-datasets-forecasting\\.venv\\lib\\site-packages (from pandas<3,>=1.0->gluonts) (2.9.0.post0)\n",
      "Requirement already satisfied: pytz>=2020.1 in e:\\readytensor\\rt-datasets-forecasting\\.venv\\lib\\site-packages (from pandas<3,>=1.0->gluonts) (2024.1)\n",
      "Requirement already satisfied: annotated-types>=0.4.0 in e:\\readytensor\\rt-datasets-forecasting\\.venv\\lib\\site-packages (from pydantic<3,>=1.7->gluonts) (0.7.0)\n",
      "Requirement already satisfied: pydantic-core==2.18.4 in e:\\readytensor\\rt-datasets-forecasting\\.venv\\lib\\site-packages (from pydantic<3,>=1.7->gluonts) (2.18.4)\n",
      "Requirement already satisfied: colorama in e:\\readytensor\\rt-datasets-forecasting\\.venv\\lib\\site-packages (from tqdm~=4.23->gluonts) (0.4.6)\n",
      "Requirement already satisfied: six>=1.5 in e:\\readytensor\\rt-datasets-forecasting\\.venv\\lib\\site-packages (from python-dateutil>=2.8.1->pandas<3,>=1.0->gluonts) (1.16.0)\n",
      "Note: you may need to restart the kernel to use updated packages.\n"
     ]
    }
   ],
   "source": [
    "%pip install gluonts"
   ]
  },
  {
   "cell_type": "code",
   "execution_count": 3,
   "id": "84f9a32e",
   "metadata": {},
   "outputs": [
    {
     "name": "stderr",
     "output_type": "stream",
     "text": [
      "e:\\ReadyTensor\\rt-datasets-forecasting\\.venv\\Lib\\site-packages\\gluonts\\json.py:102: UserWarning: Using `json`-module for json-handling. Consider installing one of `orjson`, `ujson` to speed up serialization and deserialization.\n",
      "  warnings.warn(\n"
     ]
    }
   ],
   "source": [
    "from gluonts.dataset.repository import get_dataset, dataset_names"
   ]
  },
  {
   "cell_type": "code",
   "execution_count": 4,
   "id": "2763aeda",
   "metadata": {},
   "outputs": [
    {
     "name": "stdout",
     "output_type": "stream",
     "text": [
      "Available datasets: ['constant', 'exchange_rate', 'solar-energy', 'electricity', 'traffic', 'exchange_rate_nips', 'electricity_nips', 'traffic_nips', 'solar_nips', 'wiki2000_nips', 'wiki-rolling_nips', 'taxi_30min', 'kaggle_web_traffic_with_missing', 'kaggle_web_traffic_without_missing', 'kaggle_web_traffic_weekly', 'm1_yearly', 'm1_quarterly', 'm1_monthly', 'nn5_daily_with_missing', 'nn5_daily_without_missing', 'nn5_weekly', 'tourism_monthly', 'tourism_quarterly', 'tourism_yearly', 'cif_2016', 'london_smart_meters_without_missing', 'wind_farms_without_missing', 'car_parts_without_missing', 'dominick', 'fred_md', 'pedestrian_counts', 'hospital', 'covid_deaths', 'kdd_cup_2018_without_missing', 'weather', 'm3_monthly', 'm3_quarterly', 'm3_yearly', 'm3_other', 'm4_hourly', 'm4_daily', 'm4_weekly', 'm4_monthly', 'm4_quarterly', 'm4_yearly', 'm5', 'uber_tlc_daily', 'uber_tlc_hourly', 'airpassengers', 'australian_electricity_demand', 'electricity_hourly', 'electricity_weekly', 'rideshare_without_missing', 'saugeenday', 'solar_10_minutes', 'solar_weekly', 'sunspot_without_missing', 'temperature_rain_without_missing', 'vehicle_trips_without_missing', 'ercot', 'ett_small_15min', 'ett_small_1h']\n"
     ]
    }
   ],
   "source": [
    "print(f\"Available datasets: {dataset_names}\")"
   ]
  },
  {
   "cell_type": "code",
   "execution_count": 5,
   "id": "497ab6f5",
   "metadata": {},
   "outputs": [],
   "source": [
    "gluonts_dataset_name = \"ett_small_1h\""
   ]
  },
  {
   "cell_type": "code",
   "execution_count": 6,
   "id": "8056856a",
   "metadata": {},
   "outputs": [],
   "source": [
    "dataset_name = \"etth1_forecast_len_336\""
   ]
  },
  {
   "cell_type": "code",
   "execution_count": 7,
   "id": "e5b36356",
   "metadata": {},
   "outputs": [],
   "source": [
    "dataset_path = Path(f'./../../raw/{dataset_name}/')\n",
    "output_dir = f'./../../processed/{dataset_name}/'\n",
    "os.makedirs(output_dir, exist_ok=True)\n",
    "outp_fname = os.path.join(output_dir, f'{dataset_name}.csv')\n",
    "outp_fig_fname = os.path.join(output_dir, f'{dataset_name}.png')"
   ]
  },
  {
   "cell_type": "markdown",
   "id": "2b6eb5fa",
   "metadata": {},
   "source": [
    "# Read Data"
   ]
  },
  {
   "cell_type": "code",
   "execution_count": 8,
   "id": "4706cef2",
   "metadata": {},
   "outputs": [],
   "source": [
    "data = get_dataset(gluonts_dataset_name, regenerate=True,path=dataset_path)"
   ]
  },
  {
   "cell_type": "code",
   "execution_count": 9,
   "id": "6566c4a0",
   "metadata": {},
   "outputs": [
    {
     "data": {
      "text/plain": [
       "'{\"freq\": \"1h\", \"target\": null, \"feat_static_cat\": [], \"feat_static_real\": [], \"feat_dynamic_real\": [], \"feat_dynamic_cat\": [], \"prediction_length\": 24}'"
      ]
     },
     "execution_count": 9,
     "metadata": {},
     "output_type": "execute_result"
    }
   ],
   "source": [
    "data.metadata.json()"
   ]
  },
  {
   "cell_type": "code",
   "execution_count": 10,
   "id": "7bc41431",
   "metadata": {},
   "outputs": [
    {
     "name": "stdout",
     "output_type": "stream",
     "text": [
      "data shape :  (14, 3)\n",
      "(17396,)\n",
      "['HUFL_0' 'HULL_0' 'MUFL_0' 'MULL_0' 'LUFL_0' 'LULL_0' 'OT_0' 'HUFL_1'\n",
      " 'HULL_1' 'MUFL_1' 'MULL_1' 'LUFL_1' 'LULL_1' 'OT_1']\n"
     ]
    },
    {
     "data": {
      "text/html": [
       "<div>\n",
       "<style scoped>\n",
       "    .dataframe tbody tr th:only-of-type {\n",
       "        vertical-align: middle;\n",
       "    }\n",
       "\n",
       "    .dataframe tbody tr th {\n",
       "        vertical-align: top;\n",
       "    }\n",
       "\n",
       "    .dataframe thead th {\n",
       "        text-align: right;\n",
       "    }\n",
       "</style>\n",
       "<table border=\"1\" class=\"dataframe\">\n",
       "  <thead>\n",
       "    <tr style=\"text-align: right;\">\n",
       "      <th></th>\n",
       "      <th>start</th>\n",
       "      <th>item_id</th>\n",
       "      <th>target</th>\n",
       "    </tr>\n",
       "  </thead>\n",
       "  <tbody>\n",
       "    <tr>\n",
       "      <th>0</th>\n",
       "      <td>2016-07-01 00:00</td>\n",
       "      <td>HUFL_0</td>\n",
       "      <td>[5.827, 5.693, 5.157, 5.09, 5.358, 5.626, 7.16...</td>\n",
       "    </tr>\n",
       "    <tr>\n",
       "      <th>1</th>\n",
       "      <td>2016-07-01 00:00</td>\n",
       "      <td>HULL_0</td>\n",
       "      <td>[2.009, 2.076, 1.741, 1.942, 1.942, 2.143, 2.9...</td>\n",
       "    </tr>\n",
       "    <tr>\n",
       "      <th>2</th>\n",
       "      <td>2016-07-01 00:00</td>\n",
       "      <td>MUFL_0</td>\n",
       "      <td>[1.599, 1.492, 1.279, 1.279, 1.492, 1.528, 2.1...</td>\n",
       "    </tr>\n",
       "    <tr>\n",
       "      <th>3</th>\n",
       "      <td>2016-07-01 00:00</td>\n",
       "      <td>MULL_0</td>\n",
       "      <td>[0.462, 0.426, 0.355, 0.391, 0.462, 0.533, 0.7...</td>\n",
       "    </tr>\n",
       "    <tr>\n",
       "      <th>4</th>\n",
       "      <td>2016-07-01 00:00</td>\n",
       "      <td>LUFL_0</td>\n",
       "      <td>[4.203, 4.142, 3.777, 3.807, 3.868, 4.051, 5.0...</td>\n",
       "    </tr>\n",
       "  </tbody>\n",
       "</table>\n",
       "</div>"
      ],
      "text/plain": [
       "              start item_id                                             target\n",
       "0  2016-07-01 00:00  HUFL_0  [5.827, 5.693, 5.157, 5.09, 5.358, 5.626, 7.16...\n",
       "1  2016-07-01 00:00  HULL_0  [2.009, 2.076, 1.741, 1.942, 1.942, 2.143, 2.9...\n",
       "2  2016-07-01 00:00  MUFL_0  [1.599, 1.492, 1.279, 1.279, 1.492, 1.528, 2.1...\n",
       "3  2016-07-01 00:00  MULL_0  [0.462, 0.426, 0.355, 0.391, 0.462, 0.533, 0.7...\n",
       "4  2016-07-01 00:00  LUFL_0  [4.203, 4.142, 3.777, 3.807, 3.868, 4.051, 5.0..."
      ]
     },
     "execution_count": 10,
     "metadata": {},
     "output_type": "execute_result"
    }
   ],
   "source": [
    "df_gluonts = pd.DataFrame(data.train)\n",
    "print(\"data shape : \",df_gluonts.shape)\n",
    "print(df_gluonts.iloc[0]['target'].shape)\n",
    "print(df_gluonts['item_id'].unique())\n",
    "df_gluonts.head()"
   ]
  },
  {
   "cell_type": "code",
   "execution_count": 11,
   "id": "09dbd891",
   "metadata": {},
   "outputs": [
    {
     "name": "stdout",
     "output_type": "stream",
     "text": [
      "data shape :  (14, 3)\n",
      "(17420,)\n",
      "['HUFL_0' 'HULL_0' 'MUFL_0' 'MULL_0' 'LUFL_0' 'LULL_0' 'OT_0' 'HUFL_1'\n",
      " 'HULL_1' 'MUFL_1' 'MULL_1' 'LUFL_1' 'LULL_1' 'OT_1']\n",
      "Are both datasets the same ??  True\n"
     ]
    },
    {
     "data": {
      "text/html": [
       "<div>\n",
       "<style scoped>\n",
       "    .dataframe tbody tr th:only-of-type {\n",
       "        vertical-align: middle;\n",
       "    }\n",
       "\n",
       "    .dataframe tbody tr th {\n",
       "        vertical-align: top;\n",
       "    }\n",
       "\n",
       "    .dataframe thead th {\n",
       "        text-align: right;\n",
       "    }\n",
       "</style>\n",
       "<table border=\"1\" class=\"dataframe\">\n",
       "  <thead>\n",
       "    <tr style=\"text-align: right;\">\n",
       "      <th></th>\n",
       "      <th>start</th>\n",
       "      <th>item_id</th>\n",
       "      <th>target</th>\n",
       "    </tr>\n",
       "  </thead>\n",
       "  <tbody>\n",
       "    <tr>\n",
       "      <th>0</th>\n",
       "      <td>2016-07-01 00:00</td>\n",
       "      <td>HUFL_0</td>\n",
       "      <td>[5.827, 5.693, 5.157, 5.09, 5.358, 5.626, 7.16...</td>\n",
       "    </tr>\n",
       "    <tr>\n",
       "      <th>1</th>\n",
       "      <td>2016-07-01 00:00</td>\n",
       "      <td>HULL_0</td>\n",
       "      <td>[2.009, 2.076, 1.741, 1.942, 1.942, 2.143, 2.9...</td>\n",
       "    </tr>\n",
       "    <tr>\n",
       "      <th>2</th>\n",
       "      <td>2016-07-01 00:00</td>\n",
       "      <td>MUFL_0</td>\n",
       "      <td>[1.599, 1.492, 1.279, 1.279, 1.492, 1.528, 2.1...</td>\n",
       "    </tr>\n",
       "    <tr>\n",
       "      <th>3</th>\n",
       "      <td>2016-07-01 00:00</td>\n",
       "      <td>MULL_0</td>\n",
       "      <td>[0.462, 0.426, 0.355, 0.391, 0.462, 0.533, 0.7...</td>\n",
       "    </tr>\n",
       "    <tr>\n",
       "      <th>4</th>\n",
       "      <td>2016-07-01 00:00</td>\n",
       "      <td>LUFL_0</td>\n",
       "      <td>[4.203, 4.142, 3.777, 3.807, 3.868, 4.051, 5.0...</td>\n",
       "    </tr>\n",
       "  </tbody>\n",
       "</table>\n",
       "</div>"
      ],
      "text/plain": [
       "              start item_id                                             target\n",
       "0  2016-07-01 00:00  HUFL_0  [5.827, 5.693, 5.157, 5.09, 5.358, 5.626, 7.16...\n",
       "1  2016-07-01 00:00  HULL_0  [2.009, 2.076, 1.741, 1.942, 1.942, 2.143, 2.9...\n",
       "2  2016-07-01 00:00  MUFL_0  [1.599, 1.492, 1.279, 1.279, 1.492, 1.528, 2.1...\n",
       "3  2016-07-01 00:00  MULL_0  [0.462, 0.426, 0.355, 0.391, 0.462, 0.533, 0.7...\n",
       "4  2016-07-01 00:00  LUFL_0  [4.203, 4.142, 3.777, 3.807, 3.868, 4.051, 5.0..."
      ]
     },
     "execution_count": 11,
     "metadata": {},
     "output_type": "execute_result"
    }
   ],
   "source": [
    "df_test = pd.DataFrame(data.test)\n",
    "print(\"data shape : \",df_test.shape)\n",
    "print(df_test.iloc[0]['target'].shape)\n",
    "print(df_test['item_id'].unique())\n",
    "print(\"Are both datasets the same ?? \",df_gluonts.equals(df_test))\n",
    "df_test.head()\n"
   ]
  },
  {
   "cell_type": "markdown",
   "id": "1a0a85fd",
   "metadata": {},
   "source": [
    "## Extracting first county data from the dataset"
   ]
  },
  {
   "cell_type": "code",
   "execution_count": 12,
   "id": "9ce46c64",
   "metadata": {},
   "outputs": [
    {
     "data": {
      "text/plain": [
       "(7, 3)"
      ]
     },
     "execution_count": 12,
     "metadata": {},
     "output_type": "execute_result"
    }
   ],
   "source": [
    "df_gluonts = df_gluonts.iloc[:7,:]\n",
    "df_gluonts.shape"
   ]
  },
  {
   "cell_type": "code",
   "execution_count": 13,
   "id": "a85f00ed",
   "metadata": {},
   "outputs": [
    {
     "name": "stdout",
     "output_type": "stream",
     "text": [
      "(17396,)\n",
      "(17396,)\n",
      "(17396,)\n",
      "(17396,)\n",
      "(17396,)\n",
      "(17396,)\n",
      "(17396,)\n"
     ]
    },
    {
     "data": {
      "text/html": [
       "<div>\n",
       "<style scoped>\n",
       "    .dataframe tbody tr th:only-of-type {\n",
       "        vertical-align: middle;\n",
       "    }\n",
       "\n",
       "    .dataframe tbody tr th {\n",
       "        vertical-align: top;\n",
       "    }\n",
       "\n",
       "    .dataframe thead th {\n",
       "        text-align: right;\n",
       "    }\n",
       "</style>\n",
       "<table border=\"1\" class=\"dataframe\">\n",
       "  <thead>\n",
       "    <tr style=\"text-align: right;\">\n",
       "      <th></th>\n",
       "      <th>start</th>\n",
       "      <th>item_id</th>\n",
       "      <th>target</th>\n",
       "    </tr>\n",
       "  </thead>\n",
       "  <tbody>\n",
       "    <tr>\n",
       "      <th>0</th>\n",
       "      <td>2016-07-01 00:00</td>\n",
       "      <td>HUFL_0</td>\n",
       "      <td>[5.827, 5.693, 5.157, 5.09, 5.358, 5.626, 7.16...</td>\n",
       "    </tr>\n",
       "    <tr>\n",
       "      <th>1</th>\n",
       "      <td>2016-07-01 00:00</td>\n",
       "      <td>HULL_0</td>\n",
       "      <td>[2.009, 2.076, 1.741, 1.942, 1.942, 2.143, 2.9...</td>\n",
       "    </tr>\n",
       "    <tr>\n",
       "      <th>2</th>\n",
       "      <td>2016-07-01 00:00</td>\n",
       "      <td>MUFL_0</td>\n",
       "      <td>[1.599, 1.492, 1.279, 1.279, 1.492, 1.528, 2.1...</td>\n",
       "    </tr>\n",
       "    <tr>\n",
       "      <th>3</th>\n",
       "      <td>2016-07-01 00:00</td>\n",
       "      <td>MULL_0</td>\n",
       "      <td>[0.462, 0.426, 0.355, 0.391, 0.462, 0.533, 0.7...</td>\n",
       "    </tr>\n",
       "    <tr>\n",
       "      <th>4</th>\n",
       "      <td>2016-07-01 00:00</td>\n",
       "      <td>LUFL_0</td>\n",
       "      <td>[4.203, 4.142, 3.777, 3.807, 3.868, 4.051, 5.0...</td>\n",
       "    </tr>\n",
       "    <tr>\n",
       "      <th>5</th>\n",
       "      <td>2016-07-01 00:00</td>\n",
       "      <td>LULL_0</td>\n",
       "      <td>[1.34, 1.371, 1.218, 1.279, 1.279, 1.371, 1.85...</td>\n",
       "    </tr>\n",
       "    <tr>\n",
       "      <th>6</th>\n",
       "      <td>2016-07-01 00:00</td>\n",
       "      <td>OT_0</td>\n",
       "      <td>[30.531, 27.787, 27.787, 25.044, 21.948, 21.17...</td>\n",
       "    </tr>\n",
       "  </tbody>\n",
       "</table>\n",
       "</div>"
      ],
      "text/plain": [
       "              start item_id                                             target\n",
       "0  2016-07-01 00:00  HUFL_0  [5.827, 5.693, 5.157, 5.09, 5.358, 5.626, 7.16...\n",
       "1  2016-07-01 00:00  HULL_0  [2.009, 2.076, 1.741, 1.942, 1.942, 2.143, 2.9...\n",
       "2  2016-07-01 00:00  MUFL_0  [1.599, 1.492, 1.279, 1.279, 1.492, 1.528, 2.1...\n",
       "3  2016-07-01 00:00  MULL_0  [0.462, 0.426, 0.355, 0.391, 0.462, 0.533, 0.7...\n",
       "4  2016-07-01 00:00  LUFL_0  [4.203, 4.142, 3.777, 3.807, 3.868, 4.051, 5.0...\n",
       "5  2016-07-01 00:00  LULL_0  [1.34, 1.371, 1.218, 1.279, 1.279, 1.371, 1.85...\n",
       "6  2016-07-01 00:00    OT_0  [30.531, 27.787, 27.787, 25.044, 21.948, 21.17..."
      ]
     },
     "execution_count": 13,
     "metadata": {},
     "output_type": "execute_result"
    }
   ],
   "source": [
    "for i in range(df_gluonts.shape[0]):\n",
    "    print(df_gluonts.iloc[i]['target'].shape)\n",
    "df_gluonts"
   ]
  },
  {
   "cell_type": "markdown",
   "id": "ad0b6fdd",
   "metadata": {},
   "source": [
    "## Spreading each variable across the dataframe"
   ]
  },
  {
   "cell_type": "code",
   "execution_count": 14,
   "id": "c96c50bd",
   "metadata": {},
   "outputs": [
    {
     "data": {
      "text/html": [
       "<div>\n",
       "<style scoped>\n",
       "    .dataframe tbody tr th:only-of-type {\n",
       "        vertical-align: middle;\n",
       "    }\n",
       "\n",
       "    .dataframe tbody tr th {\n",
       "        vertical-align: top;\n",
       "    }\n",
       "\n",
       "    .dataframe thead th {\n",
       "        text-align: right;\n",
       "    }\n",
       "</style>\n",
       "<table border=\"1\" class=\"dataframe\">\n",
       "  <thead>\n",
       "    <tr style=\"text-align: right;\">\n",
       "      <th></th>\n",
       "      <th>series_id</th>\n",
       "      <th>timestamp</th>\n",
       "      <th>HUFL</th>\n",
       "      <th>HULL</th>\n",
       "      <th>LUFL</th>\n",
       "      <th>LULL</th>\n",
       "      <th>MUFL</th>\n",
       "      <th>MULL</th>\n",
       "      <th>OT</th>\n",
       "    </tr>\n",
       "  </thead>\n",
       "  <tbody>\n",
       "    <tr>\n",
       "      <th>0</th>\n",
       "      <td>series_0</td>\n",
       "      <td>2016-07-01 00:00</td>\n",
       "      <td>5.827</td>\n",
       "      <td>2.009</td>\n",
       "      <td>4.203</td>\n",
       "      <td>1.340</td>\n",
       "      <td>1.599</td>\n",
       "      <td>0.462</td>\n",
       "      <td>30.531000</td>\n",
       "    </tr>\n",
       "    <tr>\n",
       "      <th>1</th>\n",
       "      <td>series_0</td>\n",
       "      <td>2016-07-01 01:00</td>\n",
       "      <td>5.693</td>\n",
       "      <td>2.076</td>\n",
       "      <td>4.142</td>\n",
       "      <td>1.371</td>\n",
       "      <td>1.492</td>\n",
       "      <td>0.426</td>\n",
       "      <td>27.787001</td>\n",
       "    </tr>\n",
       "    <tr>\n",
       "      <th>2</th>\n",
       "      <td>series_0</td>\n",
       "      <td>2016-07-01 02:00</td>\n",
       "      <td>5.157</td>\n",
       "      <td>1.741</td>\n",
       "      <td>3.777</td>\n",
       "      <td>1.218</td>\n",
       "      <td>1.279</td>\n",
       "      <td>0.355</td>\n",
       "      <td>27.787001</td>\n",
       "    </tr>\n",
       "    <tr>\n",
       "      <th>3</th>\n",
       "      <td>series_0</td>\n",
       "      <td>2016-07-01 03:00</td>\n",
       "      <td>5.090</td>\n",
       "      <td>1.942</td>\n",
       "      <td>3.807</td>\n",
       "      <td>1.279</td>\n",
       "      <td>1.279</td>\n",
       "      <td>0.391</td>\n",
       "      <td>25.044001</td>\n",
       "    </tr>\n",
       "    <tr>\n",
       "      <th>4</th>\n",
       "      <td>series_0</td>\n",
       "      <td>2016-07-01 04:00</td>\n",
       "      <td>5.358</td>\n",
       "      <td>1.942</td>\n",
       "      <td>3.868</td>\n",
       "      <td>1.279</td>\n",
       "      <td>1.492</td>\n",
       "      <td>0.462</td>\n",
       "      <td>21.948000</td>\n",
       "    </tr>\n",
       "    <tr>\n",
       "      <th>...</th>\n",
       "      <td>...</td>\n",
       "      <td>...</td>\n",
       "      <td>...</td>\n",
       "      <td>...</td>\n",
       "      <td>...</td>\n",
       "      <td>...</td>\n",
       "      <td>...</td>\n",
       "      <td>...</td>\n",
       "      <td>...</td>\n",
       "    </tr>\n",
       "    <tr>\n",
       "      <th>17391</th>\n",
       "      <td>series_0</td>\n",
       "      <td>2018-06-25 15:00</td>\n",
       "      <td>-8.439</td>\n",
       "      <td>3.885</td>\n",
       "      <td>3.107</td>\n",
       "      <td>1.432</td>\n",
       "      <td>-11.229</td>\n",
       "      <td>2.132</td>\n",
       "      <td>11.607000</td>\n",
       "    </tr>\n",
       "    <tr>\n",
       "      <th>17392</th>\n",
       "      <td>series_0</td>\n",
       "      <td>2018-06-25 16:00</td>\n",
       "      <td>-1.206</td>\n",
       "      <td>3.215</td>\n",
       "      <td>2.955</td>\n",
       "      <td>1.279</td>\n",
       "      <td>-4.833</td>\n",
       "      <td>1.635</td>\n",
       "      <td>12.381000</td>\n",
       "    </tr>\n",
       "    <tr>\n",
       "      <th>17393</th>\n",
       "      <td>series_0</td>\n",
       "      <td>2018-06-25 17:00</td>\n",
       "      <td>4.622</td>\n",
       "      <td>3.081</td>\n",
       "      <td>3.655</td>\n",
       "      <td>1.249</td>\n",
       "      <td>1.883</td>\n",
       "      <td>1.635</td>\n",
       "      <td>11.467000</td>\n",
       "    </tr>\n",
       "    <tr>\n",
       "      <th>17394</th>\n",
       "      <td>series_0</td>\n",
       "      <td>2018-06-25 18:00</td>\n",
       "      <td>8.841</td>\n",
       "      <td>3.550</td>\n",
       "      <td>3.472</td>\n",
       "      <td>1.310</td>\n",
       "      <td>5.366</td>\n",
       "      <td>1.777</td>\n",
       "      <td>11.185000</td>\n",
       "    </tr>\n",
       "    <tr>\n",
       "      <th>17395</th>\n",
       "      <td>series_0</td>\n",
       "      <td>2018-06-25 19:00</td>\n",
       "      <td>9.511</td>\n",
       "      <td>2.813</td>\n",
       "      <td>3.320</td>\n",
       "      <td>1.097</td>\n",
       "      <td>6.183</td>\n",
       "      <td>1.315</td>\n",
       "      <td>10.552000</td>\n",
       "    </tr>\n",
       "  </tbody>\n",
       "</table>\n",
       "<p>17396 rows × 9 columns</p>\n",
       "</div>"
      ],
      "text/plain": [
       "      series_id         timestamp   HUFL   HULL   LUFL   LULL    MUFL   MULL  \\\n",
       "0      series_0  2016-07-01 00:00  5.827  2.009  4.203  1.340   1.599  0.462   \n",
       "1      series_0  2016-07-01 01:00  5.693  2.076  4.142  1.371   1.492  0.426   \n",
       "2      series_0  2016-07-01 02:00  5.157  1.741  3.777  1.218   1.279  0.355   \n",
       "3      series_0  2016-07-01 03:00  5.090  1.942  3.807  1.279   1.279  0.391   \n",
       "4      series_0  2016-07-01 04:00  5.358  1.942  3.868  1.279   1.492  0.462   \n",
       "...         ...               ...    ...    ...    ...    ...     ...    ...   \n",
       "17391  series_0  2018-06-25 15:00 -8.439  3.885  3.107  1.432 -11.229  2.132   \n",
       "17392  series_0  2018-06-25 16:00 -1.206  3.215  2.955  1.279  -4.833  1.635   \n",
       "17393  series_0  2018-06-25 17:00  4.622  3.081  3.655  1.249   1.883  1.635   \n",
       "17394  series_0  2018-06-25 18:00  8.841  3.550  3.472  1.310   5.366  1.777   \n",
       "17395  series_0  2018-06-25 19:00  9.511  2.813  3.320  1.097   6.183  1.315   \n",
       "\n",
       "              OT  \n",
       "0      30.531000  \n",
       "1      27.787001  \n",
       "2      27.787001  \n",
       "3      25.044001  \n",
       "4      21.948000  \n",
       "...          ...  \n",
       "17391  11.607000  \n",
       "17392  12.381000  \n",
       "17393  11.467000  \n",
       "17394  11.185000  \n",
       "17395  10.552000  \n",
       "\n",
       "[17396 rows x 9 columns]"
      ]
     },
     "execution_count": 14,
     "metadata": {},
     "output_type": "execute_result"
    }
   ],
   "source": [
    "from datetime import timedelta\n",
    "\n",
    "ext = '_0'\n",
    "df_gluonts_pivot = df_gluonts.pivot(index='start', columns='item_id', values='target',).reset_index().rename_axis(None, axis=1)\n",
    "\n",
    "timestamp = df_gluonts_pivot.loc[0, 'start']\n",
    "series_id = 'series' + ext\n",
    "\n",
    "length_of_lists = len(df_gluonts_pivot.loc[0, 'HUFL'+ext])\n",
    "\n",
    "timeseries_df = {\n",
    "    'series_id': [series_id] * length_of_lists,\n",
    "    'timestamp': [timestamp + timedelta(hours=i) for i in range(length_of_lists)],\n",
    "    'HUFL': df_gluonts_pivot.loc[0, 'HUFL'+ext],\n",
    "    'HULL': df_gluonts_pivot.loc[0, 'HULL'+ext],\n",
    "    'LUFL': df_gluonts_pivot.loc[0, 'LUFL'+ext],\n",
    "    'LULL': df_gluonts_pivot.loc[0, 'LULL'+ext],\n",
    "    'MUFL': df_gluonts_pivot.loc[0, 'MUFL'+ext],\n",
    "    'MULL': df_gluonts_pivot.loc[0, 'MULL'+ext],\n",
    "    'OT': df_gluonts_pivot.loc[0, 'OT'+ext],\n",
    "}\n",
    "\n",
    "timeseries_df = pd.DataFrame(timeseries_df)\n",
    "\n",
    "timeseries_df"
   ]
  },
  {
   "cell_type": "markdown",
   "id": "6f989bd8",
   "metadata": {},
   "source": [
    "# Identify columns to use for the dataset"
   ]
  },
  {
   "cell_type": "code",
   "execution_count": 15,
   "id": "b67e68de",
   "metadata": {},
   "outputs": [],
   "source": [
    "series_col = \"series_id\"\n",
    "epoch_col = ''\n",
    "time_col = 'timestamp'\n",
    "value_col = 'OT'\n",
    "exog_cols=['HUFL', 'HULL', 'MUFL', 'MULL', 'LUFL', 'LULL' ]"
   ]
  },
  {
   "cell_type": "markdown",
   "id": "5e9cfa83",
   "metadata": {},
   "source": [
    "# Visualize"
   ]
  },
  {
   "cell_type": "code",
   "execution_count": 16,
   "id": "da36587a",
   "metadata": {},
   "outputs": [
    {
     "data": {
      "image/png": "[encoded data removed]",
      "text/plain": [
       "<Figure size 1500x500 with 1 Axes>"
      ]
     },
     "metadata": {},
     "output_type": "display_data"
    }
   ],
   "source": [
    "plt.style.use('seaborn-v0_8-darkgrid')\n",
    "\n",
    "fig, ax = plt.subplots(figsize=(15, 5))\n",
    "timeseries_df.plot(x=time_col, y=value_col, ax=ax)\n",
    "for exog_col in exog_cols[:2]:\n",
    "    ax.plot(timeseries_df[time_col], timeseries_df[exog_col], label=exog_col)\n",
    "plt.title(f\"Time series data\")\n",
    "plt.grid(True)\n",
    "plt.legend()\n",
    "plt.show()\n"
   ]
  },
  {
   "cell_type": "markdown",
   "id": "3434d5f6",
   "metadata": {},
   "source": [
    "# Save Data"
   ]
  },
  {
   "cell_type": "code",
   "execution_count": 17,
   "id": "b637304e",
   "metadata": {},
   "outputs": [],
   "source": [
    "timeseries_df.sort_values(by=[series_col, time_col], inplace=True)\n",
    "timeseries_df.to_csv(outp_fname, index=False)"
   ]
  },
  {
   "cell_type": "code",
   "execution_count": 18,
   "id": "b1077b18",
   "metadata": {},
   "outputs": [
    {
     "data": {
      "text/plain": [
       "(17396, 9)"
      ]
     },
     "execution_count": 18,
     "metadata": {},
     "output_type": "execute_result"
    }
   ],
   "source": [
    "timeseries_df.shape"
   ]
  }
 ],
 "metadata": {
  "kernelspec": {
   "display_name": "Python 3 (ipykernel)",
   "language": "python",
   "name": "python3"
  },
  "language_info": {
   "codemirror_mode": {
    "name": "ipython",
    "version": 3
   },
   "file_extension": ".py",
   "mimetype": "text/x-python",
   "name": "python",
   "nbconvert_exporter": "python",
   "pygments_lexer": "ipython3",
   "version": "3.11.4"
  }
 },
 "nbformat": 4,
 "nbformat_minor": 5
}
