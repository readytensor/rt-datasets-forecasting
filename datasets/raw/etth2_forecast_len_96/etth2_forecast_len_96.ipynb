{
 "cells": [
  {
   "cell_type": "markdown",
   "id": "2c5b1c4d",
   "metadata": {},
   "source": [
    "# ETT (Electricity Transformer Temperature) Dataset - ETTh2\n",
    "\n",
    "## Overview\n",
    "\n",
    "The Electricity Transformer Temperature (ETT) dataset is designed for time series forecasting tasks, specifically focusing on the prediction of electricity transformer temperatures. This dataset is widely used in the research and development of forecasting models, particularly for applications in energy management and smart grid systems.\n",
    "\n",
    "## ETTh2 Subset\n",
    "\n",
    "The `ETTh2` subset of the ETT dataset contains hourly data collected from the first transformer. This subset is particularly useful for studying the temperature variations and trends on an hourly basis, enabling the development of models that can predict short-term temperature changes.\n",
    "\n",
    "## Features\n",
    "\n",
    "The dataset consists of several features, each representing a different aspect of the transformer's operational parameters and environmental conditions. The main features are:\n",
    "\n",
    "- **date**: The timestamp of the recorded data.\n",
    "- **HUFL**: High Useful Load Forecast, representing the forecasted load at a high level.\n",
    "- **HULL**: High Useful Load Low, representing the forecasted load at a low level.\n",
    "- **MUFL**: Medium Useful Load Forecast, representing the forecasted load at a medium level.\n",
    "- **MULL**: Medium Useful Load Low, representing the forecasted load at a low level.\n",
    "- **LUFL**: Low Useful Load Forecast, representing the forecasted load at a low level.\n",
    "- **LULL**: Low Useful Load Low, representing the forecasted load at a low level.\n",
    "- **OT**: Oil Temperature, representing the temperature of the transformer's oil, which is the target variable for forecasting.\n",
    "\n",
    "> Forecast length : 96\n",
    "\n",
    "## Data Format\n",
    "\n",
    "The dataset is stored in a CSV file format with each row corresponding to a single hour of data. The columns in the file represent the different features described above. Here is a sample of the data format:\n",
    "\n",
    "| date                | HUFL | HULL | MUFL | MULL | LUFL | LULL | OT   |\n",
    "|---------------------|------|------|------|------|------|------|------|\n",
    "| 2016-07-01 00:00:00 | 21.0 | 20.5 | 19.8 | 19.3 | 18.7 | 18.2 | 29.0 |\n",
    "| 2016-07-01 01:00:00 | 20.8 | 20.3 | 19.6 | 19.1 | 18.5 | 18.0 | 28.8 |\n",
    "| ...                 | ...  | ...  | ...  | ...  | ...  | ...  | ...  |\n",
    "\n",
    "## Usage\n",
    "\n",
    "The `ETTh2` subset is ideal for developing and testing time series forecasting models. Researchers and practitioners can use this dataset to:\n",
    "\n",
    "- Develop predictive models for transformer temperature forecasting.\n",
    "- Study the impact of load variations on transformer temperature.\n",
    "- Test the performance of different time series forecasting algorithms.\n",
    "\n",
    "## References\n",
    "\n",
    "For more details on the dataset, you can refer to the official documentation and publications related to the ETT dataset. The dataset is publicly available and can be accessed from the following sources:\n",
    "\n",
    "- [Official Repository](https://github.com/zhouhaoyi/ETDataset)\n",
    "- [Research Paper](https://arxiv.org/abs/2012.07436)\n"
   ]
  },
  {
   "cell_type": "code",
   "execution_count": 1,
   "id": "c907d6cd",
   "metadata": {},
   "outputs": [],
   "source": [
    "import numpy as np\n",
    "import pandas as pd\n",
    "import os\n",
    "import matplotlib.pyplot as plt\n",
    "from pathlib import Path\n",
    "%matplotlib inline"
   ]
  },
  {
   "cell_type": "code",
   "execution_count": 2,
   "id": "ba1611c0",
   "metadata": {},
   "outputs": [
    {
     "name": "stdout",
     "output_type": "stream",
     "text": [
      "Requirement already satisfied: gluonts in e:\\readytensor\\rt-datasets-forecasting\\.venv\\lib\\site-packages (0.15.1)\n",
      "Requirement already satisfied: numpy~=1.16 in e:\\readytensor\\rt-datasets-forecasting\\.venv\\lib\\site-packages (from gluonts) (1.26.4)\n",
      "Requirement already satisfied: pandas<3,>=1.0 in e:\\readytensor\\rt-datasets-forecasting\\.venv\\lib\\site-packages (from gluonts) (1.5.3)\n",
      "Requirement already satisfied: pydantic<3,>=1.7 in e:\\readytensor\\rt-datasets-forecasting\\.venv\\lib\\site-packages (from gluonts) (2.7.3)\n",
      "Requirement already satisfied: tqdm~=4.23 in e:\\readytensor\\rt-datasets-forecasting\\.venv\\lib\\site-packages (from gluonts) (4.66.4)\n",
      "Requirement already satisfied: toolz~=0.10 in e:\\readytensor\\rt-datasets-forecasting\\.venv\\lib\\site-packages (from gluonts) (0.12.1)\n",
      "Requirement already satisfied: typing-extensions~=4.0 in e:\\readytensor\\rt-datasets-forecasting\\.venv\\lib\\site-packages (from gluonts) (4.12.2)\n",
      "Requirement already satisfied: python-dateutil>=2.8.1 in e:\\readytensor\\rt-datasets-forecasting\\.venv\\lib\\site-packages (from pandas<3,>=1.0->gluonts) (2.9.0.post0)\n",
      "Requirement already satisfied: pytz>=2020.1 in e:\\readytensor\\rt-datasets-forecasting\\.venv\\lib\\site-packages (from pandas<3,>=1.0->gluonts) (2024.1)\n",
      "Requirement already satisfied: annotated-types>=0.4.0 in e:\\readytensor\\rt-datasets-forecasting\\.venv\\lib\\site-packages (from pydantic<3,>=1.7->gluonts) (0.7.0)\n",
      "Requirement already satisfied: pydantic-core==2.18.4 in e:\\readytensor\\rt-datasets-forecasting\\.venv\\lib\\site-packages (from pydantic<3,>=1.7->gluonts) (2.18.4)\n",
      "Requirement already satisfied: colorama in e:\\readytensor\\rt-datasets-forecasting\\.venv\\lib\\site-packages (from tqdm~=4.23->gluonts) (0.4.6)\n",
      "Requirement already satisfied: six>=1.5 in e:\\readytensor\\rt-datasets-forecasting\\.venv\\lib\\site-packages (from python-dateutil>=2.8.1->pandas<3,>=1.0->gluonts) (1.16.0)\n",
      "Note: you may need to restart the kernel to use updated packages.\n"
     ]
    }
   ],
   "source": [
    "%pip install gluonts"
   ]
  },
  {
   "cell_type": "code",
   "execution_count": 3,
   "id": "84f9a32e",
   "metadata": {},
   "outputs": [
    {
     "name": "stderr",
     "output_type": "stream",
     "text": [
      "e:\\ReadyTensor\\rt-datasets-forecasting\\.venv\\Lib\\site-packages\\gluonts\\json.py:102: UserWarning: Using `json`-module for json-handling. Consider installing one of `orjson`, `ujson` to speed up serialization and deserialization.\n",
      "  warnings.warn(\n"
     ]
    }
   ],
   "source": [
    "from gluonts.dataset.repository import get_dataset, dataset_names"
   ]
  },
  {
   "cell_type": "code",
   "execution_count": 4,
   "id": "2763aeda",
   "metadata": {},
   "outputs": [
    {
     "name": "stdout",
     "output_type": "stream",
     "text": [
      "Available datasets: ['constant', 'exchange_rate', 'solar-energy', 'electricity', 'traffic', 'exchange_rate_nips', 'electricity_nips', 'traffic_nips', 'solar_nips', 'wiki2000_nips', 'wiki-rolling_nips', 'taxi_30min', 'kaggle_web_traffic_with_missing', 'kaggle_web_traffic_without_missing', 'kaggle_web_traffic_weekly', 'm1_yearly', 'm1_quarterly', 'm1_monthly', 'nn5_daily_with_missing', 'nn5_daily_without_missing', 'nn5_weekly', 'tourism_monthly', 'tourism_quarterly', 'tourism_yearly', 'cif_2016', 'london_smart_meters_without_missing', 'wind_farms_without_missing', 'car_parts_without_missing', 'dominick', 'fred_md', 'pedestrian_counts', 'hospital', 'covid_deaths', 'kdd_cup_2018_without_missing', 'weather', 'm3_monthly', 'm3_quarterly', 'm3_yearly', 'm3_other', 'm4_hourly', 'm4_daily', 'm4_weekly', 'm4_monthly', 'm4_quarterly', 'm4_yearly', 'm5', 'uber_tlc_daily', 'uber_tlc_hourly', 'airpassengers', 'australian_electricity_demand', 'electricity_hourly', 'electricity_weekly', 'rideshare_without_missing', 'saugeenday', 'solar_10_minutes', 'solar_weekly', 'sunspot_without_missing', 'temperature_rain_without_missing', 'vehicle_trips_without_missing', 'ercot', 'ett_small_15min', 'ett_small_1h']\n"
     ]
    }
   ],
   "source": [
    "print(f\"Available datasets: {dataset_names}\")"
   ]
  },
  {
   "cell_type": "code",
   "execution_count": 5,
   "id": "497ab6f5",
   "metadata": {},
   "outputs": [],
   "source": [
    "gluonts_dataset_name = \"ett_small_1h\""
   ]
  },
  {
   "cell_type": "code",
   "execution_count": 6,
   "id": "8056856a",
   "metadata": {},
   "outputs": [],
   "source": [
    "dataset_name = \"etth2_forecast_len_96\""
   ]
  },
  {
   "cell_type": "code",
   "execution_count": 7,
   "id": "e5b36356",
   "metadata": {},
   "outputs": [],
   "source": [
    "dataset_path = Path(f'./../../raw/{dataset_name}/')\n",
    "output_dir = f'./../../processed/{dataset_name}/'\n",
    "os.makedirs(output_dir, exist_ok=True)\n",
    "outp_fname = os.path.join(output_dir, f'{dataset_name}.csv')\n",
    "outp_fig_fname = os.path.join(output_dir, f'{dataset_name}.png')"
   ]
  },
  {
   "cell_type": "markdown",
   "id": "2b6eb5fa",
   "metadata": {},
   "source": [
    "# Read Data"
   ]
  },
  {
   "cell_type": "code",
   "execution_count": 8,
   "id": "4706cef2",
   "metadata": {},
   "outputs": [],
   "source": [
    "data = get_dataset(gluonts_dataset_name, regenerate=True,path=dataset_path)"
   ]
  },
  {
   "cell_type": "code",
   "execution_count": 9,
   "id": "6566c4a0",
   "metadata": {},
   "outputs": [
    {
     "data": {
      "text/plain": [
       "'{\"freq\": \"1h\", \"target\": null, \"feat_static_cat\": [], \"feat_static_real\": [], \"feat_dynamic_real\": [], \"feat_dynamic_cat\": [], \"prediction_length\": 24}'"
      ]
     },
     "execution_count": 9,
     "metadata": {},
     "output_type": "execute_result"
    }
   ],
   "source": [
    "data.metadata.json()"
   ]
  },
  {
   "cell_type": "code",
   "execution_count": 10,
   "id": "7bc41431",
   "metadata": {},
   "outputs": [
    {
     "name": "stdout",
     "output_type": "stream",
     "text": [
      "data shape :  (14, 3)\n",
      "(17396,)\n",
      "['HUFL_0' 'HULL_0' 'MUFL_0' 'MULL_0' 'LUFL_0' 'LULL_0' 'OT_0' 'HUFL_1'\n",
      " 'HULL_1' 'MUFL_1' 'MULL_1' 'LUFL_1' 'LULL_1' 'OT_1']\n"
     ]
    },
    {
     "data": {
      "text/html": [
       "<div>\n",
       "<style scoped>\n",
       "    .dataframe tbody tr th:only-of-type {\n",
       "        vertical-align: middle;\n",
       "    }\n",
       "\n",
       "    .dataframe tbody tr th {\n",
       "        vertical-align: top;\n",
       "    }\n",
       "\n",
       "    .dataframe thead th {\n",
       "        text-align: right;\n",
       "    }\n",
       "</style>\n",
       "<table border=\"1\" class=\"dataframe\">\n",
       "  <thead>\n",
       "    <tr style=\"text-align: right;\">\n",
       "      <th></th>\n",
       "      <th>start</th>\n",
       "      <th>item_id</th>\n",
       "      <th>target</th>\n",
       "    </tr>\n",
       "  </thead>\n",
       "  <tbody>\n",
       "    <tr>\n",
       "      <th>0</th>\n",
       "      <td>2016-07-01 00:00</td>\n",
       "      <td>HUFL_0</td>\n",
       "      <td>[5.827, 5.693, 5.157, 5.09, 5.358, 5.626, 7.16...</td>\n",
       "    </tr>\n",
       "    <tr>\n",
       "      <th>1</th>\n",
       "      <td>2016-07-01 00:00</td>\n",
       "      <td>HULL_0</td>\n",
       "      <td>[2.009, 2.076, 1.741, 1.942, 1.942, 2.143, 2.9...</td>\n",
       "    </tr>\n",
       "    <tr>\n",
       "      <th>2</th>\n",
       "      <td>2016-07-01 00:00</td>\n",
       "      <td>MUFL_0</td>\n",
       "      <td>[1.599, 1.492, 1.279, 1.279, 1.492, 1.528, 2.1...</td>\n",
       "    </tr>\n",
       "    <tr>\n",
       "      <th>3</th>\n",
       "      <td>2016-07-01 00:00</td>\n",
       "      <td>MULL_0</td>\n",
       "      <td>[0.462, 0.426, 0.355, 0.391, 0.462, 0.533, 0.7...</td>\n",
       "    </tr>\n",
       "    <tr>\n",
       "      <th>4</th>\n",
       "      <td>2016-07-01 00:00</td>\n",
       "      <td>LUFL_0</td>\n",
       "      <td>[4.203, 4.142, 3.777, 3.807, 3.868, 4.051, 5.0...</td>\n",
       "    </tr>\n",
       "  </tbody>\n",
       "</table>\n",
       "</div>"
      ],
      "text/plain": [
       "              start item_id                                             target\n",
       "0  2016-07-01 00:00  HUFL_0  [5.827, 5.693, 5.157, 5.09, 5.358, 5.626, 7.16...\n",
       "1  2016-07-01 00:00  HULL_0  [2.009, 2.076, 1.741, 1.942, 1.942, 2.143, 2.9...\n",
       "2  2016-07-01 00:00  MUFL_0  [1.599, 1.492, 1.279, 1.279, 1.492, 1.528, 2.1...\n",
       "3  2016-07-01 00:00  MULL_0  [0.462, 0.426, 0.355, 0.391, 0.462, 0.533, 0.7...\n",
       "4  2016-07-01 00:00  LUFL_0  [4.203, 4.142, 3.777, 3.807, 3.868, 4.051, 5.0..."
      ]
     },
     "execution_count": 10,
     "metadata": {},
     "output_type": "execute_result"
    }
   ],
   "source": [
    "df_gluonts = pd.DataFrame(data.train)\n",
    "print(\"data shape : \",df_gluonts.shape)\n",
    "print(df_gluonts.iloc[0]['target'].shape)\n",
    "print(df_gluonts['item_id'].unique())\n",
    "df_gluonts.head()"
   ]
  },
  {
   "cell_type": "code",
   "execution_count": 11,
   "id": "09dbd891",
   "metadata": {},
   "outputs": [
    {
     "name": "stdout",
     "output_type": "stream",
     "text": [
      "data shape :  (14, 3)\n",
      "(17420,)\n",
      "['HUFL_0' 'HULL_0' 'MUFL_0' 'MULL_0' 'LUFL_0' 'LULL_0' 'OT_0' 'HUFL_1'\n",
      " 'HULL_1' 'MUFL_1' 'MULL_1' 'LUFL_1' 'LULL_1' 'OT_1']\n",
      "Are both datasets the same ??  True\n"
     ]
    },
    {
     "data": {
      "text/html": [
       "<div>\n",
       "<style scoped>\n",
       "    .dataframe tbody tr th:only-of-type {\n",
       "        vertical-align: middle;\n",
       "    }\n",
       "\n",
       "    .dataframe tbody tr th {\n",
       "        vertical-align: top;\n",
       "    }\n",
       "\n",
       "    .dataframe thead th {\n",
       "        text-align: right;\n",
       "    }\n",
       "</style>\n",
       "<table border=\"1\" class=\"dataframe\">\n",
       "  <thead>\n",
       "    <tr style=\"text-align: right;\">\n",
       "      <th></th>\n",
       "      <th>start</th>\n",
       "      <th>item_id</th>\n",
       "      <th>target</th>\n",
       "    </tr>\n",
       "  </thead>\n",
       "  <tbody>\n",
       "    <tr>\n",
       "      <th>0</th>\n",
       "      <td>2016-07-01 00:00</td>\n",
       "      <td>HUFL_0</td>\n",
       "      <td>[5.827, 5.693, 5.157, 5.09, 5.358, 5.626, 7.16...</td>\n",
       "    </tr>\n",
       "    <tr>\n",
       "      <th>1</th>\n",
       "      <td>2016-07-01 00:00</td>\n",
       "      <td>HULL_0</td>\n",
       "      <td>[2.009, 2.076, 1.741, 1.942, 1.942, 2.143, 2.9...</td>\n",
       "    </tr>\n",
       "    <tr>\n",
       "      <th>2</th>\n",
       "      <td>2016-07-01 00:00</td>\n",
       "      <td>MUFL_0</td>\n",
       "      <td>[1.599, 1.492, 1.279, 1.279, 1.492, 1.528, 2.1...</td>\n",
       "    </tr>\n",
       "    <tr>\n",
       "      <th>3</th>\n",
       "      <td>2016-07-01 00:00</td>\n",
       "      <td>MULL_0</td>\n",
       "      <td>[0.462, 0.426, 0.355, 0.391, 0.462, 0.533, 0.7...</td>\n",
       "    </tr>\n",
       "    <tr>\n",
       "      <th>4</th>\n",
       "      <td>2016-07-01 00:00</td>\n",
       "      <td>LUFL_0</td>\n",
       "      <td>[4.203, 4.142, 3.777, 3.807, 3.868, 4.051, 5.0...</td>\n",
       "    </tr>\n",
       "  </tbody>\n",
       "</table>\n",
       "</div>"
      ],
      "text/plain": [
       "              start item_id                                             target\n",
       "0  2016-07-01 00:00  HUFL_0  [5.827, 5.693, 5.157, 5.09, 5.358, 5.626, 7.16...\n",
       "1  2016-07-01 00:00  HULL_0  [2.009, 2.076, 1.741, 1.942, 1.942, 2.143, 2.9...\n",
       "2  2016-07-01 00:00  MUFL_0  [1.599, 1.492, 1.279, 1.279, 1.492, 1.528, 2.1...\n",
       "3  2016-07-01 00:00  MULL_0  [0.462, 0.426, 0.355, 0.391, 0.462, 0.533, 0.7...\n",
       "4  2016-07-01 00:00  LUFL_0  [4.203, 4.142, 3.777, 3.807, 3.868, 4.051, 5.0..."
      ]
     },
     "execution_count": 11,
     "metadata": {},
     "output_type": "execute_result"
    }
   ],
   "source": [
    "df_test = pd.DataFrame(data.test)\n",
    "print(\"data shape : \",df_test.shape)\n",
    "print(df_test.iloc[0]['target'].shape)\n",
    "print(df_test['item_id'].unique())\n",
    "print(\"Are both datasets the same ?? \",df_gluonts.equals(df_test))\n",
    "df_test.head()\n"
   ]
  },
  {
   "cell_type": "markdown",
   "id": "1a0a85fd",
   "metadata": {},
   "source": [
    "## Extracting first county data from the dataset"
   ]
  },
  {
   "cell_type": "code",
   "execution_count": 12,
   "id": "9ce46c64",
   "metadata": {},
   "outputs": [
    {
     "data": {
      "text/plain": [
       "(7, 3)"
      ]
     },
     "execution_count": 12,
     "metadata": {},
     "output_type": "execute_result"
    }
   ],
   "source": [
    "df_gluonts = df_gluonts.iloc[7:,:]\n",
    "df_gluonts.shape"
   ]
  },
  {
   "cell_type": "code",
   "execution_count": 13,
   "id": "a85f00ed",
   "metadata": {},
   "outputs": [
    {
     "name": "stdout",
     "output_type": "stream",
     "text": [
      "(17396,)\n",
      "(17396,)\n",
      "(17396,)\n",
      "(17396,)\n",
      "(17396,)\n",
      "(17396,)\n",
      "(17396,)\n"
     ]
    },
    {
     "data": {
      "text/html": [
       "<div>\n",
       "<style scoped>\n",
       "    .dataframe tbody tr th:only-of-type {\n",
       "        vertical-align: middle;\n",
       "    }\n",
       "\n",
       "    .dataframe tbody tr th {\n",
       "        vertical-align: top;\n",
       "    }\n",
       "\n",
       "    .dataframe thead th {\n",
       "        text-align: right;\n",
       "    }\n",
       "</style>\n",
       "<table border=\"1\" class=\"dataframe\">\n",
       "  <thead>\n",
       "    <tr style=\"text-align: right;\">\n",
       "      <th></th>\n",
       "      <th>start</th>\n",
       "      <th>item_id</th>\n",
       "      <th>target</th>\n",
       "    </tr>\n",
       "  </thead>\n",
       "  <tbody>\n",
       "    <tr>\n",
       "      <th>7</th>\n",
       "      <td>2016-07-01 00:00</td>\n",
       "      <td>HUFL_1</td>\n",
       "      <td>[41.13, 37.528, 37.947, 38.952, 38.114, 36.774...</td>\n",
       "    </tr>\n",
       "    <tr>\n",
       "      <th>8</th>\n",
       "      <td>2016-07-01 00:00</td>\n",
       "      <td>HULL_1</td>\n",
       "      <td>[12.481, 10.136, 11.309, 11.895, 11.476, 10.97...</td>\n",
       "    </tr>\n",
       "    <tr>\n",
       "      <th>9</th>\n",
       "      <td>2016-07-01 00:00</td>\n",
       "      <td>MUFL_1</td>\n",
       "      <td>[36.536, 33.936, 35.33, 35.544, 35.41, 34.928,...</td>\n",
       "    </tr>\n",
       "    <tr>\n",
       "      <th>10</th>\n",
       "      <td>2016-07-01 00:00</td>\n",
       "      <td>MULL_1</td>\n",
       "      <td>[9.355, 7.532, 9.007, 9.436, 9.623, 9.248, 10....</td>\n",
       "    </tr>\n",
       "    <tr>\n",
       "      <th>11</th>\n",
       "      <td>2016-07-01 00:00</td>\n",
       "      <td>LUFL_1</td>\n",
       "      <td>[4.424, 4.435, 2.1, 3.38, 2.036, 2.036, 2.036,...</td>\n",
       "    </tr>\n",
       "    <tr>\n",
       "      <th>12</th>\n",
       "      <td>2016-07-01 00:00</td>\n",
       "      <td>LULL_1</td>\n",
       "      <td>[1.311, 1.215, 0.0, 1.215, 0.0, 0.0, 0.0, 0.0,...</td>\n",
       "    </tr>\n",
       "    <tr>\n",
       "      <th>13</th>\n",
       "      <td>2016-07-01 00:00</td>\n",
       "      <td>OT_1</td>\n",
       "      <td>[38.662, 37.124, 36.465, 33.6085, 31.8505, 30....</td>\n",
       "    </tr>\n",
       "  </tbody>\n",
       "</table>\n",
       "</div>"
      ],
      "text/plain": [
       "               start item_id  \\\n",
       "7   2016-07-01 00:00  HUFL_1   \n",
       "8   2016-07-01 00:00  HULL_1   \n",
       "9   2016-07-01 00:00  MUFL_1   \n",
       "10  2016-07-01 00:00  MULL_1   \n",
       "11  2016-07-01 00:00  LUFL_1   \n",
       "12  2016-07-01 00:00  LULL_1   \n",
       "13  2016-07-01 00:00    OT_1   \n",
       "\n",
       "                                               target  \n",
       "7   [41.13, 37.528, 37.947, 38.952, 38.114, 36.774...  \n",
       "8   [12.481, 10.136, 11.309, 11.895, 11.476, 10.97...  \n",
       "9   [36.536, 33.936, 35.33, 35.544, 35.41, 34.928,...  \n",
       "10  [9.355, 7.532, 9.007, 9.436, 9.623, 9.248, 10....  \n",
       "11  [4.424, 4.435, 2.1, 3.38, 2.036, 2.036, 2.036,...  \n",
       "12  [1.311, 1.215, 0.0, 1.215, 0.0, 0.0, 0.0, 0.0,...  \n",
       "13  [38.662, 37.124, 36.465, 33.6085, 31.8505, 30....  "
      ]
     },
     "execution_count": 13,
     "metadata": {},
     "output_type": "execute_result"
    }
   ],
   "source": [
    "for i in range(df_gluonts.shape[0]):\n",
    "    print(df_gluonts.iloc[i]['target'].shape)\n",
    "df_gluonts"
   ]
  },
  {
   "cell_type": "markdown",
   "id": "ad0b6fdd",
   "metadata": {},
   "source": [
    "## Spreading each variable across the dataframe"
   ]
  },
  {
   "cell_type": "code",
   "execution_count": 14,
   "id": "c96c50bd",
   "metadata": {},
   "outputs": [
    {
     "data": {
      "text/html": [
       "<div>\n",
       "<style scoped>\n",
       "    .dataframe tbody tr th:only-of-type {\n",
       "        vertical-align: middle;\n",
       "    }\n",
       "\n",
       "    .dataframe tbody tr th {\n",
       "        vertical-align: top;\n",
       "    }\n",
       "\n",
       "    .dataframe thead th {\n",
       "        text-align: right;\n",
       "    }\n",
       "</style>\n",
       "<table border=\"1\" class=\"dataframe\">\n",
       "  <thead>\n",
       "    <tr style=\"text-align: right;\">\n",
       "      <th></th>\n",
       "      <th>series_id</th>\n",
       "      <th>timestamp</th>\n",
       "      <th>HUFL</th>\n",
       "      <th>HULL</th>\n",
       "      <th>LUFL</th>\n",
       "      <th>LULL</th>\n",
       "      <th>MUFL</th>\n",
       "      <th>MULL</th>\n",
       "      <th>OT</th>\n",
       "    </tr>\n",
       "  </thead>\n",
       "  <tbody>\n",
       "    <tr>\n",
       "      <th>0</th>\n",
       "      <td>series_1</td>\n",
       "      <td>2016-07-01 00:00</td>\n",
       "      <td>41.130001</td>\n",
       "      <td>12.481000</td>\n",
       "      <td>4.424</td>\n",
       "      <td>1.311</td>\n",
       "      <td>36.535999</td>\n",
       "      <td>9.355</td>\n",
       "      <td>38.661999</td>\n",
       "    </tr>\n",
       "    <tr>\n",
       "      <th>1</th>\n",
       "      <td>series_1</td>\n",
       "      <td>2016-07-01 01:00</td>\n",
       "      <td>37.528000</td>\n",
       "      <td>10.136000</td>\n",
       "      <td>4.435</td>\n",
       "      <td>1.215</td>\n",
       "      <td>33.936001</td>\n",
       "      <td>7.532</td>\n",
       "      <td>37.124001</td>\n",
       "    </tr>\n",
       "    <tr>\n",
       "      <th>2</th>\n",
       "      <td>series_1</td>\n",
       "      <td>2016-07-01 02:00</td>\n",
       "      <td>37.946999</td>\n",
       "      <td>11.309000</td>\n",
       "      <td>2.100</td>\n",
       "      <td>0.000</td>\n",
       "      <td>35.330002</td>\n",
       "      <td>9.007</td>\n",
       "      <td>36.465000</td>\n",
       "    </tr>\n",
       "    <tr>\n",
       "      <th>3</th>\n",
       "      <td>series_1</td>\n",
       "      <td>2016-07-01 03:00</td>\n",
       "      <td>38.952000</td>\n",
       "      <td>11.895000</td>\n",
       "      <td>3.380</td>\n",
       "      <td>1.215</td>\n",
       "      <td>35.543999</td>\n",
       "      <td>9.436</td>\n",
       "      <td>33.608501</td>\n",
       "    </tr>\n",
       "    <tr>\n",
       "      <th>4</th>\n",
       "      <td>series_1</td>\n",
       "      <td>2016-07-01 04:00</td>\n",
       "      <td>38.113998</td>\n",
       "      <td>11.476000</td>\n",
       "      <td>2.036</td>\n",
       "      <td>0.000</td>\n",
       "      <td>35.410000</td>\n",
       "      <td>9.623</td>\n",
       "      <td>31.850500</td>\n",
       "    </tr>\n",
       "    <tr>\n",
       "      <th>...</th>\n",
       "      <td>...</td>\n",
       "      <td>...</td>\n",
       "      <td>...</td>\n",
       "      <td>...</td>\n",
       "      <td>...</td>\n",
       "      <td>...</td>\n",
       "      <td>...</td>\n",
       "      <td>...</td>\n",
       "      <td>...</td>\n",
       "    </tr>\n",
       "    <tr>\n",
       "      <th>17391</th>\n",
       "      <td>series_1</td>\n",
       "      <td>2018-06-25 15:00</td>\n",
       "      <td>36.104000</td>\n",
       "      <td>17.004999</td>\n",
       "      <td>-9.542</td>\n",
       "      <td>-2.463</td>\n",
       "      <td>45.917999</td>\n",
       "      <td>11.661</td>\n",
       "      <td>50.625000</td>\n",
       "    </tr>\n",
       "    <tr>\n",
       "      <th>17392</th>\n",
       "      <td>series_1</td>\n",
       "      <td>2018-06-25 16:00</td>\n",
       "      <td>40.041000</td>\n",
       "      <td>10.471000</td>\n",
       "      <td>-10.757</td>\n",
       "      <td>-1.844</td>\n",
       "      <td>51.252998</td>\n",
       "      <td>11.366</td>\n",
       "      <td>49.745998</td>\n",
       "    </tr>\n",
       "    <tr>\n",
       "      <th>17393</th>\n",
       "      <td>series_1</td>\n",
       "      <td>2018-06-25 17:00</td>\n",
       "      <td>39.622002</td>\n",
       "      <td>10.722000</td>\n",
       "      <td>-10.757</td>\n",
       "      <td>-1.844</td>\n",
       "      <td>50.931000</td>\n",
       "      <td>11.124</td>\n",
       "      <td>48.867001</td>\n",
       "    </tr>\n",
       "    <tr>\n",
       "      <th>17394</th>\n",
       "      <td>series_1</td>\n",
       "      <td>2018-06-25 18:00</td>\n",
       "      <td>39.202999</td>\n",
       "      <td>9.801000</td>\n",
       "      <td>-9.499</td>\n",
       "      <td>-1.290</td>\n",
       "      <td>49.055000</td>\n",
       "      <td>10.079</td>\n",
       "      <td>47.988499</td>\n",
       "    </tr>\n",
       "    <tr>\n",
       "      <th>17395</th>\n",
       "      <td>series_1</td>\n",
       "      <td>2018-06-25 19:00</td>\n",
       "      <td>37.778999</td>\n",
       "      <td>8.796000</td>\n",
       "      <td>-9.499</td>\n",
       "      <td>-1.535</td>\n",
       "      <td>47.125000</td>\n",
       "      <td>8.953</td>\n",
       "      <td>46.450001</td>\n",
       "    </tr>\n",
       "  </tbody>\n",
       "</table>\n",
       "<p>17396 rows × 9 columns</p>\n",
       "</div>"
      ],
      "text/plain": [
       "      series_id         timestamp       HUFL       HULL    LUFL   LULL  \\\n",
       "0      series_1  2016-07-01 00:00  41.130001  12.481000   4.424  1.311   \n",
       "1      series_1  2016-07-01 01:00  37.528000  10.136000   4.435  1.215   \n",
       "2      series_1  2016-07-01 02:00  37.946999  11.309000   2.100  0.000   \n",
       "3      series_1  2016-07-01 03:00  38.952000  11.895000   3.380  1.215   \n",
       "4      series_1  2016-07-01 04:00  38.113998  11.476000   2.036  0.000   \n",
       "...         ...               ...        ...        ...     ...    ...   \n",
       "17391  series_1  2018-06-25 15:00  36.104000  17.004999  -9.542 -2.463   \n",
       "17392  series_1  2018-06-25 16:00  40.041000  10.471000 -10.757 -1.844   \n",
       "17393  series_1  2018-06-25 17:00  39.622002  10.722000 -10.757 -1.844   \n",
       "17394  series_1  2018-06-25 18:00  39.202999   9.801000  -9.499 -1.290   \n",
       "17395  series_1  2018-06-25 19:00  37.778999   8.796000  -9.499 -1.535   \n",
       "\n",
       "            MUFL    MULL         OT  \n",
       "0      36.535999   9.355  38.661999  \n",
       "1      33.936001   7.532  37.124001  \n",
       "2      35.330002   9.007  36.465000  \n",
       "3      35.543999   9.436  33.608501  \n",
       "4      35.410000   9.623  31.850500  \n",
       "...          ...     ...        ...  \n",
       "17391  45.917999  11.661  50.625000  \n",
       "17392  51.252998  11.366  49.745998  \n",
       "17393  50.931000  11.124  48.867001  \n",
       "17394  49.055000  10.079  47.988499  \n",
       "17395  47.125000   8.953  46.450001  \n",
       "\n",
       "[17396 rows x 9 columns]"
      ]
     },
     "execution_count": 14,
     "metadata": {},
     "output_type": "execute_result"
    }
   ],
   "source": [
    "from datetime import timedelta\n",
    "\n",
    "ext = '_1'\n",
    "df_gluonts_pivot = df_gluonts.pivot(index='start', columns='item_id', values='target',).reset_index().rename_axis(None, axis=1)\n",
    "\n",
    "timestamp = df_gluonts_pivot.loc[0, 'start']\n",
    "series_id = 'series' + ext\n",
    "\n",
    "length_of_lists = len(df_gluonts_pivot.loc[0, 'HUFL'+ext])\n",
    "\n",
    "timeseries_df = {\n",
    "    'series_id': [series_id] * length_of_lists,\n",
    "    'timestamp': [timestamp + timedelta(hours=i) for i in range(length_of_lists)],\n",
    "    'HUFL': df_gluonts_pivot.loc[0, 'HUFL'+ext],\n",
    "    'HULL': df_gluonts_pivot.loc[0, 'HULL'+ext],\n",
    "    'LUFL': df_gluonts_pivot.loc[0, 'LUFL'+ext],\n",
    "    'LULL': df_gluonts_pivot.loc[0, 'LULL'+ext],\n",
    "    'MUFL': df_gluonts_pivot.loc[0, 'MUFL'+ext],\n",
    "    'MULL': df_gluonts_pivot.loc[0, 'MULL'+ext],\n",
    "    'OT': df_gluonts_pivot.loc[0, 'OT'+ext],\n",
    "}\n",
    "\n",
    "timeseries_df = pd.DataFrame(timeseries_df)\n",
    "\n",
    "timeseries_df"
   ]
  },
  {
   "cell_type": "markdown",
   "id": "6f989bd8",
   "metadata": {},
   "source": [
    "# Identify columns to use for the dataset"
   ]
  },
  {
   "cell_type": "code",
   "execution_count": 15,
   "id": "b67e68de",
   "metadata": {},
   "outputs": [],
   "source": [
    "series_col = \"series_id\"\n",
    "epoch_col = ''\n",
    "time_col = 'timestamp'\n",
    "value_col = 'OT'\n",
    "exog_cols=['HUFL', 'HULL', 'MUFL', 'MULL', 'LUFL', 'LULL' ]"
   ]
  },
  {
   "cell_type": "markdown",
   "id": "5e9cfa83",
   "metadata": {},
   "source": [
    "# Visualize"
   ]
  },
  {
   "cell_type": "code",
   "execution_count": 16,
   "id": "da36587a",
   "metadata": {},
   "outputs": [
    {
     "data": {
      "image/png": "[encoded data removed]",
      "text/plain": [
       "<Figure size 1500x500 with 1 Axes>"
      ]
     },
     "metadata": {},
     "output_type": "display_data"
    }
   ],
   "source": [
    "plt.style.use('seaborn-v0_8-darkgrid')\n",
    "\n",
    "fig, ax = plt.subplots(figsize=(15, 5))\n",
    "timeseries_df.plot(x=time_col, y=value_col, ax=ax)\n",
    "for exog_col in exog_cols[:2]:\n",
    "    ax.plot(timeseries_df[time_col], timeseries_df[exog_col], label=exog_col)\n",
    "plt.title(f\"Time series data\")\n",
    "plt.grid(True)\n",
    "plt.legend()\n",
    "plt.show()\n"
   ]
  },
  {
   "cell_type": "markdown",
   "id": "3434d5f6",
   "metadata": {},
   "source": [
    "# Save Data"
   ]
  },
  {
   "cell_type": "code",
   "execution_count": 17,
   "id": "b637304e",
   "metadata": {},
   "outputs": [],
   "source": [
    "timeseries_df.sort_values(by=[series_col, time_col], inplace=True)\n",
    "timeseries_df.to_csv(outp_fname, index=False)"
   ]
  },
  {
   "cell_type": "code",
   "execution_count": 18,
   "id": "b1077b18",
   "metadata": {},
   "outputs": [
    {
     "data": {
      "text/plain": [
       "(17396, 9)"
      ]
     },
     "execution_count": 18,
     "metadata": {},
     "output_type": "execute_result"
    }
   ],
   "source": [
    "timeseries_df.shape"
   ]
  }
 ],
 "metadata": {
  "kernelspec": {
   "display_name": "Python 3 (ipykernel)",
   "language": "python",
   "name": "python3"
  },
  "language_info": {
   "codemirror_mode": {
    "name": "ipython",
    "version": 3
   },
   "file_extension": ".py",
   "mimetype": "text/x-python",
   "name": "python",
   "nbconvert_exporter": "python",
   "pygments_lexer": "ipython3",
   "version": "3.11.4"
  }
 },
 "nbformat": 4,
 "nbformat_minor": 5
}
