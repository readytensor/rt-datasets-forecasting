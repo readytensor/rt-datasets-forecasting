{
 "cells": [
  {
   "cell_type": "code",
   "execution_count": 42,
   "id": "ace59756",
   "metadata": {},
   "outputs": [],
   "source": [
    "import pandas as pd\n",
    "from typing import List, Tuple, Dict, Any\n",
    "import numpy as np\n",
    "from datetime import datetime, timedelta\n",
    "from dateutil.relativedelta import relativedelta\n",
    "import os\n",
    "import sys\n",
    "import random\n",
    "import matplotlib.pyplot as plt"
   ]
  },
  {
   "cell_type": "code",
   "execution_count": 43,
   "id": "b031a521",
   "metadata": {},
   "outputs": [],
   "source": [
    "dataset_name = \"m4_yearly_sampled_series\""
   ]
  },
  {
   "cell_type": "code",
   "execution_count": 44,
   "id": "d3e286fc",
   "metadata": {},
   "outputs": [],
   "source": [
    "input_fname = \"m4_yearly_dataset.tsf\"\n",
    "output_dir = f'./../../processed/{dataset_name}/'\n",
    "outp_fname = os.path.join(output_dir, f'{dataset_name}.csv')\n",
    "outp_fig_fname = os.path.join(output_dir, f'{dataset_name}.png')"
   ]
  },
  {
   "cell_type": "markdown",
   "id": "83053b11",
   "metadata": {},
   "source": [
    "# Read Data"
   ]
  },
  {
   "cell_type": "code",
   "execution_count": 45,
   "id": "cc885624",
   "metadata": {},
   "outputs": [],
   "source": [
    "def data_line_generator(filepath: str):\n",
    "    \"\"\"\n",
    "    Generator function that yields each line of data after the '@data' marker in the file.\n",
    "\n",
    "    Args:\n",
    "    filepath (str): The path to the file from which to read the data.\n",
    "\n",
    "    Yields:\n",
    "    str: The next line of data from the file.\n",
    "    \"\"\"\n",
    "    with open(filepath, 'r') as file:\n",
    "        # Iterate over the file until the '@data' marker is found\n",
    "        for line in file:\n",
    "            if line.strip() == \"@data\":\n",
    "                break\n",
    "\n",
    "        # Yield each line of data after the '@data' marker\n",
    "        for line in file:\n",
    "            if not line.strip():  # Skip any empty lines that may be present\n",
    "                continue\n",
    "            yield line.strip()"
   ]
  },
  {
   "cell_type": "code",
   "execution_count": 46,
   "id": "d04e94ca",
   "metadata": {},
   "outputs": [
    {
     "data": {
      "text/plain": [
       "['1979-01-01 12-00-00',\n",
       " '1980-01-01 12-00-00',\n",
       " '1981-01-01 12-00-00',\n",
       " '1982-01-01 12-00-00',\n",
       " '1983-01-01 12-00-00']"
      ]
     },
     "execution_count": 46,
     "metadata": {},
     "output_type": "execute_result"
    }
   ],
   "source": [
    "def generate_timestamps(start_timestamp_str: str, time_steps: int) -> List[str]:\n",
    "    \"\"\"\n",
    "    Generates a list of yearly timestamps starting with the given timestamp and incrementing by 1 year. \n",
    "\n",
    "    Args:\n",
    "        start_timestamp_str (str): The starting timestamp in string format 'YYYY-MM-DD HH-MM-SS'.\n",
    "        time_steps (int): The number of yearly time steps to generate.\n",
    "\n",
    "    Returns:\n",
    "        List[str]: A list of timestamps in string format incremented yearly.\n",
    "    \"\"\"\n",
    "    # Convert the start timestamp string to a datetime object\n",
    "    start_timestamp = datetime.strptime(start_timestamp_str, \"%Y-%m-%d %H-%M-%S\")\n",
    "    \n",
    "    # Generate a list of timestamps\n",
    "    timestamps = [start_timestamp + relativedelta(years=i) for i in range(time_steps)]\n",
    "    \n",
    "    # Convert the timestamps back to strings\n",
    "    timestamp_strs = [timestamp.strftime(\"%Y-%m-%d %H-%M-%S\") for timestamp in timestamps]\n",
    "    \n",
    "    return timestamp_strs\n",
    "\n",
    "# Test the function with a start timestamp and 5 time steps\n",
    "test_timestamps = generate_timestamps(\"1979-01-01 12-00-00\", 5)\n",
    "test_timestamps"
   ]
  },
  {
   "cell_type": "markdown",
   "id": "9db0beca",
   "metadata": {},
   "source": [
    "# Find most common start and end years of series\n",
    "Each series in the m4 yearly dataset has it's own start year and end year. We want to find the start-end combinations which have the most number of series. We will pick from that list of series. "
   ]
  },
  {
   "cell_type": "code",
   "execution_count": 47,
   "id": "8a0f9d12",
   "metadata": {},
   "outputs": [],
   "source": [
    "data_gen = data_line_generator(input_fname)\n",
    "\n",
    "def find_counts_for_series_start_year_and_length(max_series=10000):\n",
    "    timestamp_lookup_dict = {}\n",
    "    for i in range(max_series):\n",
    "        try:\n",
    "            line = next(data_gen)\n",
    "            fields = line.split(\":\")\n",
    "            series_start_datetime = fields[1]\n",
    "            num_time_steps = len(fields[-1].split(\",\"))\n",
    "            timestamp_lookup = (series_start_datetime, num_time_steps)\n",
    "            if timestamp_lookup not in timestamp_lookup_dict:\n",
    "                # timestamp_lookup_dict[timestamp_lookup] = generate_timestamps(*timestamp_lookup)\n",
    "                timestamp_lookup_dict[timestamp_lookup] = 1\n",
    "            else: \n",
    "                timestamp_lookup_dict[timestamp_lookup] += 1\n",
    "        except StopIteration: \n",
    "            break\n",
    "        except Exception as e:\n",
    "            # If any other exception occurs, print the error and the problematic line\n",
    "            print(\"An error occurred:\", e)\n",
    "            print(\"Problematic line:\", line)\n",
    "    return timestamp_lookup_dict\n",
    "\n",
    "timestamp_lookup_dict = find_counts_for_series_start_year_and_length(max_series=10000)"
   ]
  },
  {
   "cell_type": "code",
   "execution_count": 48,
   "id": "f4261b11",
   "metadata": {},
   "outputs": [
    {
     "data": {
      "text/plain": [
       "2237"
      ]
     },
     "execution_count": 48,
     "metadata": {},
     "output_type": "execute_result"
    }
   ],
   "source": [
    "max_count = max(timestamp_lookup_dict.values())\n",
    "max_count\n",
    "# Some start-end year combination occurs 2237 times"
   ]
  },
  {
   "cell_type": "code",
   "execution_count": 49,
   "id": "6d2c231f",
   "metadata": {},
   "outputs": [
    {
     "data": {
      "text/plain": [
       "[('1969-01-01 12-00-00', 46)]"
      ]
     },
     "execution_count": 49,
     "metadata": {},
     "output_type": "execute_result"
    }
   ],
   "source": [
    "# Find the start year for this (there may be multiple, so using a list)\n",
    "max_count_tuple = [k for k, v in timestamp_lookup_dict.items() if v == max_count]\n",
    "max_count_tuple"
   ]
  },
  {
   "cell_type": "code",
   "execution_count": 50,
   "id": "54ad6b3f",
   "metadata": {},
   "outputs": [
    {
     "name": "stdout",
     "output_type": "stream",
     "text": [
      "1969 46\n"
     ]
    }
   ],
   "source": [
    "max_count_start_year = max_count_tuple[0][0][:4]\n",
    "max_count_num_steps = max_count_tuple[0][1]\n",
    "print(max_count_start_year, max_count_num_steps)"
   ]
  },
  {
   "cell_type": "markdown",
   "id": "2ac1a8c6",
   "metadata": {},
   "source": [
    "We will now filter data to contain only series which start in the year 1969, and which have length 46 (i.e. they end in the year 2014). "
   ]
  },
  {
   "cell_type": "markdown",
   "id": "27a253f1",
   "metadata": {},
   "source": [
    "## Filter Series for start 1969 and end 2014"
   ]
  },
  {
   "cell_type": "code",
   "execution_count": 51,
   "id": "48d967de",
   "metadata": {},
   "outputs": [
    {
     "name": "stdout",
     "output_type": "stream",
     "text": [
      "                  year series  value\n",
      "0  1969-01-01 12-00-00   T825  366.8\n",
      "1  1970-01-01 12-00-00   T825  369.8\n",
      "2  1971-01-01 12-00-00   T825  382.9\n",
      "3  1972-01-01 12-00-00   T825  417.4\n",
      "4  1973-01-01 12-00-00   T825  459.0\n",
      "(102948, 3)\n"
     ]
    }
   ],
   "source": [
    "data_gen = data_line_generator(input_fname)\n",
    "\n",
    "def process_data(max_series):\n",
    "    df_list = []\n",
    "    timestamp_lookup_dict = {}\n",
    "    for i in range(max_series):\n",
    "        try:\n",
    "            line = next(data_gen)\n",
    "            fields = line.split(\":\")\n",
    "            series_name = fields[0]\n",
    "            series_start_datetime = fields[1]\n",
    "            series_vals = fields[-1].split(\",\")\n",
    "            num_time_steps = len(series_vals)\n",
    "            \n",
    "            # filter for target start year and num of years\n",
    "            if series_start_datetime[:4] != max_count_start_year or num_time_steps != max_count_num_steps:\n",
    "                continue\n",
    "                            \n",
    "            timestamp_lookup = (series_start_datetime, num_time_steps)\n",
    "            if timestamp_lookup not in timestamp_lookup_dict:\n",
    "                timestamp_lookup_dict[timestamp_lookup] = generate_timestamps(*timestamp_lookup)\n",
    "            timestamps_list = timestamp_lookup_dict[timestamp_lookup]\n",
    "# #             print(i, fields[:5], timestamp_lookup, len(timestamps_list))\n",
    "            df = pd.DataFrame({'year': timestamps_list})\n",
    "            df['series'] = series_name\n",
    "            df['value'] = series_vals\n",
    "            df['value'] = df['value'].astype(float)\n",
    "            df_list.append(df)\n",
    "#             print(df)\n",
    "#             sys.exit()\n",
    "        except StopIteration: \n",
    "            break\n",
    "        except Exception as e:\n",
    "            # If any other exception occurs, print the error and the problematic line\n",
    "            print(\"An error occurred:\", e)\n",
    "            print(\"Problematic line:\", line)\n",
    "    all_data = pd.concat(df_list)\n",
    "    return all_data\n",
    "        \n",
    "all_data = process_data(max_series=10000)\n",
    "print(all_data.head())\n",
    "print(all_data.shape)"
   ]
  },
  {
   "cell_type": "code",
   "execution_count": 52,
   "id": "93dc972b",
   "metadata": {},
   "outputs": [
    {
     "data": {
      "text/plain": [
       "46"
      ]
     },
     "execution_count": 52,
     "metadata": {},
     "output_type": "execute_result"
    }
   ],
   "source": [
    "all_data['series'].value_counts().max()"
   ]
  },
  {
   "cell_type": "markdown",
   "id": "11ee6cf4",
   "metadata": {},
   "source": [
    "# Sample 100 Series"
   ]
  },
  {
   "cell_type": "code",
   "execution_count": 53,
   "id": "8542c9d2",
   "metadata": {},
   "outputs": [
    {
     "name": "stdout",
     "output_type": "stream",
     "text": [
      "2238\n",
      "['T7531', 'T7532', 'T7533', 'T7534', 'T7535', 'T7536', 'T7537', 'T7538', 'T7539', 'T7540']\n"
     ]
    }
   ],
   "source": [
    "unique_series = all_data['series'].unique().tolist()\n",
    "print(len(unique_series))\n",
    "print(unique_series[-10:])"
   ]
  },
  {
   "cell_type": "code",
   "execution_count": 54,
   "id": "17c085c0",
   "metadata": {},
   "outputs": [
    {
     "name": "stdout",
     "output_type": "stream",
     "text": [
      "100\n",
      "['T4656', 'T4362', 'T5178', 'T6992', 'T5481', 'T5881', 'T5953', 'T6867', 'T6806', 'T842']\n"
     ]
    }
   ],
   "source": [
    "random.seed(123)\n",
    "sampled_series = random.sample(unique_series, 100)\n",
    "print(len(sampled_series))\n",
    "print(sampled_series[-10:])"
   ]
  },
  {
   "cell_type": "markdown",
   "id": "93dc2ada",
   "metadata": {},
   "source": [
    "# Final Data"
   ]
  },
  {
   "cell_type": "code",
   "execution_count": 55,
   "id": "ee535b34",
   "metadata": {},
   "outputs": [],
   "source": [
    "# Filter to the sample\n",
    "final_data = all_data[all_data['series'].isin(sampled_series)].reset_index(drop=True)"
   ]
  },
  {
   "cell_type": "code",
   "execution_count": 56,
   "id": "c8e0af4b",
   "metadata": {},
   "outputs": [],
   "source": [
    "# Convert year to 'YYYY-MM-DD' form\n",
    "final_data['year'] = final_data['year'].apply(lambda s: s[:10])"
   ]
  },
  {
   "cell_type": "code",
   "execution_count": 57,
   "id": "a89d0fee",
   "metadata": {},
   "outputs": [
    {
     "data": {
      "text/plain": [
       "array(['1969-01-01', '1970-01-01', '1971-01-01', '1972-01-01',\n",
       "       '1973-01-01', '1974-01-01', '1975-01-01', '1976-01-01',\n",
       "       '1977-01-01', '1978-01-01', '1979-01-01', '1980-01-01',\n",
       "       '1981-01-01', '1982-01-01', '1983-01-01', '1984-01-01',\n",
       "       '1985-01-01', '1986-01-01', '1987-01-01', '1988-01-01',\n",
       "       '1989-01-01', '1990-01-01', '1991-01-01', '1992-01-01',\n",
       "       '1993-01-01', '1994-01-01', '1995-01-01', '1996-01-01',\n",
       "       '1997-01-01', '1998-01-01', '1999-01-01', '2000-01-01',\n",
       "       '2001-01-01', '2002-01-01', '2003-01-01', '2004-01-01',\n",
       "       '2005-01-01', '2006-01-01', '2007-01-01', '2008-01-01',\n",
       "       '2009-01-01', '2010-01-01', '2011-01-01', '2012-01-01',\n",
       "       '2013-01-01', '2014-01-01'], dtype=object)"
      ]
     },
     "execution_count": 57,
     "metadata": {},
     "output_type": "execute_result"
    }
   ],
   "source": [
    "final_data['year'].unique()"
   ]
  },
  {
   "cell_type": "code",
   "execution_count": 58,
   "id": "3dde8f4b",
   "metadata": {},
   "outputs": [],
   "source": [
    "series_col = \"series\"\n",
    "epoch_col = 'epoch'\n",
    "epoch_label = \"year_num\"\n",
    "time_col = 'year'\n",
    "value_col = 'value'\n",
    "exog_cols = []"
   ]
  },
  {
   "cell_type": "markdown",
   "id": "b088947d",
   "metadata": {},
   "source": [
    "# Add Epochs"
   ]
  },
  {
   "cell_type": "code",
   "execution_count": 59,
   "id": "5afe098f",
   "metadata": {},
   "outputs": [
    {
     "data": {
      "text/html": [
       "<div>\n",
       "<style scoped>\n",
       "    .dataframe tbody tr th:only-of-type {\n",
       "        vertical-align: middle;\n",
       "    }\n",
       "\n",
       "    .dataframe tbody tr th {\n",
       "        vertical-align: top;\n",
       "    }\n",
       "\n",
       "    .dataframe thead th {\n",
       "        text-align: right;\n",
       "    }\n",
       "</style>\n",
       "<table border=\"1\" class=\"dataframe\">\n",
       "  <thead>\n",
       "    <tr style=\"text-align: right;\">\n",
       "      <th></th>\n",
       "      <th>year</th>\n",
       "      <th>epoch</th>\n",
       "      <th>series</th>\n",
       "      <th>value</th>\n",
       "    </tr>\n",
       "  </thead>\n",
       "  <tbody>\n",
       "    <tr>\n",
       "      <th>0</th>\n",
       "      <td>1969-01-01</td>\n",
       "      <td>0</td>\n",
       "      <td>T842</td>\n",
       "      <td>205.0142</td>\n",
       "    </tr>\n",
       "    <tr>\n",
       "      <th>1</th>\n",
       "      <td>1970-01-01</td>\n",
       "      <td>1</td>\n",
       "      <td>T842</td>\n",
       "      <td>231.7463</td>\n",
       "    </tr>\n",
       "    <tr>\n",
       "      <th>2</th>\n",
       "      <td>1971-01-01</td>\n",
       "      <td>2</td>\n",
       "      <td>T842</td>\n",
       "      <td>255.7048</td>\n",
       "    </tr>\n",
       "    <tr>\n",
       "      <th>3</th>\n",
       "      <td>1972-01-01</td>\n",
       "      <td>3</td>\n",
       "      <td>T842</td>\n",
       "      <td>277.5605</td>\n",
       "    </tr>\n",
       "    <tr>\n",
       "      <th>4</th>\n",
       "      <td>1973-01-01</td>\n",
       "      <td>4</td>\n",
       "      <td>T842</td>\n",
       "      <td>301.3527</td>\n",
       "    </tr>\n",
       "  </tbody>\n",
       "</table>\n",
       "</div>"
      ],
      "text/plain": [
       "         year  epoch series     value\n",
       "0  1969-01-01      0   T842  205.0142\n",
       "1  1970-01-01      1   T842  231.7463\n",
       "2  1971-01-01      2   T842  255.7048\n",
       "3  1972-01-01      3   T842  277.5605\n",
       "4  1973-01-01      4   T842  301.3527"
      ]
     },
     "execution_count": 59,
     "metadata": {},
     "output_type": "execute_result"
    }
   ],
   "source": [
    "if epoch_col not in final_data: \n",
    "    unique_times = sorted(final_data[time_col].drop_duplicates().tolist())\n",
    "    times_to_epoch = {\n",
    "        t: i for i, t in enumerate(unique_times)\n",
    "    }\n",
    "    #print(yrmt_to_epoch)\n",
    "    final_data.insert(1, epoch_col, final_data[time_col].map(times_to_epoch))\n",
    "final_data.head()"
   ]
  },
  {
   "cell_type": "markdown",
   "id": "9ad305f8",
   "metadata": {},
   "source": [
    "# Save Main Data File"
   ]
  },
  {
   "cell_type": "code",
   "execution_count": 60,
   "id": "712a9c5f",
   "metadata": {},
   "outputs": [],
   "source": [
    "all_cols = [series_col, epoch_col, value_col] + exog_cols"
   ]
  },
  {
   "cell_type": "code",
   "execution_count": 61,
   "id": "3911d1c0",
   "metadata": {},
   "outputs": [],
   "source": [
    "final_data[all_cols].to_csv(outp_fname, index=False)"
   ]
  },
  {
   "cell_type": "code",
   "execution_count": null,
   "id": "14387439",
   "metadata": {},
   "outputs": [],
   "source": []
  }
 ],
 "metadata": {
  "kernelspec": {
   "display_name": "Python 3 (ipykernel)",
   "language": "python",
   "name": "python3"
  },
  "language_info": {
   "codemirror_mode": {
    "name": "ipython",
    "version": 3
   },
   "file_extension": ".py",
   "mimetype": "text/x-python",
   "name": "python",
   "nbconvert_exporter": "python",
   "pygments_lexer": "ipython3",
   "version": "3.11.5"
  }
 },
 "nbformat": 4,
 "nbformat_minor": 5
}
