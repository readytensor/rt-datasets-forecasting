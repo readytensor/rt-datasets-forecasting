{
 "cells": [
  {
   "cell_type": "code",
   "execution_count": 17,
   "id": "03e77323",
   "metadata": {},
   "outputs": [],
   "source": [
    "import pandas as pd\n",
    "import os"
   ]
  },
  {
   "cell_type": "code",
   "execution_count": 18,
   "id": "6fbdc77b",
   "metadata": {},
   "outputs": [],
   "source": [
    "dataset_name = \"synthetic_retail_network_sales\""
   ]
  },
  {
   "cell_type": "code",
   "execution_count": 19,
   "id": "11bb6e53",
   "metadata": {},
   "outputs": [],
   "source": [
    "output_dir = f'./../../processed/{dataset_name}/'\n",
    "outp_fname = os.path.join(output_dir, f'{dataset_name}.csv')"
   ]
  },
  {
   "cell_type": "code",
   "execution_count": 20,
   "id": "9867b58d",
   "metadata": {},
   "outputs": [],
   "source": [
    "data = pd.read_csv(\"synthetic_retail_network_sales_full.csv\", parse_dates=['date_time'])"
   ]
  },
  {
   "cell_type": "code",
   "execution_count": 21,
   "id": "d8fa67d5",
   "metadata": {},
   "outputs": [],
   "source": [
    "data.to_csv(outp_fname, index=False, float_format=\"%.3f\")"
   ]
  },
  {
   "cell_type": "code",
   "execution_count": null,
   "id": "1b55a102",
   "metadata": {},
   "outputs": [],
   "source": []
  }
 ],
 "metadata": {
  "kernelspec": {
   "display_name": "Python 3 (ipykernel)",
   "language": "python",
   "name": "python3"
  },
  "language_info": {
   "codemirror_mode": {
    "name": "ipython",
    "version": 3
   },
   "file_extension": ".py",
   "mimetype": "text/x-python",
   "name": "python",
   "nbconvert_exporter": "python",
   "pygments_lexer": "ipython3",
   "version": "3.11.5"
  }
 },
 "nbformat": 4,
 "nbformat_minor": 5
}
